{
 "cells": [
  {
   "cell_type": "code",
   "execution_count": null,
   "id": "f213f10e",
   "metadata": {
    "id": "f213f10e"
   },
   "outputs": [],
   "source": [
    "#pip install torch==1.7.1+cu101 torchvision==0.8.2+cu101 torchaudio==0.7.2 -f https://download.pytorch.org/whl/torch_stable.html"
   ]
  },
  {
   "cell_type": "code",
   "execution_count": null,
   "id": "957b25f6",
   "metadata": {
    "id": "957b25f6"
   },
   "outputs": [],
   "source": [
    "#pip install iisignature"
   ]
  },
  {
   "cell_type": "code",
   "execution_count": null,
   "id": "481cd5d2",
   "metadata": {
    "id": "481cd5d2"
   },
   "outputs": [],
   "source": [
    "#pip install --upgrade pip"
   ]
  },
  {
   "cell_type": "code",
   "execution_count": null,
   "id": "7554e205",
   "metadata": {
    "id": "7554e205"
   },
   "outputs": [],
   "source": [
    "#pip install git+https://github.com/pymanopt/pymanopt.git@master"
   ]
  },
  {
   "cell_type": "code",
   "execution_count": null,
   "id": "e815fd92",
   "metadata": {
    "id": "e815fd92"
   },
   "outputs": [],
   "source": [
    "#pip install pymanopt"
   ]
  },
  {
   "cell_type": "code",
   "execution_count": null,
   "id": "b2389362",
   "metadata": {
    "id": "b2389362"
   },
   "outputs": [],
   "source": [
    "#pip install -U requirements.txt"
   ]
  },
  {
   "cell_type": "code",
   "execution_count": null,
   "id": "3f1504ab",
   "metadata": {
    "id": "3f1504ab"
   },
   "outputs": [],
   "source": [
    "#pip install signatory==1.2.6.1.7.1 --no-cache-dir --force-reinstall"
   ]
  },
  {
   "cell_type": "code",
   "execution_count": null,
   "id": "978b16ab",
   "metadata": {
    "id": "978b16ab",
    "outputId": "5a116039-add6-4784-c021-b529eeb7c555"
   },
   "outputs": [],
   "source": [
    "import torch\n",
    "import numpy as np\n",
    "import signatory\n",
    "import matplotlib.pyplot as plt\n",
    "\n",
    "\n",
    "from signaturemean.barycenters import mean_le\n",
    "from signaturemean.barycenters import mean_pennec\n",
    "from signaturemean.barycenters import mean_tsoptim\n",
    "from signaturemean import utils\n",
    "\n",
    "batch = 5     # number of time series\n",
    "stream = 30   # number of timestamps for each time series\n",
    "channels = 3  # number of dimensions\n",
    "depth = 4     # depth (order) of truncation of the signature\n",
    "\n",
    "# Simulate random data\n",
    "paths = torch.rand(batch, stream, channels)   # simulate random numbers\n",
    "paths = utils.datashift(paths)    # paths start at zero\n",
    "X = utils.datascaling(paths)  # paths have total variation = 1\n",
    "SX = signatory.signature(X, depth=depth)\n",
    "\n",
    "## Compute barycenter with each approach\n",
    "# Approach 1: log euclidean mean\n",
    "print(mean_le.mean(SX, depth, channels))  # returns a signature\n",
    "# Approach 2: group exponential method\n",
    "print(mean_pennec.mean(SX, depth, channels))  # returns a signature\n",
    "# Approach 3: optimization on path space\n",
    "tso = mean_tsoptim.TSoptim(depth, channels, 1641)\n",
    "tso.fit(X)\n",
    "print(tso.barycenter_ts)  # returns a path\n"
   ]
  },
  {
   "cell_type": "code",
   "execution_count": null,
   "id": "34fedab3",
   "metadata": {
    "id": "34fedab3"
   },
   "outputs": [],
   "source": [
    "from signaturemean.clustering import kmeans"
   ]
  },
  {
   "cell_type": "code",
   "execution_count": null,
   "id": "3323194e",
   "metadata": {
    "id": "3323194e",
    "outputId": "e304ffa0-17b0-468a-8a5d-a99a103fa49b"
   },
   "outputs": [],
   "source": [
    "X"
   ]
  },
  {
   "cell_type": "code",
   "execution_count": null,
   "id": "2a1acdb6",
   "metadata": {
    "id": "2a1acdb6"
   },
   "outputs": [],
   "source": [
    "#pip install --user numpy"
   ]
  },
  {
   "cell_type": "code",
   "execution_count": null,
   "id": "a3a0e476",
   "metadata": {
    "id": "a3a0e476"
   },
   "outputs": [],
   "source": [
    "#pip list"
   ]
  },
  {
   "cell_type": "code",
   "execution_count": null,
   "id": "9a72d7ee",
   "metadata": {
    "id": "9a72d7ee"
   },
   "outputs": [],
   "source": [
    "#pip install -U pymanopt==0.2.6rc1"
   ]
  },
  {
   "cell_type": "code",
   "execution_count": null,
   "id": "50fda116",
   "metadata": {
    "id": "50fda116"
   },
   "outputs": [],
   "source": [
    "#pip install cython"
   ]
  },
  {
   "cell_type": "code",
   "execution_count": null,
   "id": "318a9050",
   "metadata": {
    "id": "318a9050"
   },
   "outputs": [],
   "source": [
    "#conda info --envs"
   ]
  },
  {
   "cell_type": "code",
   "execution_count": null,
   "id": "425f477b",
   "metadata": {
    "id": "425f477b"
   },
   "outputs": [],
   "source": [
    "#pip install C:/Users/gabri/OneDrive/Bureau/signaturemean-0.0.1.tar.gz"
   ]
  },
  {
   "cell_type": "code",
   "execution_count": null,
   "id": "e33568ca",
   "metadata": {
    "id": "e33568ca"
   },
   "outputs": [],
   "source": [
    "#import sys\n",
    "#print(sys.path)"
   ]
  },
  {
   "cell_type": "code",
   "execution_count": null,
   "id": "b5502581",
   "metadata": {
    "id": "b5502581"
   },
   "outputs": [],
   "source": [
    "#conda install pyproject.toml-based projects"
   ]
  },
  {
   "cell_type": "code",
   "execution_count": null,
   "id": "c42cc73a",
   "metadata": {
    "id": "c42cc73a"
   },
   "outputs": [],
   "source": [
    "#pip install -U setuptools"
   ]
  },
  {
   "cell_type": "code",
   "execution_count": null,
   "id": "0f6868d6",
   "metadata": {
    "id": "0f6868d6"
   },
   "outputs": [],
   "source": [
    "batch = 125     # number of time series\n",
    "stream = 283   # number of timestamps for each time series\n",
    "channels = 3  # number of dimensions\n",
    "depth = 4     # depth (order) of truncation of the signature\n",
    "X = torch.rand(batch, stream, channels)   # simulate random numbers\n",
    "SX = signatory.signature(X, depth=depth)"
   ]
  },
  {
   "cell_type": "code",
   "execution_count": null,
   "id": "252945bb",
   "metadata": {
    "id": "252945bb",
    "outputId": "4131ad93-3d7c-4acd-f30b-bca6abcc58c7"
   },
   "outputs": [],
   "source": [
    "SX.size()"
   ]
  },
  {
   "cell_type": "code",
   "execution_count": null,
   "id": "f58484ac",
   "metadata": {
    "id": "f58484ac"
   },
   "outputs": [],
   "source": [
    "km1 = kmeans.KMeansSignature(n_clusters=2, depth=depth, channels=channels, random_state=1708, metric='euclidean', averaging='LE')"
   ]
  },
  {
   "cell_type": "code",
   "execution_count": null,
   "id": "f5d24fdd",
   "metadata": {
    "id": "f5d24fdd",
    "outputId": "7103db10-2d60-48bd-ac8a-2b55d3fe293d"
   },
   "outputs": [],
   "source": [
    "km1.fit(SX)"
   ]
  },
  {
   "cell_type": "code",
   "execution_count": null,
   "id": "68b416ea",
   "metadata": {
    "id": "68b416ea",
    "outputId": "ecdc5f77-b99c-48ad-c901-dcbf1e8ac7e4"
   },
   "outputs": [],
   "source": [
    "km1.__getattribute__(\"labels_\")"
   ]
  },
  {
   "cell_type": "code",
   "execution_count": null,
   "id": "4b909b31",
   "metadata": {
    "id": "4b909b31",
    "outputId": "9d724e7c-60dd-4822-9c09-235d1720eb94"
   },
   "outputs": [],
   "source": [
    "X.shape"
   ]
  },
  {
   "cell_type": "markdown",
   "id": "2e706862",
   "metadata": {
    "id": "2e706862"
   },
   "source": [
    "### Données Danone"
   ]
  },
  {
   "cell_type": "code",
   "execution_count": null,
   "id": "56e26514",
   "metadata": {
    "id": "56e26514"
   },
   "outputs": [],
   "source": [
    "depth=4 #profondeur\n",
    "n_clusters=3"
   ]
  },
  {
   "cell_type": "code",
   "execution_count": null,
   "id": "e080dad2",
   "metadata": {
    "id": "e080dad2"
   },
   "outputs": [],
   "source": [
    "import pandas as pd\n",
    "from sklearn.preprocessing import MinMaxScaler\n",
    "from tslearn.utils import to_time_series_dataset"
   ]
  },
  {
   "cell_type": "code",
   "execution_count": null,
   "id": "af592ad4",
   "metadata": {
    "id": "af592ad4",
    "scrolled": true
   },
   "outputs": [],
   "source": [
    "df = pd.read_parquet(\"C:/Users/gabri/OneDrive/Bureau/Cours ENSAE/2ème année/Stage/Données/forecasting.parquet.gzip\")\n",
    "df['time_index']=pd.to_datetime(df['time_index'])\n",
    "df['ordered_volumes_différenciée']=df['ordered_volumes']-df['ordered_volumes_minus_1']\n",
    "indice_produit=df['product_index'].unique()\n",
    "myseries=[df[['time_index','ordered_volumes']][df['product_index']==k] for k in indice_produit]\n",
    "myseries_différenciée=[df[['time_index','ordered_volumes_différenciée']][df['product_index']==k] for k in indice_produit]\n",
    "for k in range(len(myseries)):\n",
    "    myseries[k].set_index('time_index',inplace=True)\n",
    "    myseries[k].sort_index(inplace=True)\n",
    "    myseries_différenciée[k].set_index('time_index',inplace=True)\n",
    "    myseries_différenciée[k].sort_index(inplace=True)\n",
    "indice_temps=[series.index for series in myseries ]\n",
    "for i in range(len(myseries)):\n",
    "    scaler = MinMaxScaler()\n",
    "    myseries[i] = MinMaxScaler().fit_transform(myseries[i])\n",
    "    myseries_différenciée[i] = MinMaxScaler().fit_transform(myseries_différenciée[i][1:])\n",
    "SX=torch.zeros(125,30, dtype=torch.float64)\n",
    "X=[]\n",
    "for i in range(125):\n",
    "    serie=np.zeros((1,len(myseries_différenciée[i]),2))\n",
    "    for k in range(len(myseries_différenciée[i])):\n",
    "        serie[0][k]=np.array([myseries[i][1+k][0],myseries_différenciée[i][k][0]],dtype='float32')\n",
    "    X.append(torch.from_numpy(serie[0]).double())\n",
    "    SX[i]=signatory.signature(torch.from_numpy(serie),depth=depth)[0]"
   ]
  },
  {
   "cell_type": "code",
   "execution_count": null,
   "id": "8390fd4d",
   "metadata": {
    "id": "8390fd4d"
   },
   "outputs": [],
   "source": [
    "km1 = kmeans.KMeansSignature(n_clusters=n_clusters, depth=depth, channels=2, random_state=0, metric='euclidean', averaging='LE')"
   ]
  },
  {
   "cell_type": "code",
   "execution_count": null,
   "id": "77c99139",
   "metadata": {
    "id": "77c99139",
    "outputId": "9fbb481d-a90b-4791-b43d-8ae1b47b1083"
   },
   "outputs": [],
   "source": [
    "km1.fit(SX)"
   ]
  },
  {
   "cell_type": "code",
   "execution_count": null,
   "id": "acaa73ac",
   "metadata": {
    "id": "acaa73ac"
   },
   "outputs": [],
   "source": [
    "labels1=km1.labels_"
   ]
  },
  {
   "cell_type": "code",
   "execution_count": null,
   "id": "7e857fec",
   "metadata": {
    "id": "7e857fec",
    "outputId": "98468d9a-0a70-4f0d-c8cf-e9afeeea632e"
   },
   "outputs": [],
   "source": [
    "clusters1=[]\n",
    "for i in range(3):\n",
    "    cluster =[]\n",
    "    for k in range(125):\n",
    "        if labels1[k]==i:\n",
    "            cluster.append(indice_produit[k])\n",
    "    clusters1.append(cluster)\n",
    "clusters1"
   ]
  },
  {
   "cell_type": "code",
   "execution_count": null,
   "id": "e3f1b636",
   "metadata": {
    "id": "e3f1b636"
   },
   "outputs": [],
   "source": [
    "def toujours_ensemble(i,j,*args):\n",
    "    for k in args:\n",
    "        if k[i]!=k[j]:\n",
    "            return False\n",
    "    return True"
   ]
  },
  {
   "cell_type": "code",
   "execution_count": null,
   "id": "37902d02",
   "metadata": {
    "id": "37902d02"
   },
   "outputs": [],
   "source": [
    "def dans_liste_de_liste(l,i):\n",
    "    for k in l:\n",
    "        if i in k:\n",
    "            return True\n",
    "    return False"
   ]
  },
  {
   "cell_type": "code",
   "execution_count": null,
   "id": "acefabf0",
   "metadata": {
    "id": "acefabf0"
   },
   "outputs": [],
   "source": [
    "def indices_toujours_ensemble(*args):\n",
    "    l=[]\n",
    "    for i in range(125):\n",
    "        li=[]\n",
    "        if not dans_liste_de_liste(l,indice_produit[i]):\n",
    "            for j in range(125):\n",
    "                if toujours_ensemble(i,j,*args):\n",
    "                    li.append(indice_produit[j])\n",
    "            if len(li)>1:\n",
    "                l.append(li)\n",
    "    return l"
   ]
  },
  {
   "cell_type": "code",
   "execution_count": null,
   "id": "9eaaddfb",
   "metadata": {
    "id": "9eaaddfb"
   },
   "outputs": [],
   "source": [
    "arguments=kmeans.KMeansSignature(n_clusters=n_clusters, depth=depth,random_state=np.random.randint(1000), channels=2, metric='euclidean', averaging='LE').fit(SX).__getattribute__(\"labels_\"),kmeans.KMeansSignature(n_clusters=n_clusters, depth=depth, channels=2,random_state=np.random.randint(1000), metric='euclidean', averaging='LE').fit(SX).__getattribute__(\"labels_\"),kmeans.KMeansSignature(n_clusters=n_clusters, depth=depth, channels=2,random_state=np.random.randint(1000), metric='euclidean', averaging='LE').fit(SX).__getattribute__(\"labels_\"),kmeans.KMeansSignature(n_clusters=n_clusters, depth=depth, channels=2,random_state=np.random.randint(1000), metric='euclidean', averaging='LE').fit(SX).__getattribute__(\"labels_\"),kmeans.KMeansSignature(n_clusters=n_clusters, depth=depth, channels=2,random_state=np.random.randint(1000), metric='euclidean', averaging='LE').fit(SX).__getattribute__(\"labels_\")"
   ]
  },
  {
   "cell_type": "code",
   "execution_count": null,
   "id": "12026e8f",
   "metadata": {
    "id": "12026e8f"
   },
   "outputs": [],
   "source": [
    "a=indices_toujours_ensemble(*arguments)"
   ]
  },
  {
   "cell_type": "code",
   "execution_count": null,
   "id": "83d7850c",
   "metadata": {
    "id": "83d7850c",
    "outputId": "9eabf211-5902-4ad6-a970-428936f04bc6"
   },
   "outputs": [],
   "source": [
    "len(a)"
   ]
  },
  {
   "cell_type": "code",
   "execution_count": null,
   "id": "cac280a3",
   "metadata": {
    "id": "cac280a3",
    "outputId": "7140c667-0146-40cb-8877-d07d9829bd7c"
   },
   "outputs": [],
   "source": [
    "[len(k) for k in a]"
   ]
  },
  {
   "cell_type": "code",
   "execution_count": null,
   "id": "89df5c0f",
   "metadata": {
    "id": "89df5c0f",
    "outputId": "96225729-5ab3-48a4-b678-1eed12a24c8d"
   },
   "outputs": [],
   "source": [
    "sum([len(k) for k in a])"
   ]
  },
  {
   "cell_type": "code",
   "execution_count": null,
   "id": "f402dd14",
   "metadata": {
    "id": "f402dd14",
    "outputId": "260e8537-dd1b-4436-9aa4-0368b5c7d7de"
   },
   "outputs": [],
   "source": [
    "a[1]"
   ]
  },
  {
   "cell_type": "code",
   "execution_count": null,
   "id": "e5032c5b",
   "metadata": {
    "id": "e5032c5b",
    "outputId": "34d4e5e6-28fe-4df8-ea26-501573645db9"
   },
   "outputs": [],
   "source": [
    "a[0]"
   ]
  },
  {
   "cell_type": "code",
   "execution_count": null,
   "id": "478dca35",
   "metadata": {
    "id": "478dca35"
   },
   "outputs": [],
   "source": [
    "#fig, axs = plt.subplots(len(a[1])//4+1,4,figsize=(25,15))\n",
    "#row_i=0\n",
    "#column_j=0\n",
    "#for indice in a[1]:\n",
    "#    axs[row_i,column_j].plot(indice_temps[np.where(indice_produit==indice)[0][0]],myseries[np.where(indice_produit==indice)[0][0]],c=\"blue\")\n",
    "#    column_j+=1\n",
    "#    if column_j%4==0:\n",
    "#        row_i+=1\n",
    "#        column_j=0\n",
    "        \n",
    "#plt.show"
   ]
  },
  {
   "cell_type": "code",
   "execution_count": null,
   "id": "ac8928d0",
   "metadata": {
    "id": "ac8928d0"
   },
   "outputs": [],
   "source": [
    "km3 = kmeans.KMeansSignature(n_clusters=n_clusters, depth=depth, channels=2,random_state=np.random.randint(100000), stream_fixed=False, metric='euclidean', averaging='tsoptim',verbose=True)"
   ]
  },
  {
   "cell_type": "code",
   "execution_count": null,
   "id": "86a783ef",
   "metadata": {
    "id": "86a783ef",
    "outputId": "567c4613-3bff-4a75-dde7-25d6d6de872b"
   },
   "outputs": [],
   "source": [
    "km3.fit(X)"
   ]
  },
  {
   "cell_type": "code",
   "execution_count": null,
   "id": "eca453ba",
   "metadata": {
    "id": "eca453ba"
   },
   "outputs": [],
   "source": [
    "arguments2=kmeans.KMeansSignature(n_clusters=n_clusters, depth=depth, channels=2,random_state=np.random.randint(100000), stream_fixed=False, metric='euclidean', averaging='tsoptim').fit(X).labels_,kmeans.KMeansSignature(n_clusters=n_clusters, depth=depth, channels=2,random_state=np.random.randint(100000), stream_fixed=False, metric='euclidean', averaging='tsoptim').fit(X).labels_,kmeans.KMeansSignature(n_clusters=n_clusters, depth=depth, channels=2,random_state=np.random.randint(100000), stream_fixed=False, metric='euclidean', averaging='tsoptim').fit(X).labels_,kmeans.KMeansSignature(n_clusters=n_clusters, depth=depth, channels=2,random_state=np.random.randint(100000), stream_fixed=False, metric='euclidean', averaging='tsoptim').fit(X).labels_,kmeans.KMeansSignature(n_clusters=n_clusters, depth=depth, channels=2,random_state=np.random.randint(100000), stream_fixed=False, metric='euclidean', averaging='tsoptim').fit(X).labels_"
   ]
  },
  {
   "cell_type": "code",
   "execution_count": null,
   "id": "48162f15",
   "metadata": {
    "id": "48162f15"
   },
   "outputs": [],
   "source": [
    "b=indices_toujours_ensemble(*arguments2)"
   ]
  },
  {
   "cell_type": "code",
   "execution_count": null,
   "id": "29a437a5",
   "metadata": {
    "id": "29a437a5",
    "outputId": "2e6dae03-e278-4069-9671-da6df4efb37c"
   },
   "outputs": [],
   "source": [
    "[len(k) for k in b]"
   ]
  },
  {
   "cell_type": "code",
   "execution_count": null,
   "id": "ce5fa84d",
   "metadata": {
    "id": "ce5fa84d",
    "outputId": "fd4a2cbf-9081-48e4-8ff5-2bfeabc2d7a2"
   },
   "outputs": [],
   "source": [
    "sum([len(k) for k in b])"
   ]
  },
  {
   "cell_type": "code",
   "execution_count": null,
   "id": "0ca4fae9",
   "metadata": {
    "id": "0ca4fae9"
   },
   "outputs": [],
   "source": [
    "km2 = kmeans.KMeansSignature(n_clusters=n_clusters, depth=depth, channels=2,random_state=np.random.randint(100000), metric='euclidean', averaging='pennec',verbose=False)"
   ]
  },
  {
   "cell_type": "code",
   "execution_count": null,
   "id": "2ff3dee1",
   "metadata": {
    "id": "2ff3dee1",
    "outputId": "bff2c16e-cb45-45ce-ed49-52f04fe5e8cd"
   },
   "outputs": [],
   "source": [
    "km2.fit(SX)"
   ]
  },
  {
   "cell_type": "code",
   "execution_count": null,
   "id": "a58be976",
   "metadata": {
    "id": "a58be976",
    "outputId": "0978db6a-3313-4826-d91b-07d43f7bc2fa"
   },
   "outputs": [],
   "source": [
    "km2.labels_"
   ]
  },
  {
   "cell_type": "code",
   "execution_count": null,
   "id": "63c21d0a",
   "metadata": {
    "id": "63c21d0a"
   },
   "outputs": [],
   "source": [
    "arguments3=kmeans.KMeansSignature(n_clusters=n_clusters, depth=depth, channels=2,random_state=np.random.randint(100000), metric='euclidean', averaging='pennec',verbose=False).fit(SX).labels_,kmeans.KMeansSignature(n_clusters=n_clusters, depth=depth, channels=2,random_state=np.random.randint(100000), metric='euclidean', averaging='pennec',verbose=False).fit(SX).labels_,kmeans.KMeansSignature(n_clusters=n_clusters, depth=depth, channels=2,random_state=np.random.randint(100000), metric='euclidean', averaging='pennec',verbose=False).fit(SX).labels_,kmeans.KMeansSignature(n_clusters=n_clusters, depth=depth, channels=2,random_state=np.random.randint(100000), metric='euclidean', averaging='pennec',verbose=False).fit(SX).labels_,kmeans.KMeansSignature(n_clusters=n_clusters, depth=depth, channels=2,random_state=np.random.randint(100000), metric='euclidean', averaging='pennec',verbose=False).fit(SX).labels_"
   ]
  },
  {
   "cell_type": "code",
   "execution_count": null,
   "id": "6cd205f6",
   "metadata": {
    "id": "6cd205f6"
   },
   "outputs": [],
   "source": [
    "c=indices_toujours_ensemble(*arguments3)"
   ]
  },
  {
   "cell_type": "code",
   "execution_count": null,
   "id": "d6faceec",
   "metadata": {
    "id": "d6faceec",
    "outputId": "dd04f5d0-3509-4811-b0ce-73ed684ce6a4"
   },
   "outputs": [],
   "source": [
    "[len(k) for k in c]"
   ]
  },
  {
   "cell_type": "code",
   "execution_count": null,
   "id": "7e560a0e",
   "metadata": {
    "id": "7e560a0e",
    "outputId": "21e79257-972b-49d4-d83e-7b4a07c5a570"
   },
   "outputs": [],
   "source": [
    "sum([len(k) for k in c])"
   ]
  },
  {
   "cell_type": "code",
   "execution_count": null,
   "id": "2fea7028",
   "metadata": {
    "id": "2fea7028"
   },
   "outputs": [],
   "source": [
    "d=indices_toujours_ensemble(*arguments,*arguments2,*arguments3)"
   ]
  },
  {
   "cell_type": "code",
   "execution_count": null,
   "id": "2ef24058",
   "metadata": {
    "id": "2ef24058",
    "outputId": "caa3a63b-34c8-4406-fd14-066108a132d2"
   },
   "outputs": [],
   "source": [
    "[len(k) for k in d]"
   ]
  },
  {
   "cell_type": "code",
   "execution_count": null,
   "id": "e77606c3",
   "metadata": {
    "id": "e77606c3",
    "outputId": "5e2d45ec-9245-47a5-e516-d96eb62f6d69"
   },
   "outputs": [],
   "source": [
    "sum([len(k) for k in d])"
   ]
  },
  {
   "cell_type": "code",
   "execution_count": null,
   "id": "88aaa119",
   "metadata": {
    "id": "88aaa119"
   },
   "outputs": [],
   "source": [
    "e=indices_toujours_ensemble(*arguments,*arguments2)"
   ]
  },
  {
   "cell_type": "code",
   "execution_count": null,
   "id": "a89e2116",
   "metadata": {
    "id": "a89e2116",
    "outputId": "86b112fc-905b-483f-e4a9-21026f930bf1"
   },
   "outputs": [],
   "source": [
    "[len(k) for k in e]"
   ]
  },
  {
   "cell_type": "code",
   "execution_count": null,
   "id": "df059816",
   "metadata": {
    "id": "df059816",
    "outputId": "da2984b0-78c6-4e90-be5c-f63a0c8f8bc8"
   },
   "outputs": [],
   "source": [
    "sum([len(k) for k in e])"
   ]
  },
  {
   "cell_type": "code",
   "execution_count": null,
   "id": "2ddc33f6",
   "metadata": {
    "id": "2ddc33f6"
   },
   "outputs": [],
   "source": [
    "f=indices_toujours_ensemble(*arguments3,*arguments2)"
   ]
  },
  {
   "cell_type": "code",
   "execution_count": null,
   "id": "357be7bc",
   "metadata": {
    "id": "357be7bc",
    "outputId": "58b23de0-3baf-4132-a8dc-6c4f4affbf11"
   },
   "outputs": [],
   "source": [
    "[len(k) for k in f]"
   ]
  },
  {
   "cell_type": "code",
   "execution_count": null,
   "id": "32be5028",
   "metadata": {
    "id": "32be5028",
    "outputId": "058587ee-074f-4d9a-e719-58e49e6c8a84"
   },
   "outputs": [],
   "source": [
    "sum([len(k) for k in f])"
   ]
  },
  {
   "cell_type": "code",
   "execution_count": null,
   "id": "0c80a1e2",
   "metadata": {
    "id": "0c80a1e2"
   },
   "outputs": [],
   "source": [
    "g=indices_toujours_ensemble(*arguments,*arguments3)"
   ]
  },
  {
   "cell_type": "code",
   "execution_count": null,
   "id": "46afcc05",
   "metadata": {
    "id": "46afcc05",
    "outputId": "f1e0958f-4ac4-4c02-aa1b-293cb506bb85"
   },
   "outputs": [],
   "source": [
    "[len(k) for k in g]"
   ]
  },
  {
   "cell_type": "code",
   "execution_count": null,
   "id": "519205e9",
   "metadata": {
    "id": "519205e9",
    "outputId": "562694e0-b5dc-4ef3-f9cd-2f74e78503dd"
   },
   "outputs": [],
   "source": [
    "sum([len(k) for k in g])"
   ]
  },
  {
   "cell_type": "code",
   "execution_count": null,
   "id": "6d24931d",
   "metadata": {
    "id": "6d24931d",
    "outputId": "46e41095-3368-4269-dd51-edb74ed0ed15"
   },
   "outputs": [],
   "source": [
    "for k in range(min(len(g),len(c))):\n",
    "    print(g[k]==c[k])"
   ]
  },
  {
   "cell_type": "code",
   "execution_count": null,
   "id": "9addaf2f",
   "metadata": {
    "id": "9addaf2f"
   },
   "outputs": [],
   "source": []
  }
 ],
 "metadata": {
  "colab": {
   "provenance": []
  },
  "kernelspec": {
   "display_name": "Python 3 (ipykernel)",
   "language": "python",
   "name": "python3"
  },
  "language_info": {
   "codemirror_mode": {
    "name": "ipython",
    "version": 3
   },
   "file_extension": ".py",
   "mimetype": "text/x-python",
   "name": "python",
   "nbconvert_exporter": "python",
   "pygments_lexer": "ipython3",
   "version": "3.9.12"
  }
 },
 "nbformat": 4,
 "nbformat_minor": 5
}
