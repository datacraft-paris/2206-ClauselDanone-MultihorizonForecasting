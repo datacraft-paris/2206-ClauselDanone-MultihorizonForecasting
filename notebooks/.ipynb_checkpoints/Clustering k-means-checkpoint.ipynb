{
 "cells": [
  {
   "cell_type": "markdown",
   "id": "5c22ab2e",
   "metadata": {},
   "source": [
    "# Clustering série temporelles\n",
    "\n",
    "## Exploration des données"
   ]
  },
  {
   "cell_type": "code",
   "execution_count": null,
   "id": "8c09923f",
   "metadata": {},
   "outputs": [],
   "source": [
    "#conda install -c conda-forge tslearn"
   ]
  },
  {
   "cell_type": "code",
   "execution_count": null,
   "id": "144020a9",
   "metadata": {
    "id": "144020a9"
   },
   "outputs": [],
   "source": [
    "# packages nécessaires\n",
    "import os\n",
    "import math\n",
    "\n",
    "import pandas as pd\n",
    "import matplotlib.pyplot as plt\n",
    "import numpy as np\n",
    "\n",
    "from scipy.cluster.hierarchy import dendrogram\n",
    "\n",
    "from sklearn.preprocessing import MinMaxScaler\n",
    "from sklearn.cluster import KMeans\n",
    "from sklearn.cluster import AgglomerativeClustering\n",
    "from sklearn.cluster import DBSCAN\n",
    "from sklearn.decomposition import PCA\n",
    "from sklearn.metrics import silhouette_score\n",
    "from sklearn.metrics import rand_score\n",
    "from sklearn.metrics import adjusted_rand_score\n",
    "\n",
    "\n",
    "from tslearn.barycenters import dtw_barycenter_averaging\n",
    "from tslearn.clustering import TimeSeriesKMeans\n",
    "from tslearn.clustering import silhouette_score as silhouette_score2\n",
    "from tslearn.utils import to_time_series_dataset\n",
    "from tslearn.utils import to_sklearn_dataset\n",
    "from tslearn.metrics import dtw\n",
    "\n",
    "from statsmodels.tsa.stattools import acf, pacf"
   ]
  },
  {
   "cell_type": "code",
   "execution_count": null,
   "id": "473b42de",
   "metadata": {},
   "outputs": [],
   "source": [
    "pip install pyarrow"
   ]
  },
  {
   "cell_type": "code",
   "execution_count": null,
   "id": "f8eddd9e",
   "metadata": {
    "colab": {
     "base_uri": "https://localhost:8080/",
     "height": 345
    },
    "id": "f8eddd9e",
    "outputId": "10393356-aa52-405a-a24c-358bce6e9eef"
   },
   "outputs": [],
   "source": [
    "#base de données\n",
    "df = pd.read_parquet(\"C:/Users/gabri/OneDrive/Bureau/Cours ENSAE/2ème année/Stage/Données/forecasting.parquet.gzip\")\n",
    "df"
   ]
  },
  {
   "cell_type": "code",
   "execution_count": null,
   "id": "e8cf79be",
   "metadata": {
    "id": "e8cf79be",
    "outputId": "9cc5b37e-355f-402c-8baa-8b1001563c1b"
   },
   "outputs": [],
   "source": [
    "list(df.columns)"
   ]
  },
  {
   "cell_type": "code",
   "execution_count": null,
   "id": "5f10c743",
   "metadata": {},
   "outputs": [],
   "source": [
    "df['time_index']=pd.to_datetime(df['time_index'])"
   ]
  },
  {
   "cell_type": "markdown",
   "id": "e9bb18b4",
   "metadata": {},
   "source": [
    "On liste les séries temporelles selon les indices des produits"
   ]
  },
  {
   "cell_type": "code",
   "execution_count": null,
   "id": "0370f150",
   "metadata": {},
   "outputs": [],
   "source": [
    "indice_produit=df['product_index'].unique()\n",
    "myseries=[df[['time_index','ordered_volumes']][df['product_index']==k] for k in indice_produit]\n"
   ]
  },
  {
   "cell_type": "code",
   "execution_count": null,
   "id": "79bd23dc",
   "metadata": {},
   "outputs": [],
   "source": [
    "for k in range(len(myseries)):\n",
    "    myseries[k].set_index('time_index',inplace=True)\n",
    "    myseries[k].sort_index(inplace=True)\n",
    "myseries2=myseries.copy()\n",
    "myseries3=myseries.copy()\n",
    "indice_temps=[series.index for series in myseries2 ]\n"
   ]
  },
  {
   "cell_type": "code",
   "execution_count": null,
   "id": "8d5cd92e",
   "metadata": {},
   "outputs": [],
   "source": [
    "myseries[0]"
   ]
  },
  {
   "cell_type": "code",
   "execution_count": null,
   "id": "97be548e",
   "metadata": {},
   "outputs": [],
   "source": [
    "myseries[124].plot(y='ordered_volumes')"
   ]
  },
  {
   "cell_type": "markdown",
   "id": "224e177e",
   "metadata": {},
   "source": [
    "On complète les séries temporelles pour qu'elles aient tous la taille de la plus grande"
   ]
  },
  {
   "cell_type": "code",
   "execution_count": null,
   "id": "f4c70574",
   "metadata": {},
   "outputs": [],
   "source": [
    "series_length=[len(series) for series in myseries]"
   ]
  },
  {
   "cell_type": "code",
   "execution_count": null,
   "id": "4c9db55f",
   "metadata": {},
   "outputs": [],
   "source": [
    "max_len = max(series_length)\n",
    "longest_series = None\n",
    "for series in myseries:\n",
    "    if len(series) == max_len:\n",
    "        longest_series = series\n",
    "for i in range(len(myseries)):\n",
    "    if len(myseries[i])!= max_len:\n",
    "        myseries[i] = myseries[i].reindex(longest_series.index,fill_value=0)"
   ]
  },
  {
   "cell_type": "code",
   "execution_count": null,
   "id": "233726e7",
   "metadata": {},
   "outputs": [],
   "source": [
    "min(series_length)"
   ]
  },
  {
   "cell_type": "code",
   "execution_count": null,
   "id": "a8365b3d",
   "metadata": {},
   "outputs": [],
   "source": [
    "myseries[1]['ordered_volumes']"
   ]
  },
  {
   "cell_type": "markdown",
   "id": "78d84c0a",
   "metadata": {},
   "source": [
    "On redimensionne les séries temporelles"
   ]
  },
  {
   "cell_type": "code",
   "execution_count": null,
   "id": "573c9827",
   "metadata": {},
   "outputs": [],
   "source": [
    "for i in range(len(myseries)):\n",
    "    scaler = MinMaxScaler()\n",
    "    myseries[i] = MinMaxScaler().fit_transform(myseries[i])\n",
    "    myseries[i]= myseries[i].reshape(len(myseries[i]))\n",
    "    myseries2[i] = MinMaxScaler().fit_transform(myseries2[i])\n",
    "    myseries2[i]= myseries2[i].reshape(len(myseries2[i]))"
   ]
  },
  {
   "cell_type": "code",
   "execution_count": null,
   "id": "1d3dadfe",
   "metadata": {},
   "outputs": [],
   "source": [
    "X=to_time_series_dataset(myseries2)"
   ]
  },
  {
   "cell_type": "code",
   "execution_count": null,
   "id": "80441127",
   "metadata": {},
   "outputs": [],
   "source": [
    "plt.plot(longest_series.index,myseries[124])"
   ]
  },
  {
   "cell_type": "markdown",
   "id": "42463a3c",
   "metadata": {},
   "source": [
    "### Clustering Kmean PCA"
   ]
  },
  {
   "cell_type": "code",
   "execution_count": null,
   "id": "6caf80ec",
   "metadata": {},
   "outputs": [],
   "source": [
    "cluster_count = math.ceil(math.sqrt(len(myseries))) "
   ]
  },
  {
   "cell_type": "code",
   "execution_count": null,
   "id": "31817c42",
   "metadata": {},
   "outputs": [],
   "source": [
    "pca = PCA(n_components=20)\n",
    "pca.fit(myseries)\n",
    "plt.hist(range(1,21),weights=pca.explained_variance_ratio_,bins=20)\n",
    "plt.axhline(y=0.05,color='orange')"
   ]
  },
  {
   "cell_type": "code",
   "execution_count": null,
   "id": "cbff7719",
   "metadata": {},
   "outputs": [],
   "source": [
    "plt.plot(range(1,21),pca.explained_variance_ratio_)"
   ]
  },
  {
   "cell_type": "code",
   "execution_count": null,
   "id": "2095ef40",
   "metadata": {},
   "outputs": [],
   "source": [
    "pca.explained_variance_ratio_"
   ]
  },
  {
   "cell_type": "code",
   "execution_count": null,
   "id": "24a4ad24",
   "metadata": {},
   "outputs": [],
   "source": [
    "pca = PCA(n_components=2)\n",
    "\n",
    "myseries_transformed = pca.fit_transform(myseries)"
   ]
  },
  {
   "cell_type": "code",
   "execution_count": null,
   "id": "051a2a5e",
   "metadata": {},
   "outputs": [],
   "source": [
    "pca = PCA(n_components=3)\n",
    "\n",
    "myseries_transformed3 = pca.fit_transform(myseries)"
   ]
  },
  {
   "cell_type": "code",
   "execution_count": null,
   "id": "b1989824",
   "metadata": {
    "scrolled": true
   },
   "outputs": [],
   "source": [
    "#inertie=np.empty(25,dtype='float')\n",
    "\n",
    "#for i in range(1,26):\n",
    "#    kmeans = KMeans(n_clusters=i,max_iter=5000)\n",
    "#    inertie[i-1] = kmeans.fit(myseries_transformed3).inertia_\n",
    "#plt.plot(range(1,26),inertie)"
   ]
  },
  {
   "cell_type": "code",
   "execution_count": null,
   "id": "7c8dd0de",
   "metadata": {},
   "outputs": [],
   "source": [
    "kmeans_pca = KMeans(n_clusters=3,max_iter=5000)\n",
    "\n",
    "labels_pca = kmeans_pca.fit_predict(myseries_transformed3)"
   ]
  },
  {
   "cell_type": "code",
   "execution_count": null,
   "id": "2a4be5d7",
   "metadata": {},
   "outputs": [],
   "source": [
    "fig, axs = plt.subplots(1,3,figsize=(25,5))\n",
    "fig.suptitle('Clusters')\n",
    "row_i=0\n",
    "column_j=0\n",
    "for label in set(labels_pca):\n",
    "    cluster = []\n",
    "    for i in range(len(labels_pca)):\n",
    "            if(labels_pca[i]==label):\n",
    "                axs[ column_j].plot(longest_series.index,myseries[i],c=\"gray\",alpha=0.4)\n",
    "                cluster.append(myseries[i])\n",
    "    if len(cluster) > 0:\n",
    "        axs[ column_j].plot(longest_series.index,np.average(np.vstack(cluster),axis=0),c=\"red\")\n",
    "    axs[column_j].set_title(\"Cluster \"+str(row_i*4+column_j))\n",
    "    column_j+=1\n",
    "    if column_j%4 == 0:\n",
    "        row_i+=1\n",
    "        column_j=0\n",
    "        \n",
    "\n",
    "plt.savefig('C:/Users/gabri/OneDrive/Bureau/Cours ENSAE/2ème année/Stage/Résultats PCA.jpeg')\n",
    "plt.show()"
   ]
  },
  {
   "cell_type": "code",
   "execution_count": null,
   "id": "e561bee0",
   "metadata": {},
   "outputs": [],
   "source": [
    "cmap = plt.cm.get_cmap(\"tab20\", kmeans_pca.cluster_centers_.shape[0])\n",
    "plt.figure(figsize=(25,10))\n",
    "colors_pca=[cmap(i) for i in labels_pca]\n",
    "plt.scatter(myseries_transformed[:, 0], myseries_transformed[:, 1], c=colors_pca, s=300)\n",
    "plt.show()"
   ]
  },
  {
   "cell_type": "code",
   "execution_count": null,
   "id": "993807fa",
   "metadata": {
    "scrolled": true
   },
   "outputs": [],
   "source": [
    "fancy_names_for_labels_pca = [f\"Cluster {label}\" for label in labels_pca]\n",
    "prédiction_pca=pd.DataFrame(zip(indice_produit,fancy_names_for_labels_pca),columns=[\"Series\",\"Cluster\"]).sort_values(by=\"Cluster\").set_index(\"Series\")"
   ]
  },
  {
   "cell_type": "code",
   "execution_count": null,
   "id": "d59b8111",
   "metadata": {},
   "outputs": [],
   "source": [
    "prédiction_pca"
   ]
  },
  {
   "cell_type": "code",
   "execution_count": null,
   "id": "96340f9b",
   "metadata": {
    "scrolled": true
   },
   "outputs": [],
   "source": [
    "for k in range(3):\n",
    "    print(prédiction_pca[prédiction_pca['Cluster']==f'Cluster {k}'].index)"
   ]
  },
  {
   "cell_type": "markdown",
   "id": "44347137",
   "metadata": {},
   "source": [
    "### Kmeans"
   ]
  },
  {
   "cell_type": "code",
   "execution_count": null,
   "id": "8fc2459e",
   "metadata": {},
   "outputs": [],
   "source": [
    "#inertie=np.empty(25,dtype='float')\n",
    "\n",
    "#for i in range(1,26):\n",
    "#    kmeans = KMeans(n_clusters=i,max_iter=5000)\n",
    "#    inertie[i-1] = kmeans.fit(myseries).inertia_\n",
    "#plt.plot(range(1,26),inertie)"
   ]
  },
  {
   "cell_type": "code",
   "execution_count": null,
   "id": "300a24ab",
   "metadata": {},
   "outputs": [],
   "source": [
    "kmeans = KMeans(n_clusters=3,max_iter=5000)\n",
    "\n",
    "labels_kmeans = kmeans.fit_predict(myseries)"
   ]
  },
  {
   "cell_type": "code",
   "execution_count": null,
   "id": "0dbf759c",
   "metadata": {},
   "outputs": [],
   "source": [
    "\n",
    "fig, axs = plt.subplots(1,3,figsize=(25,5))\n",
    "fig.suptitle('Clusters')\n",
    "row_i=0\n",
    "column_j=0\n",
    "for label in set(labels_kmeans):\n",
    "    cluster = []\n",
    "    for i in range(len(labels_kmeans)):\n",
    "            if(labels_kmeans[i]==label):\n",
    "                axs[ column_j].plot(longest_series.index,myseries[i],c=\"gray\",alpha=0.4)\n",
    "                cluster.append(myseries[i])\n",
    "    if len(cluster) > 0:\n",
    "        axs[ column_j].plot(longest_series.index,np.average(np.vstack(cluster),axis=0),c=\"red\")\n",
    "    axs[ column_j].set_title(\"Cluster \"+str(row_i*4+column_j))\n",
    "    column_j+=1\n",
    "    if column_j%4 == 0:\n",
    "        row_i+=1\n",
    "        column_j=0\n",
    "        \n",
    "\n",
    "plt.savefig('C:/Users/gabri/OneDrive/Bureau/Cours ENSAE/2ème année/Stage/Résultat kmeans.jpeg')\n",
    "plt.show()"
   ]
  },
  {
   "cell_type": "code",
   "execution_count": null,
   "id": "adc6030d",
   "metadata": {},
   "outputs": [],
   "source": [
    "plt.figure(figsize=(25,10))\n",
    "cmap = plt.cm.get_cmap(\"tab20\", kmeans.cluster_centers_.shape[0])\n",
    "colors_kmeans=[cmap(i) for i in labels_kmeans]\n",
    "plt.scatter(myseries_transformed[:, 0], myseries_transformed[:, 1], c=colors_kmeans, s=300)\n",
    "plt.show()"
   ]
  },
  {
   "cell_type": "code",
   "execution_count": null,
   "id": "b95d7891",
   "metadata": {},
   "outputs": [],
   "source": [
    "fancy_names_for_labels_kmeans = [f\"Cluster {label}\" for label in labels_kmeans]\n",
    "prédiction_kmeans=pd.DataFrame(zip(indice_produit,fancy_names_for_labels_kmeans),columns=[\"Series\",\"Cluster\"]).sort_values(by=\"Cluster\").set_index(\"Series\")"
   ]
  },
  {
   "cell_type": "code",
   "execution_count": null,
   "id": "f44c1a19",
   "metadata": {},
   "outputs": [],
   "source": [
    "prédiction_kmeans"
   ]
  },
  {
   "cell_type": "code",
   "execution_count": null,
   "id": "7fb4fc98",
   "metadata": {},
   "outputs": [],
   "source": [
    "for k in range(3):\n",
    "    print(prédiction_kmeans[prédiction_kmeans['Cluster']==f'Cluster {k}'].index)"
   ]
  },
  {
   "cell_type": "markdown",
   "id": "7237846c",
   "metadata": {},
   "source": [
    "### DTW"
   ]
  },
  {
   "cell_type": "code",
   "execution_count": null,
   "id": "b6cf2573",
   "metadata": {},
   "outputs": [],
   "source": [
    "%%time\n",
    "inertie=np.empty((1,10),dtype='float')\n",
    "\n",
    "for j in range(1):\n",
    "    for i in range(1,11):\n",
    "        km = TimeSeriesKMeans(n_clusters=i, metric=\"dtw\")\n",
    "        inertie[j,i-1] = km.fit(X).inertia_\n",
    "    print(j)\n",
    "plt.plot(range(1,11),np.mean(inertie,axis=0))"
   ]
  },
  {
   "cell_type": "code",
   "execution_count": null,
   "id": "71370570",
   "metadata": {},
   "outputs": [],
   "source": [
    "%%time\n",
    "dtw_km = TimeSeriesKMeans(n_clusters=3, metric=\"dtw\")\n",
    "\n",
    "labels_dtw = dtw_km.fit_predict(X)"
   ]
  },
  {
   "cell_type": "code",
   "execution_count": null,
   "id": "629d1fab",
   "metadata": {},
   "outputs": [],
   "source": [
    "fancy_names_for_labels_dtw = [f\"Cluster {label}\" for label in labels_dtw]\n",
    "prediction_dtw=pd.DataFrame(zip(indice_produit,fancy_names_for_labels_dtw),columns=[\"Series\",\"Cluster\"]).sort_values(by=\"Cluster\").set_index(\"Series\")"
   ]
  },
  {
   "cell_type": "code",
   "execution_count": null,
   "id": "01369418",
   "metadata": {
    "scrolled": true
   },
   "outputs": [],
   "source": [
    "fig, axs = plt.subplots(len(prediction_dtw[prediction_dtw['Cluster']==f'Cluster {0}'].index)//4+1,4,figsize=(25,25))\n",
    "row_i=0\n",
    "column_j=0\n",
    "for i in prediction_dtw[prediction_dtw['Cluster']==f'Cluster {0}'].index:\n",
    "    axs[row_i,column_j].plot(indice_temps[np.where(indice_produit==i)[0][0]],myseries2[np.where(indice_produit==i)[0][0]],c=\"blue\")\n",
    "    column_j+=1\n",
    "    if column_j%4==0:\n",
    "        row_i+=1\n",
    "        column_j=0\n",
    "        \n",
    "plt.show\n",
    "plt.savefig('C:/Users/gabri/OneDrive/Bureau/Cours ENSAE/2ème année/Stage/Cluster 1 dtw.jpeg')"
   ]
  },
  {
   "cell_type": "code",
   "execution_count": null,
   "id": "05fe47e4",
   "metadata": {},
   "outputs": [],
   "source": [
    "fig, axs = plt.subplots(len(prediction_dtw[prediction_dtw['Cluster']==f'Cluster {1}'].index)//4+1,4,figsize=(25,25))\n",
    "row_i=0\n",
    "column_j=0\n",
    "for i in prediction_dtw[prediction_dtw['Cluster']==f'Cluster {1}'].index:\n",
    "    axs[row_i,column_j].plot(indice_temps[np.where(indice_produit==i)[0][0]],myseries2[np.where(indice_produit==i)[0][0]],c=\"blue\")\n",
    "    column_j+=1\n",
    "    if column_j%4==0:\n",
    "        row_i+=1\n",
    "        column_j=0\n",
    "        \n",
    "plt.savefig('C:/Users/gabri/OneDrive/Bureau/Cours ENSAE/2ème année/Stage/Cluster 2 dtw.jpeg')\n",
    "plt.show()"
   ]
  },
  {
   "cell_type": "code",
   "execution_count": null,
   "id": "f4e5407b",
   "metadata": {},
   "outputs": [],
   "source": [
    "fig, axs = plt.subplots(len(prediction_dtw[prediction_dtw['Cluster']==f'Cluster {2}'].index)//4+1,4,figsize=(25,25))\n",
    "row_i=0\n",
    "column_j=0\n",
    "for i in prediction_dtw[prediction_dtw['Cluster']==f'Cluster {2}'].index:\n",
    "    axs[row_i,column_j].plot(indice_temps[np.where(indice_produit==i)[0][0]],myseries2[np.where(indice_produit==i)[0][0]],c=\"blue\")\n",
    "    column_j+=1\n",
    "    if column_j%4==0:\n",
    "        row_i+=1\n",
    "        column_j=0\n",
    "      \n",
    "plt.savefig('C:/Users/gabri/OneDrive/Bureau/Cours ENSAE/2ème année/Stage/Cluster 3 dtw.jpeg')\n",
    "plt.show()"
   ]
  },
  {
   "cell_type": "code",
   "execution_count": null,
   "id": "13e4530d",
   "metadata": {},
   "outputs": [],
   "source": [
    "fig, axs = plt.subplots(len(prediction_dtw[prediction_dtw['Cluster']==f'Cluster {3}'].index)//4+1,4,figsize=(25,20))\n",
    "row_i=0\n",
    "column_j=0\n",
    "for i in prediction_dtw[prediction_dtw['Cluster']==f'Cluster {3}'].index:\n",
    "    axs[row_i,column_j].plot(indice_temps[np.where(indice_produit==i)[0][0]],myseries2[np.where(indice_produit==i)[0][0]],c=\"blue\")\n",
    "    column_j+=1\n",
    "    if column_j%4==0:\n",
    "        row_i+=1\n",
    "        column_j=0\n",
    "        \n",
    "plt.show"
   ]
  },
  {
   "cell_type": "code",
   "execution_count": null,
   "id": "278c18fb",
   "metadata": {},
   "outputs": [],
   "source": [
    "fig, axs = plt.subplots(len(prediction_dtw[prediction_dtw['Cluster']==f'Cluster {4}'].index)//4+1,4,figsize=(25,25))\n",
    "row_i=0\n",
    "column_j=0\n",
    "for i in prediction_dtw[prediction_dtw['Cluster']==f'Cluster {4}'].index:\n",
    "    axs[row_i,column_j].plot(indice_temps[np.where(indice_produit==i)[0][0]],myseries2[np.where(indice_produit==i)[0][0]],c=\"blue\")\n",
    "    column_j+=1\n",
    "    if column_j%4==0:\n",
    "        row_i+=1\n",
    "        column_j=0\n",
    "        \n",
    "plt.show"
   ]
  },
  {
   "cell_type": "code",
   "execution_count": null,
   "id": "392d8aad",
   "metadata": {},
   "outputs": [],
   "source": [
    "fig, axs = plt.subplots(len(prediction_dtw[prediction_dtw['Cluster']==f'Cluster {5}'].index)//4+1,4,figsize=(25,25))\n",
    "row_i=0\n",
    "column_j=0\n",
    "for i in prediction_dtw[prediction_dtw['Cluster']==f'Cluster {5}'].index:\n",
    "    axs[row_i,column_j].plot(indice_temps[np.where(indice_produit==i)[0][0]],myseries2[np.where(indice_produit==i)[0][0]],c=\"blue\")\n",
    "    column_j+=1\n",
    "    if column_j%4==0:\n",
    "        row_i+=1\n",
    "        column_j=0\n",
    "        \n",
    "plt.show"
   ]
  },
  {
   "cell_type": "code",
   "execution_count": null,
   "id": "05fc59a9",
   "metadata": {},
   "outputs": [],
   "source": [
    "for k in range(3):\n",
    "    print(prediction_dtw[prediction_dtw['Cluster']==f'Cluster {k}'].index)"
   ]
  },
  {
   "cell_type": "markdown",
   "id": "aedfad24",
   "metadata": {},
   "source": [
    "### Hierarchical Clustering"
   ]
  },
  {
   "cell_type": "code",
   "execution_count": null,
   "id": "d617b4fb",
   "metadata": {},
   "outputs": [],
   "source": [
    "%%time\n",
    "dtw_precomputed=np.zeros((125,125))\n",
    "for i in range(125):\n",
    "    for j in range(125):\n",
    "        dtw_precomputed[i,j]=dtw(myseries2[i], myseries2[j])"
   ]
  },
  {
   "cell_type": "code",
   "execution_count": null,
   "id": "93f30190",
   "metadata": {},
   "outputs": [],
   "source": [
    "%%time\n",
    "hac_average=AgglomerativeClustering(n_clusters=5,affinity='precomputed',linkage='average',compute_distances=True)\n",
    "hac_single=AgglomerativeClustering(n_clusters=5,affinity='precomputed',linkage='single',compute_distances=True)\n",
    "hac_complete=AgglomerativeClustering(n_clusters=5,affinity='precomputed',linkage='complete',compute_distances=True)\n",
    "modele_average = hac_average.fit(dtw_precomputed)\n",
    "modele_single = hac_single.fit(dtw_precomputed)\n",
    "modele_complete = hac_complete.fit(dtw_precomputed)"
   ]
  },
  {
   "cell_type": "code",
   "execution_count": null,
   "id": "3b2aa726",
   "metadata": {},
   "outputs": [],
   "source": [
    "def plot_dendrogram(model, **kwargs):\n",
    "    # Create linkage matrix and then plot the dendrogram\n",
    "\n",
    "    # create the counts of samples under each node\n",
    "    counts = np.zeros(model.children_.shape[0])\n",
    "    n_samples = len(model.labels_)\n",
    "    for i, merge in enumerate(model.children_):\n",
    "        current_count = 0\n",
    "        for child_idx in merge:\n",
    "            if child_idx < n_samples:\n",
    "                current_count += 1  # leaf node\n",
    "            else:\n",
    "                current_count += counts[child_idx - n_samples]\n",
    "        counts[i] = current_count\n",
    "\n",
    "    linkage_matrix = np.column_stack(\n",
    "        [model.children_, model.distances_, counts]\n",
    "    ).astype(float)\n",
    "\n",
    "    # Plot the corresponding dendrogram\n",
    "    dendrogram(linkage_matrix, **kwargs)"
   ]
  },
  {
   "cell_type": "code",
   "execution_count": null,
   "id": "b8e944d1",
   "metadata": {},
   "outputs": [],
   "source": [
    "plot_dendrogram(modele_average, truncate_mode=\"level\", p=5)"
   ]
  },
  {
   "cell_type": "code",
   "execution_count": null,
   "id": "4f5d81c8",
   "metadata": {},
   "outputs": [],
   "source": [
    "plot_dendrogram(modele_single, truncate_mode=\"level\", p=10)"
   ]
  },
  {
   "cell_type": "code",
   "execution_count": null,
   "id": "cb467adf",
   "metadata": {},
   "outputs": [],
   "source": [
    "plot_dendrogram(modele_complete, truncate_mode=\"level\", p=4)"
   ]
  },
  {
   "cell_type": "code",
   "execution_count": null,
   "id": "7c735211",
   "metadata": {},
   "outputs": [],
   "source": [
    "hac=AgglomerativeClustering(n_clusters=3,affinity='precomputed',linkage='complete')\n",
    "\n",
    "labels_hac = hac.fit_predict(dtw_precomputed)"
   ]
  },
  {
   "cell_type": "code",
   "execution_count": null,
   "id": "102e9083",
   "metadata": {},
   "outputs": [],
   "source": [
    "fancy_names_for_labels_hac = [f\"Cluster {label}\" for label in labels_hac]\n",
    "prediction_hac=pd.DataFrame(zip(indice_produit,fancy_names_for_labels_hac),columns=[\"Series\",\"Cluster\"]).sort_values(by=\"Cluster\").set_index(\"Series\")"
   ]
  },
  {
   "cell_type": "code",
   "execution_count": null,
   "id": "ab58053c",
   "metadata": {},
   "outputs": [],
   "source": [
    "fig, axs = plt.subplots(len(prediction_hac[prediction_hac['Cluster']==f'Cluster {0}'].index)//4+1,4,figsize=(25,35))\n",
    "row_i=0\n",
    "column_j=0\n",
    "for i in prediction_hac[prediction_hac['Cluster']==f'Cluster {0}'].index:\n",
    "    axs[row_i,column_j].plot(indice_temps[np.where(indice_produit==i)[0][0]],myseries2[np.where(indice_produit==i)[0][0]],c=\"blue\")\n",
    "    column_j+=1\n",
    "    if column_j%4==0:\n",
    "        row_i+=1\n",
    "        column_j=0\n",
    "     \n",
    "plt.savefig('C:/Users/gabri/OneDrive/Bureau/Cours ENSAE/2ème année/Stage/Cluster 1 hierarchical clustering.jpeg')\n",
    "plt.show()"
   ]
  },
  {
   "cell_type": "code",
   "execution_count": null,
   "id": "492227bb",
   "metadata": {},
   "outputs": [],
   "source": [
    "fig, axs = plt.subplots(len(prediction_hac[prediction_hac['Cluster']==f'Cluster {1}'].index)//4+1,4,figsize=(25,10))\n",
    "row_i=0\n",
    "column_j=0\n",
    "for i in prediction_hac[prediction_hac['Cluster']==f'Cluster {1}'].index:\n",
    "    axs[row_i,column_j].plot(indice_temps[np.where(indice_produit==i)[0][0]],myseries2[np.where(indice_produit==i)[0][0]],c=\"blue\")\n",
    "    column_j+=1\n",
    "    if column_j%4==0:\n",
    "        row_i+=1\n",
    "        column_j=0\n",
    "\n",
    "plt.savefig('C:/Users/gabri/OneDrive/Bureau/Cours ENSAE/2ème année/Stage/Cluster 2 hierarchical clustering.jpeg')\n",
    "plt.show()"
   ]
  },
  {
   "cell_type": "code",
   "execution_count": null,
   "id": "7a3f7746",
   "metadata": {},
   "outputs": [],
   "source": [
    "fig, axs = plt.subplots(len(prediction_hac[prediction_hac['Cluster']==f'Cluster {2}'].index)//4+1,4,figsize=(25,25))\n",
    "row_i=0\n",
    "column_j=0\n",
    "for i in prediction_hac[prediction_hac['Cluster']==f'Cluster {2}'].index:\n",
    "    axs[row_i,column_j].plot(indice_temps[np.where(indice_produit==i)[0][0]],myseries2[np.where(indice_produit==i)[0][0]],c=\"blue\")\n",
    "    column_j+=1\n",
    "    if column_j%4==0:\n",
    "        row_i+=1\n",
    "        column_j=0\n",
    "        \n",
    "        \n",
    "plt.savefig('C:/Users/gabri/OneDrive/Bureau/Cours ENSAE/2ème année/Stage/Cluster 3 hierarchical clustering.jpeg')    \n",
    "plt.show()"
   ]
  },
  {
   "cell_type": "code",
   "execution_count": null,
   "id": "583f292c",
   "metadata": {},
   "outputs": [],
   "source": [
    "fig, axs = plt.subplots(len(prediction_hac[prediction_hac['Cluster']==f'Cluster {3}'].index)//4+1,4,figsize=(25,10))\n",
    "row_i=0\n",
    "column_j=0\n",
    "for i in prediction_hac[prediction_hac['Cluster']==f'Cluster {3}'].index:\n",
    "    axs[row_i,column_j].plot(indice_temps[np.where(indice_produit==i)[0][0]],myseries2[np.where(indice_produit==i)[0][0]],c=\"blue\")\n",
    "    column_j+=1\n",
    "    if column_j%4==0:\n",
    "        row_i+=1\n",
    "        column_j=0\n",
    "        \n",
    "plt.show"
   ]
  },
  {
   "cell_type": "code",
   "execution_count": null,
   "id": "7be8fc3e",
   "metadata": {},
   "outputs": [],
   "source": [
    "fig, axs = plt.subplots(len(prediction_hac[prediction_hac['Cluster']==f'Cluster {4}'].index)//4+1,4,figsize=(25,10))\n",
    "row_i=0\n",
    "column_j=0\n",
    "for i in prediction_hac[prediction_hac['Cluster']==f'Cluster {4}'].index:\n",
    "    axs[row_i,column_j].plot(indice_temps[np.where(indice_produit==i)[0][0]],myseries2[np.where(indice_produit==i)[0][0]],c=\"blue\")\n",
    "    column_j+=1\n",
    "    if column_j%4==0:\n",
    "        row_i+=1\n",
    "        column_j=0\n",
    "        \n",
    "plt.show"
   ]
  },
  {
   "cell_type": "code",
   "execution_count": null,
   "id": "54727d1d",
   "metadata": {},
   "outputs": [],
   "source": [
    "for k in range(3):\n",
    "    print(prediction_hac[prediction_hac['Cluster']==f'Cluster {k}'].index)"
   ]
  },
  {
   "cell_type": "markdown",
   "id": "4bb70fee",
   "metadata": {},
   "source": [
    "### DBSCAN"
   ]
  },
  {
   "cell_type": "code",
   "execution_count": null,
   "id": "5b60984d",
   "metadata": {},
   "outputs": [],
   "source": [
    "# Recherche des paramètres\n",
    "a=np.copy(dtw_precomputed)\n",
    "e=np.quantile(np.sort(a,axis=0)[1],0.95)\n",
    "n=np.quantile(np.count_nonzero(a<=e,axis=0),0.05)\n",
    "e2=np.quantile(np.sort(a,axis=0)[1],0.9)\n",
    "n2=np.quantile(np.count_nonzero(a<=e2,axis=0),0.1)"
   ]
  },
  {
   "cell_type": "code",
   "execution_count": null,
   "id": "da3e7e04",
   "metadata": {},
   "outputs": [],
   "source": [
    "%%time\n",
    "dbscan=DBSCAN(eps=e,min_samples=n,metric='precomputed')\n",
    "\n",
    "labels_dbscan = dbscan.fit_predict(dtw_precomputed)"
   ]
  },
  {
   "cell_type": "code",
   "execution_count": null,
   "id": "cccd95ce",
   "metadata": {},
   "outputs": [],
   "source": [
    "fancy_names_for_labels_dbscan= [f\"Cluster {label}\" for label in labels_dbscan]\n",
    "prediction_dbscan=pd.DataFrame(zip(indice_produit,fancy_names_for_labels_dbscan),columns=[\"Series\",\"Cluster\"]).sort_values(by=\"Cluster\").set_index(\"Series\")"
   ]
  },
  {
   "cell_type": "code",
   "execution_count": null,
   "id": "9fc390f4",
   "metadata": {},
   "outputs": [],
   "source": [
    "prediction_dbscan['Cluster'].unique().shape"
   ]
  },
  {
   "cell_type": "code",
   "execution_count": null,
   "id": "f4897453",
   "metadata": {},
   "outputs": [],
   "source": [
    "prediction_dbscan"
   ]
  },
  {
   "cell_type": "code",
   "execution_count": null,
   "id": "0a85f483",
   "metadata": {},
   "outputs": [],
   "source": [
    "for k in range(-1,2):\n",
    "    print(prediction_dbscan[prediction_dbscan['Cluster']==f'Cluster {k}'].index)"
   ]
  },
  {
   "cell_type": "code",
   "execution_count": null,
   "id": "aa970f29",
   "metadata": {},
   "outputs": [],
   "source": [
    "fig, axs = plt.subplots(len(prediction_dbscan[prediction_dbscan['Cluster']==f'Cluster {-1}'].index)//4+1,4,figsize=(25,50))\n",
    "row_i=0\n",
    "column_j=0\n",
    "for i in prediction_dbscan[prediction_dbscan['Cluster']==f'Cluster {-1}'].index:\n",
    "    axs[row_i,column_j].plot(indice_temps[np.where(indice_produit==i)[0][0]],myseries2[np.where(indice_produit==i)[0][0]],c=\"blue\")\n",
    "    column_j+=1\n",
    "    if column_j%4==0:\n",
    "        row_i+=1\n",
    "        column_j=0\n",
    "        \n",
    "plt.show\n",
    "plt.savefig('C:/Users/gabri/OneDrive/Bureau/Cours ENSAE/2ème année/Stage/Cluster autres DBSCAN.jpeg')"
   ]
  },
  {
   "cell_type": "code",
   "execution_count": null,
   "id": "d8b00ff9",
   "metadata": {},
   "outputs": [],
   "source": [
    "fig, axs = plt.subplots(len(prediction_dbscan[prediction_dbscan['Cluster']==f'Cluster {0}'].index)//4+1,4,figsize=(25,50))\n",
    "row_i=0\n",
    "column_j=0\n",
    "for i in prediction_dbscan[prediction_dbscan['Cluster']==f'Cluster {0}'].index:\n",
    "    axs[row_i,column_j].plot(indice_temps[np.where(indice_produit==i)[0][0]],myseries2[np.where(indice_produit==i)[0][0]],c=\"blue\")\n",
    "    column_j+=1\n",
    "    if column_j%4==0:\n",
    "        row_i+=1\n",
    "        column_j=0\n",
    "        \n",
    "plt.show\n",
    "plt.savefig('C:/Users/gabri/OneDrive/Bureau/Cours ENSAE/2ème année/Stage/Cluster 1 DBSCAN.jpeg')"
   ]
  },
  {
   "cell_type": "code",
   "execution_count": null,
   "id": "c94f8b33",
   "metadata": {},
   "outputs": [],
   "source": [
    "fig, axs = plt.subplots(len(prediction_dbscan[prediction_dbscan['Cluster']==f'Cluster {1}'].index)//4+1,4,figsize=(25,5))\n",
    "row_i=0\n",
    "column_j=0\n",
    "for i in prediction_dbscan[prediction_dbscan['Cluster']==f'Cluster {1}'].index:\n",
    "    axs[column_j].plot(indice_temps[np.where(indice_produit==i)[0][0]],myseries2[np.where(indice_produit==i)[0][0]],c=\"blue\")\n",
    "    column_j+=1\n",
    "    if column_j%4==0:\n",
    "        row_i+=1\n",
    "        column_j=0\n",
    "        \n",
    "plt.show\n",
    "plt.savefig('C:/Users/gabri/OneDrive/Bureau/Cours ENSAE/2ème année/Stage/Cluster 2 DBSCAN.jpeg')"
   ]
  },
  {
   "cell_type": "code",
   "execution_count": null,
   "id": "206b07ec",
   "metadata": {},
   "outputs": [],
   "source": [
    "fig, axs = plt.subplots(len(prediction_dbscan[prediction_dbscan['Cluster']==f'Cluster {2}'].index)//4+1,4,figsize=(25,10))\n",
    "row_i=0\n",
    "column_j=0\n",
    "for i in prediction_dbscan[prediction_dbscan['Cluster']==f'Cluster {2}'].index:\n",
    "    axs[row_i,column_j].plot(indice_temps[np.where(indice_produit==i)[0][0]],myseries2[np.where(indice_produit==i)[0][0]],c=\"blue\")\n",
    "    column_j+=1\n",
    "    if column_j%4==0:\n",
    "        row_i+=1\n",
    "        column_j=0\n",
    "        \n",
    "plt.show"
   ]
  },
  {
   "cell_type": "markdown",
   "id": "228bcc87",
   "metadata": {},
   "source": [
    "### Comparaison Kmeans, PCA et DTW"
   ]
  },
  {
   "cell_type": "code",
   "execution_count": null,
   "id": "e3eae130",
   "metadata": {},
   "outputs": [],
   "source": [
    "%%time\n",
    "modeles_inertie=np.zeros((1,3,4))\n",
    "for k in range(1):\n",
    "    modeles_inertie[k]=np.array([[KMeans(n_clusters=3,max_iter=5000).fit(myseries_transformed).inertia_,KMeans(n_clusters=4,max_iter=5000).fit(myseries_transformed3).inertia_,KMeans(n_clusters=5,max_iter=5000).fit(myseries_transformed).inertia_,KMeans(n_clusters=6,max_iter=5000).fit(myseries_transformed).inertia_],\n",
    "                         [KMeans(n_clusters=3,max_iter=5000).fit(myseries).inertia_,KMeans(n_clusters=4,max_iter=5000).fit(myseries).inertia_,KMeans(n_clusters=5,max_iter=5000).fit(myseries).inertia_,KMeans(n_clusters=6,max_iter=5000).fit(myseries).inertia_],\n",
    "                          [TimeSeriesKMeans(n_clusters=3, metric=\"dtw\").fit(X).inertia_,TimeSeriesKMeans(n_clusters=4, metric=\"dtw\").fit(X).inertia_,TimeSeriesKMeans(n_clusters=5, metric=\"dtw\").fit(X).inertia_,TimeSeriesKMeans(n_clusters=6, metric=\"dtw\").fit(X).inertia_]])\n",
    "    print(k)\n"
   ]
  },
  {
   "cell_type": "code",
   "execution_count": null,
   "id": "40ff0312",
   "metadata": {},
   "outputs": [],
   "source": [
    "fig, ax =plt.subplots(1,1,figsize=(10,10))\n",
    "\n",
    "column_labels=[\"n=3\", \"n=4\", \"n=5\",\"n=6\"]\n",
    "row_labels=[\"PCA 3 Composantes\",\"Kmeans\",\"DTW\"]\n",
    "ax.axis('tight')\n",
    "ax.axis('off')\n",
    "ax.table(cellText=np.mean(modeles_inertie, axis=0),colLabels=column_labels,rowLabels=row_labels,loc=\"center\")\n",
    "\n",
    "plt.show()"
   ]
  },
  {
   "cell_type": "code",
   "execution_count": null,
   "id": "ea2cf665",
   "metadata": {},
   "outputs": [],
   "source": [
    "#fig, ax =plt.subplots(1,1,figsize=(10,10))\n",
    "\n",
    "#column_labels=[\"n=3\", \"n=4\", \"n=5\",\"n=6\"]\n",
    "#row_labels=[\"PCA 2 composantes\",\"PCA 3 Composantes\",\"Kmeans\",\"DTW\"]\n",
    "#ax.axis('tight')\n",
    "#ax.axis('off')\n",
    "#ax.table(cellText=np.var(modeles_inertie, axis=0),colLabels=column_labels,rowLabels=row_labels,loc=\"center\")\n",
    "\n",
    "#plt.show()"
   ]
  },
  {
   "cell_type": "markdown",
   "id": "e2af3c0e",
   "metadata": {},
   "source": [
    "### Comparaison avec d'autres mesures de score"
   ]
  },
  {
   "cell_type": "markdown",
   "id": "73cd6f89",
   "metadata": {},
   "source": [
    "#### Silhouette score"
   ]
  },
  {
   "cell_type": "code",
   "execution_count": null,
   "id": "654ff8b3",
   "metadata": {},
   "outputs": [],
   "source": [
    "#%%time\n",
    "#modeles_silhouette=np.zeros((50,5,4))\n",
    "#a=silhouette_score2(X,DBSCAN(eps=e,min_samples=n,metric='precomputed').fit_predict(dtw_precomputed))\n",
    "#b=silhouette_score2(X,DBSCAN(eps=e2,min_samples=n2,metric='precomputed').fit_predict(dtw_precomputed))\n",
    "#c=np.array([silhouette_score2(X,AgglomerativeClustering(n_clusters=3,affinity='precomputed',linkage='complete').fit_predict(dtw_precomputed)),silhouette_score2(X,AgglomerativeClustering(n_clusters=4,affinity='precomputed',linkage='complete').fit_predict(dtw_precomputed)),silhouette_score2(X,AgglomerativeClustering(n_clusters=5,affinity='precomputed',linkage='complete').fit_predict(dtw_precomputed)),silhouette_score2(X,AgglomerativeClustering(n_clusters=6,affinity='precomputed',linkage='complete').fit_predict(dtw_precomputed))])\n",
    "#d= np.array([silhouette_score2(X,AgglomerativeClustering(n_clusters=3,affinity='precomputed',linkage='average').fit_predict(dtw_precomputed)),silhouette_score2(X,AgglomerativeClustering(n_clusters=4,affinity='precomputed',linkage='average').fit_predict(dtw_precomputed)),silhouette_score2(X,AgglomerativeClustering(n_clusters=5,affinity='precomputed',linkage='average').fit_predict(dtw_precomputed)),silhouette_score2(X,AgglomerativeClustering(n_clusters=6,affinity='precomputed',linkage='average').fit_predict(dtw_precomputed))])\n",
    "#for k in range(50):\n",
    "#    modeles_silhouette[k,0]=np.array([silhouette_score2(X,TimeSeriesKMeans(n_clusters=3, metric=\"dtw\").fit_predict(X)),silhouette_score2(X,TimeSeriesKMeans(n_clusters=4, metric=\"dtw\").fit_predict(X)),silhouette_score2(X,TimeSeriesKMeans(n_clusters=5, metric=\"dtw\").fit_predict(X)),silhouette_score2(X,TimeSeriesKMeans(n_clusters=6, metric=\"dtw\").fit_predict(X))])\n",
    "#    modeles_silhouette[k,1]=c\n",
    "#    modeles_silhouette[k,2]=d                                \n",
    "#    modeles_silhouette[k,3]=np.full(4,a)\n",
    "#    modeles_silhouette[k,4]=np.full(4,b)\n",
    "#    print(k)\n"
   ]
  },
  {
   "cell_type": "code",
   "execution_count": null,
   "id": "438d811d",
   "metadata": {},
   "outputs": [],
   "source": [
    "#fig, ax =plt.subplots(1,1,figsize=(10,10))\n",
    "\n",
    "#column_labels=[\"n=3\", \"n=4\", \"n=5\",\"n=6\"]\n",
    "#row_labels=[\"DTW\",\"HAC Complete\",\"HAC average\",\"DBSCAN eps=1,82 min_samples=2\",\"DBSCAN eps=1,72 min_samples=2\"]\n",
    "#ax.axis('tight')\n",
    "#ax.axis('off')\n",
    "#ax.table(cellText=np.mean(modeles_silhouette, axis=0),colLabels=column_labels,rowLabels=row_labels,loc=\"center\")\n",
    "\n",
    "#plt.show()"
   ]
  },
  {
   "cell_type": "code",
   "execution_count": null,
   "id": "124efc60",
   "metadata": {},
   "outputs": [],
   "source": [
    "#fig, ax =plt.subplots(1,1,figsize=(10,10))\n",
    "\n",
    "#column_labels=[\"n=3\", \"n=4\", \"n=5\",\"n=6\"]\n",
    "#row_labels=[\"DTW\",\"HAC Complete\",\"HAC average\",\"DBSCAN eps=1,82 min_samples=2\",\"DBSCAN eps=1,72 min_samples=2\"]\n",
    "#ax.axis('tight')\n",
    "#ax.axis('off')\n",
    "#ax.table(cellText=np.var(modeles_silhouette, axis=0),colLabels=column_labels,rowLabels=row_labels,loc=\"center\")\n",
    "\n",
    "#plt.show()"
   ]
  },
  {
   "cell_type": "markdown",
   "id": "06e5cfd2",
   "metadata": {},
   "source": [
    "#### Score de Calinski-Harabasz "
   ]
  },
  {
   "cell_type": "code",
   "execution_count": null,
   "id": "cbad2aa3",
   "metadata": {},
   "outputs": [],
   "source": [
    "def BGSS(X,labels):\n",
    "    bgss=0\n",
    "    C=dtw_barycenter_averaging(X)\n",
    "    for k in np.unique(labels):\n",
    "        n_k=len(np.where(labels==k)[0])\n",
    "        C_k=dtw_barycenter_averaging(X[np.where(labels==k)])\n",
    "        bgss+=n_k*dtw(C_k,C)**2\n",
    "    return bgss"
   ]
  },
  {
   "cell_type": "code",
   "execution_count": null,
   "id": "ee9d958d",
   "metadata": {},
   "outputs": [],
   "source": [
    "def WGSS(X,labels):\n",
    "    WGSS=0\n",
    "    for k in np.unique(labels):\n",
    "        WGSSk=0\n",
    "        C_k=dtw_barycenter_averaging(X[np.where(labels==k)])\n",
    "        for x in np.where(labels==k)[0]:\n",
    "            WGSSk+=dtw(C_k,X[x])**2\n",
    "        WGSS+=WGSSk\n",
    "    return WGSS"
   ]
  },
  {
   "cell_type": "code",
   "execution_count": null,
   "id": "e136bc84",
   "metadata": {},
   "outputs": [],
   "source": [
    "def Calinski_Harabasz_score(X,labels):\n",
    "    N=len(X)\n",
    "    K=len(np.unique(labels))\n",
    "    return BGSS(X,labels)*(N-K)/(WGSS(X,labels)*(K-1))"
   ]
  },
  {
   "cell_type": "code",
   "execution_count": null,
   "id": "d2e22ca1",
   "metadata": {},
   "outputs": [],
   "source": [
    "#%%time\n",
    "#modeles_calinski_harabasz=np.zeros((1,5,4))\n",
    "#a=Calinski_Harabasz_score(X,DBSCAN(eps=e,min_samples=n,metric='precomputed').fit_predict(dtw_precomputed))\n",
    "#b=Calinski_Harabasz_score(X,DBSCAN(eps=e2,min_samples=n2,metric='precomputed').fit_predict(dtw_precomputed))\n",
    "#c=np.array([Calinski_Harabasz_score(X,AgglomerativeClustering(n_clusters=3,affinity='precomputed',linkage='complete').fit_predict(dtw_precomputed)),Calinski_Harabasz_score(X,AgglomerativeClustering(n_clusters=4,affinity='precomputed',linkage='complete').fit_predict(dtw_precomputed)),Calinski_Harabasz_score(X,AgglomerativeClustering(n_clusters=5,affinity='precomputed',linkage='complete').fit_predict(dtw_precomputed)),Calinski_Harabasz_score(X,AgglomerativeClustering(n_clusters=6,affinity='precomputed',linkage='complete').fit_predict(dtw_precomputed))])\n",
    "#d=np.array([Calinski_Harabasz_score(X,AgglomerativeClustering(n_clusters=3,affinity='precomputed',linkage='average').fit_predict(dtw_precomputed)),Calinski_Harabasz_score(X,AgglomerativeClustering(n_clusters=4,affinity='precomputed',linkage='average').fit_predict(dtw_precomputed)),Calinski_Harabasz_score(X,AgglomerativeClustering(n_clusters=5,affinity='precomputed',linkage='average').fit_predict(dtw_precomputed)),Calinski_Harabasz_score(X,AgglomerativeClustering(n_clusters=6,affinity='precomputed',linkage='average').fit_predict(dtw_precomputed))])\n",
    "#for k in range(1):\n",
    "#    modeles_calinski_harabasz[k,0]=np.array([Calinski_Harabasz_score(X,TimeSeriesKMeans(n_clusters=3, metric=\"dtw\").fit_predict(X)),Calinski_Harabasz_score(X,TimeSeriesKMeans(n_clusters=4, metric=\"dtw\").fit_predict(X)),Calinski_Harabasz_score(X,TimeSeriesKMeans(n_clusters=5, metric=\"dtw\").fit_predict(X)),Calinski_Harabasz_score(X,TimeSeriesKMeans(n_clusters=6, metric=\"dtw\").fit_predict(X))])\n",
    "#    modeles_calinski_harabasz[k,1]=c\n",
    "#    modeles_calinski_harabasz[k,2]=d                                  \n",
    "#    modeles_calinski_harabasz[k,3]=np.full(4,a)\n",
    "#    modeles_calinski_harabasz[k,4]=np.full(4,b)\n",
    "#    print(k)\n"
   ]
  },
  {
   "cell_type": "code",
   "execution_count": null,
   "id": "4ec4d6ec",
   "metadata": {},
   "outputs": [],
   "source": [
    "#fig, ax =plt.subplots(1,1,figsize=(10,10))\n",
    "\n",
    "#column_labels=[\"n=3\", \"n=4\", \"n=5\",\"n=6\"]\n",
    "#row_labels=[\"DTW\",\"HAC Complete\",\"HAC average\",\"DBSCAN eps=1,82 min_samples=2\",\"DBSCAN eps=1,72 min_samples=2\"]\n",
    "#ax.axis('tight')\n",
    "#ax.axis('off')\n",
    "#ax.table(cellText=np.mean(modeles_calinski_harabasz, axis=0),colLabels=column_labels,rowLabels=row_labels,loc=\"center\")\n",
    "\n",
    "#plt.show()"
   ]
  },
  {
   "cell_type": "code",
   "execution_count": null,
   "id": "bc71b2b1",
   "metadata": {},
   "outputs": [],
   "source": [
    "#fig, ax =plt.subplots(1,1,figsize=(10,10))\n",
    "\n",
    "#column_labels=[\"n=3\", \"n=4\", \"n=5\",\"n=6\"]\n",
    "#row_labels=[\"DTW\",\"HAC Complete\",\"HAC average\",\"DBSCAN eps=1,82 min_samples=2\",\"DBSCAN eps=1,72 min_samples=2\"]\n",
    "#ax.axis('tight')\n",
    "#ax.axis('off')\n",
    "#ax.table(cellText=np.var(modeles_calinski_harabasz, axis=0),colLabels=column_labels,rowLabels=row_labels,loc=\"center\")\n",
    "\n",
    "#plt.show()"
   ]
  },
  {
   "cell_type": "markdown",
   "id": "049d9bbe",
   "metadata": {},
   "source": [
    "#### Davies-Bouldin score"
   ]
  },
  {
   "cell_type": "code",
   "execution_count": null,
   "id": "1dcb20e3",
   "metadata": {},
   "outputs": [],
   "source": [
    "def distance_intra_cluster(X,labels,k):\n",
    "    d=0\n",
    "    C_k=dtw_barycenter_averaging(X[np.where(labels==k)])\n",
    "    for x in np.where(labels==k)[0]:\n",
    "            d+=dtw(C_k,X[x])\n",
    "    return d"
   ]
  },
  {
   "cell_type": "code",
   "execution_count": null,
   "id": "75f7d382",
   "metadata": {},
   "outputs": [],
   "source": [
    "def Davies_Bouldin_score(X,labels):\n",
    "    K=len(np.unique(labels))\n",
    "    score=0\n",
    "    for k in np.unique(labels):\n",
    "        maxi=0\n",
    "        for k2 in np.unique(labels):\n",
    "            if k2!=k:\n",
    "                if (distance_intra_cluster(X,labels,k)+distance_intra_cluster(X,labels,k2))/dtw(dtw_barycenter_averaging(X[np.where(labels==k)]),dtw_barycenter_averaging(X[np.where(labels==k2)]))>maxi:\n",
    "                    maxi=(distance_intra_cluster(X,labels,k)+distance_intra_cluster(X,labels,k2))/dtw(dtw_barycenter_averaging(X[np.where(labels==k)]),dtw_barycenter_averaging(X[np.where(labels==k2)]))\n",
    "        score+=maxi\n",
    "    return score"
   ]
  },
  {
   "cell_type": "code",
   "execution_count": null,
   "id": "991d0171",
   "metadata": {},
   "outputs": [],
   "source": [
    "#%%time\n",
    "#modeles_davies_bouldin=np.zeros((10,5,4))\n",
    "#a=Davies_Bouldin_score(X,DBSCAN(eps=e,min_samples=n,metric='precomputed').fit_predict(dtw_precomputed))\n",
    "#b=Davies_Bouldin_score(X,DBSCAN(eps=e2,min_samples=n2,metric='precomputed').fit_predict(dtw_precomputed))\n",
    "#c=np.array([Davies_Bouldin_score(X,AgglomerativeClustering(n_clusters=3,affinity='precomputed',linkage='complete').fit_predict(dtw_precomputed)),Davies_Bouldin_score(X,AgglomerativeClustering(n_clusters=4,affinity='precomputed',linkage='complete').fit_predict(dtw_precomputed)),Davies_Bouldin_score(X,AgglomerativeClustering(n_clusters=5,affinity='precomputed',linkage='complete').fit_predict(dtw_precomputed)),Davies_Bouldin_score(X,AgglomerativeClustering(n_clusters=6,affinity='precomputed',linkage='complete').fit_predict(dtw_precomputed))])\n",
    "#d=np.array([Davies_Bouldin_score(X,AgglomerativeClustering(n_clusters=3,affinity='precomputed',linkage='average').fit_predict(dtw_precomputed)),Davies_Bouldin_score(X,AgglomerativeClustering(n_clusters=4,affinity='precomputed',linkage='average').fit_predict(dtw_precomputed)),Davies_Bouldin_score(X,AgglomerativeClustering(n_clusters=5,affinity='precomputed',linkage='average').fit_predict(dtw_precomputed)),Davies_Bouldin_score(X,AgglomerativeClustering(n_clusters=6,affinity='precomputed',linkage='average').fit_predict(dtw_precomputed))])\n",
    "#for k in range(10):\n",
    " #   modeles_davies_bouldin[k,0]=np.array([Davies_Bouldin_score(X,TimeSeriesKMeans(n_clusters=3, metric=\"dtw\").fit_predict(X)),Davies_Bouldin_score(X,TimeSeriesKMeans(n_clusters=4, metric=\"dtw\").fit_predict(X)),Davies_Bouldin_score(X,TimeSeriesKMeans(n_clusters=5, metric=\"dtw\").fit_predict(X)),Davies_Bouldin_score(X,TimeSeriesKMeans(n_clusters=6, metric=\"dtw\").fit_predict(X))])\n",
    "  #  modeles_davies_bouldin[k,1]=c\n",
    "   # modeles_davies_bouldin[k,2]=d                                  \n",
    "    #modeles_davies_bouldin[k,3]=np.full(4,a)\n",
    "    #modeles_davies_bouldin[k,4]=np.full(4,b)\n",
    "    #print(k)\n"
   ]
  },
  {
   "cell_type": "code",
   "execution_count": null,
   "id": "5b947fcc",
   "metadata": {},
   "outputs": [],
   "source": [
    "#fig, ax =plt.subplots(1,1,figsize=(10,10))\n",
    "\n",
    "#column_labels=[\"n=3\", \"n=4\", \"n=5\",\"n=6\"]\n",
    "#row_labels=[\"DTW\",\"HAC Complete\",\"HAC average\",\"DBSCAN eps=1,82 min_samples=2\",\"DBSCAN eps=1,72 min_samples=2\"]\n",
    "#ax.axis('tight')\n",
    "#ax.axis('off')\n",
    "#ax.table(cellText=np.mean(modeles_davies_bouldin, axis=0),colLabels=column_labels,rowLabels=row_labels,loc=\"center\")\n",
    "\n",
    "#plt.show()\n"
   ]
  },
  {
   "cell_type": "code",
   "execution_count": null,
   "id": "3c4de992",
   "metadata": {},
   "outputs": [],
   "source": [
    "#fig, ax =plt.subplots(1,1,figsize=(10,10))\n",
    "\n",
    "#column_labels=[\"n=3\", \"n=4\", \"n=5\",\"n=6\"]\n",
    "#row_labels=[\"DTW\",\"HAC Complete\",\"HAC average\",\"DBSCAN eps=1,82 min_samples=2\",\"DBSCAN eps=1,72 min_samples=2\"]\n",
    "#ax.axis('tight')\n",
    "#ax.axis('off')\n",
    "#ax.table(cellText=np.var(modeles_davies_bouldin, axis=0),colLabels=column_labels,rowLabels=row_labels,loc=\"center\")\n",
    "\n",
    "#plt.show()"
   ]
  },
  {
   "cell_type": "code",
   "execution_count": null,
   "id": "95fdb517",
   "metadata": {},
   "outputs": [],
   "source": [
    "#for k in range(10):\n",
    "#    print(rand_score(TimeSeriesKMeans(n_clusters=3, metric=\"dtw\").fit_predict(X),AgglomerativeClustering(n_clusters=3,affinity='precomputed',linkage='complete').fit_predict(dtw_precomputed)))"
   ]
  },
  {
   "cell_type": "code",
   "execution_count": null,
   "id": "564817cc",
   "metadata": {},
   "outputs": [],
   "source": [
    "#for k in range (10):\n",
    "#    print(adjusted_rand_score(TimeSeriesKMeans(n_clusters=3, metric=\"dtw\").fit_predict(X),AgglomerativeClustering(n_clusters=3,affinity='precomputed',linkage='complete').fit_predict(dtw_precomputed)))"
   ]
  },
  {
   "cell_type": "code",
   "execution_count": null,
   "id": "54642dc6",
   "metadata": {},
   "outputs": [],
   "source": [
    "#for k in range(10):\n",
    "#    print(rand_score(TimeSeriesKMeans(n_clusters=3, metric=\"dtw\").fit_predict(X),AgglomerativeClustering(n_clusters=3,affinity='precomputed',linkage='average').fit_predict(dtw_precomputed)))"
   ]
  },
  {
   "cell_type": "code",
   "execution_count": null,
   "id": "93ef6d3b",
   "metadata": {},
   "outputs": [],
   "source": [
    "#for k in range (10):\n",
    "#    print(adjusted_rand_score(TimeSeriesKMeans(n_clusters=3, metric=\"dtw\").fit_predict(X),AgglomerativeClustering(n_clusters=3,affinity='precomputed',linkage='average').fit_predict(dtw_precomputed)))"
   ]
  },
  {
   "cell_type": "code",
   "execution_count": null,
   "id": "1a928bad",
   "metadata": {},
   "outputs": [],
   "source": [
    "#for k in range(10):\n",
    "#    print(rand_score(TimeSeriesKMeans(n_clusters=3, metric=\"dtw\").fit_predict(X),AgglomerativeClustering(n_clusters=3,affinity='precomputed',linkage='single').fit_predict(dtw_precomputed)))"
   ]
  },
  {
   "cell_type": "code",
   "execution_count": null,
   "id": "6a93dacb",
   "metadata": {},
   "outputs": [],
   "source": [
    "#for k in range (10):\n",
    "#    print(adjusted_rand_score(TimeSeriesKMeans(n_clusters=3, metric=\"dtw\").fit_predict(X),AgglomerativeClustering(n_clusters=3,affinity='precomputed',linkage='single').fit_predict(dtw_precomputed)))"
   ]
  },
  {
   "cell_type": "code",
   "execution_count": null,
   "id": "fbcd75de",
   "metadata": {},
   "outputs": [],
   "source": [
    "def toujours_ensemble(i,j,*args):\n",
    "    for k in args:\n",
    "        if k[i]!=k[j]:\n",
    "            return False\n",
    "    return True"
   ]
  },
  {
   "cell_type": "code",
   "execution_count": null,
   "id": "005cff07",
   "metadata": {},
   "outputs": [],
   "source": [
    "def dans_liste_de_liste(l,i):\n",
    "    for k in l:\n",
    "        if i in k:\n",
    "            return True\n",
    "    return False"
   ]
  },
  {
   "cell_type": "code",
   "execution_count": null,
   "id": "6cca080c",
   "metadata": {},
   "outputs": [],
   "source": [
    "def indices_toujours_ensemble(*args):\n",
    "    l=[]\n",
    "    for i in range(125):\n",
    "        li=[]\n",
    "        if not dans_liste_de_liste(l,indice_produit[i]):\n",
    "            for j in range(125):\n",
    "                if toujours_ensemble(i,j,*args):\n",
    "                    li.append(indice_produit[j])\n",
    "            if len(li)>1:\n",
    "                l.append(li)\n",
    "    return l"
   ]
  },
  {
   "cell_type": "code",
   "execution_count": null,
   "id": "b11d2286",
   "metadata": {},
   "outputs": [],
   "source": [
    "c_trois=TimeSeriesKMeans(n_clusters=3, metric=\"dtw\").fit_predict(X)"
   ]
  },
  {
   "cell_type": "code",
   "execution_count": null,
   "id": "476a0bbf",
   "metadata": {},
   "outputs": [],
   "source": [
    "argument3=c_trois,TimeSeriesKMeans(n_clusters=3, metric=\"dtw\").fit_predict(X),TimeSeriesKMeans(n_clusters=3, metric=\"dtw\").fit_predict(X),TimeSeriesKMeans(n_clusters=3, metric=\"dtw\").fit_predict(X),TimeSeriesKMeans(n_clusters=3, metric=\"dtw\").fit_predict(X),TimeSeriesKMeans(n_clusters=3, metric=\"dtw\").fit_predict(X),TimeSeriesKMeans(n_clusters=3, metric=\"dtw\").fit_predict(X),TimeSeriesKMeans(n_clusters=3, metric=\"dtw\").fit_predict(X),TimeSeriesKMeans(n_clusters=3, metric=\"dtw\").fit_predict(X),TimeSeriesKMeans(n_clusters=3, metric=\"dtw\").fit_predict(X),AgglomerativeClustering(n_clusters=3,affinity='precomputed',linkage='complete').fit_predict(dtw_precomputed)"
   ]
  },
  {
   "cell_type": "code",
   "execution_count": null,
   "id": "0e85cd0d",
   "metadata": {},
   "outputs": [],
   "source": [
    "%%time\n",
    "\n",
    "a=indices_toujours_ensemble(*argument3)"
   ]
  },
  {
   "cell_type": "code",
   "execution_count": null,
   "id": "4c82e7b2",
   "metadata": {},
   "outputs": [],
   "source": [
    "len(a)"
   ]
  },
  {
   "cell_type": "code",
   "execution_count": null,
   "id": "549cc423",
   "metadata": {},
   "outputs": [],
   "source": [
    "sum([len(k) for k in a])"
   ]
  },
  {
   "cell_type": "code",
   "execution_count": null,
   "id": "cd794131",
   "metadata": {},
   "outputs": [],
   "source": [
    "[len(k) for k in a]"
   ]
  },
  {
   "cell_type": "code",
   "execution_count": null,
   "id": "94517605",
   "metadata": {},
   "outputs": [],
   "source": [
    "fig, axs = plt.subplots(6,4,figsize=(25,35))\n",
    "row_i=0\n",
    "column_j=0\n",
    "for i in a[1]:\n",
    "    axs[row_i,column_j].plot(indice_temps[np.where(indice_produit==i)[0][0]],myseries2[np.where(indice_produit==i)[0][0]],c=\"blue\")\n",
    "    column_j+=1\n",
    "    if column_j%4==0:\n",
    "        row_i+=1\n",
    "        column_j=0\n",
    "     \n",
    "plt.savefig('C:/Users/gabri/OneDrive/Bureau/Cours ENSAE/2ème année/Stage/Toujours ensemble 1.jpeg')\n",
    "plt.show()"
   ]
  },
  {
   "cell_type": "code",
   "execution_count": null,
   "id": "459fb2c7",
   "metadata": {
    "scrolled": true
   },
   "outputs": [],
   "source": [
    "#fig, axs = plt.subplots(2,4,figsize=(25,15))\n",
    "#row_i=0\n",
    "#column_j=0\n",
    "#for i in a[2]:\n",
    "#    axs[row_i,column_j].plot(indice_temps[np.where(indice_produit==i)[0][0]],myseries2[np.where(indice_produit==i)[0][0]],c=\"blue\")\n",
    "#    column_j+=1\n",
    "#    if column_j%4==0:\n",
    "#        row_i+=1\n",
    "#        column_j=0\n",
    "     \n",
    "#plt.savefig('C:/Users/gabri/OneDrive/Bureau/Cours ENSAE/2ème année/Stage/Toujours ensemble 2.jpeg')\n",
    "#plt.show()"
   ]
  },
  {
   "cell_type": "code",
   "execution_count": null,
   "id": "70d3848b",
   "metadata": {},
   "outputs": [],
   "source": [
    "fig, axs = plt.subplots(3,4,figsize=(25,15))\n",
    "row_i=0\n",
    "column_j=0\n",
    "for i in a[5]:\n",
    "    axs[row_i,column_j].plot(indice_temps[np.where(indice_produit==i)[0][0]],myseries2[np.where(indice_produit==i)[0][0]],c=\"blue\")\n",
    "    column_j+=1\n",
    "    if column_j%4==0:\n",
    "        row_i+=1\n",
    "        column_j=0\n",
    "     \n",
    "plt.savefig('C:/Users/gabri/OneDrive/Bureau/Cours ENSAE/2ème année/Stage/Toujours ensemble 3.jpeg')\n",
    "plt.show()"
   ]
  },
  {
   "cell_type": "code",
   "execution_count": null,
   "id": "e2502f29",
   "metadata": {},
   "outputs": [],
   "source": [
    "fig, axs = plt.subplots(2,4,figsize=(25,15))\n",
    "row_i=0\n",
    "column_j=0\n",
    "for i in a[6]:\n",
    "    axs[row_i,column_j].plot(indice_temps[np.where(indice_produit==i)[0][0]],myseries2[np.where(indice_produit==i)[0][0]],c=\"blue\")\n",
    "    column_j+=1\n",
    "    if column_j%4==0:\n",
    "        row_i+=1\n",
    "        column_j=0\n",
    "     \n",
    "plt.savefig('C:/Users/gabri/OneDrive/Bureau/Cours ENSAE/2ème année/Stage/Toujours ensemble 4.jpeg')\n",
    "plt.show()"
   ]
  },
  {
   "cell_type": "code",
   "execution_count": null,
   "id": "c44b6202",
   "metadata": {
    "scrolled": true
   },
   "outputs": [],
   "source": [
    "#fig, axs = plt.subplots(2,4,figsize=(25,15))\n",
    "#row_i=0\n",
    "#column_j=0\n",
    "#for i in a[8]:\n",
    "#    axs[row_i,column_j].plot(indice_temps[np.where(indice_produit==i)[0][0]],myseries2[np.where(indice_produit==i)[0][0]],c=\"blue\")\n",
    "#    column_j+=1\n",
    "#    if column_j%4==0:\n",
    "#        row_i+=1\n",
    "#        column_j=0\n",
    "     \n",
    "#plt.savefig('C:/Users/gabri/OneDrive/Bureau/Cours ENSAE/2ème année/Stage/Toujours ensemble 5.jpeg')\n",
    "#plt.show()"
   ]
  },
  {
   "cell_type": "code",
   "execution_count": null,
   "id": "f3f2e9d7",
   "metadata": {},
   "outputs": [],
   "source": [
    "np.where(indice_produit==69933)"
   ]
  },
  {
   "cell_type": "code",
   "execution_count": null,
   "id": "db817b55",
   "metadata": {},
   "outputs": [],
   "source": [
    "np.where(indice_produit==62256)"
   ]
  },
  {
   "cell_type": "code",
   "execution_count": null,
   "id": "43ca8d3a",
   "metadata": {},
   "outputs": [],
   "source": [
    "np.where(indice_produit==63413)"
   ]
  },
  {
   "cell_type": "code",
   "execution_count": null,
   "id": "c29f76a0",
   "metadata": {},
   "outputs": [],
   "source": [
    "AgglomerativeClustering(n_clusters=3,affinity='precomputed',linkage='complete').fit_predict(dtw_precomputed)[92]"
   ]
  },
  {
   "cell_type": "code",
   "execution_count": null,
   "id": "f5dc5247",
   "metadata": {},
   "outputs": [],
   "source": [
    "fancy_names_for_labels_c = [f\"Cluster {label}\" for label in c_trois]\n",
    "prediction_c=pd.DataFrame(zip(indice_produit,fancy_names_for_labels_c),columns=[\"Series\",\"Cluster\"]).sort_values(by=\"Cluster\").set_index(\"Series\")"
   ]
  },
  {
   "cell_type": "code",
   "execution_count": null,
   "id": "c84c79c6",
   "metadata": {},
   "outputs": [],
   "source": [
    "for k in range(3):\n",
    "    print(prediction_c[prediction_c['Cluster']==f'Cluster {k}'].index)"
   ]
  },
  {
   "cell_type": "code",
   "execution_count": null,
   "id": "78967063",
   "metadata": {},
   "outputs": [],
   "source": [
    "def jamais_ensemble(i,j,*args):\n",
    "    for k in args:\n",
    "        if k[i]==k[j]:\n",
    "            return False\n",
    "    return True"
   ]
  },
  {
   "cell_type": "code",
   "execution_count": null,
   "id": "a5cc496f",
   "metadata": {},
   "outputs": [],
   "source": [
    "def indices_jamais_avec_k(k,*args):\n",
    "    l=[]\n",
    "    i=np.where(indice_produit==k)[0][0]\n",
    "    for j in range(125):\n",
    "        if jamais_ensemble(i,j,*args):\n",
    "            l.append(indice_produit[j])\n",
    "    return l"
   ]
  },
  {
   "cell_type": "code",
   "execution_count": null,
   "id": "ac088899",
   "metadata": {},
   "outputs": [],
   "source": [
    "%%time\n",
    "liste3=[]\n",
    "for k in indice_produit:\n",
    "    liste3.append(indices_jamais_avec_k(k,*argument3))\n",
    "liste3"
   ]
  },
  {
   "cell_type": "code",
   "execution_count": null,
   "id": "a10f9fdb",
   "metadata": {},
   "outputs": [],
   "source": [
    "e=np.array([len(k) for k in liste3])"
   ]
  },
  {
   "cell_type": "code",
   "execution_count": null,
   "id": "369ebb1e",
   "metadata": {},
   "outputs": [],
   "source": [
    "np.where(e==np.min(e))[0]"
   ]
  },
  {
   "cell_type": "code",
   "execution_count": null,
   "id": "14fc03e3",
   "metadata": {},
   "outputs": [],
   "source": [
    "e[10]"
   ]
  },
  {
   "cell_type": "code",
   "execution_count": null,
   "id": "5fd80557",
   "metadata": {},
   "outputs": [],
   "source": [
    "np.where(e==np.max(e))[0]"
   ]
  },
  {
   "cell_type": "code",
   "execution_count": null,
   "id": "5f66a40b",
   "metadata": {},
   "outputs": [],
   "source": [
    "liste3[0]"
   ]
  },
  {
   "cell_type": "code",
   "execution_count": null,
   "id": "d2943db3",
   "metadata": {},
   "outputs": [],
   "source": [
    "liste3[6]"
   ]
  },
  {
   "cell_type": "code",
   "execution_count": null,
   "id": "2ec32af2",
   "metadata": {},
   "outputs": [],
   "source": [
    "liste3[3]"
   ]
  },
  {
   "cell_type": "code",
   "execution_count": null,
   "id": "c29bf03e",
   "metadata": {},
   "outputs": [],
   "source": [
    "[indice_produit[k] for k in np.where(e==np.max(e))[0]]"
   ]
  },
  {
   "cell_type": "markdown",
   "id": "6244fcc7",
   "metadata": {},
   "source": [
    "### Toujours ensemble 4 clusters "
   ]
  },
  {
   "cell_type": "code",
   "execution_count": null,
   "id": "afb17ff8",
   "metadata": {},
   "outputs": [],
   "source": [
    "c_quatre=TimeSeriesKMeans(n_clusters=4, metric=\"dtw\").fit_predict(X)"
   ]
  },
  {
   "cell_type": "code",
   "execution_count": null,
   "id": "1cbfa246",
   "metadata": {},
   "outputs": [],
   "source": [
    "argument4=c_quatre,TimeSeriesKMeans(n_clusters=4, metric=\"dtw\").fit_predict(X),TimeSeriesKMeans(n_clusters=4, metric=\"dtw\").fit_predict(X),TimeSeriesKMeans(n_clusters=4, metric=\"dtw\").fit_predict(X),TimeSeriesKMeans(n_clusters=4, metric=\"dtw\").fit_predict(X),TimeSeriesKMeans(n_clusters=4, metric=\"dtw\").fit_predict(X),TimeSeriesKMeans(n_clusters=4, metric=\"dtw\").fit_predict(X),TimeSeriesKMeans(n_clusters=4, metric=\"dtw\").fit_predict(X),TimeSeriesKMeans(n_clusters=4, metric=\"dtw\").fit_predict(X),TimeSeriesKMeans(n_clusters=4, metric=\"dtw\").fit_predict(X),AgglomerativeClustering(n_clusters=4,affinity='precomputed',linkage='complete').fit_predict(dtw_precomputed)"
   ]
  },
  {
   "cell_type": "code",
   "execution_count": null,
   "id": "24ed5ae5",
   "metadata": {},
   "outputs": [],
   "source": [
    "b=indices_toujours_ensemble(*argument4)"
   ]
  },
  {
   "cell_type": "code",
   "execution_count": null,
   "id": "d0a42669",
   "metadata": {},
   "outputs": [],
   "source": [
    "len(b)"
   ]
  },
  {
   "cell_type": "code",
   "execution_count": null,
   "id": "1540faec",
   "metadata": {},
   "outputs": [],
   "source": [
    "sum([len(k) for k in b])"
   ]
  },
  {
   "cell_type": "code",
   "execution_count": null,
   "id": "7e3c4f51",
   "metadata": {},
   "outputs": [],
   "source": [
    "[len(k) for k in b]"
   ]
  },
  {
   "cell_type": "code",
   "execution_count": null,
   "id": "b2e83e93",
   "metadata": {},
   "outputs": [],
   "source": [
    "b[1]"
   ]
  },
  {
   "cell_type": "markdown",
   "id": "0eef189f",
   "metadata": {},
   "source": [
    "### Toujours ensemble 5 clusters"
   ]
  },
  {
   "cell_type": "code",
   "execution_count": null,
   "id": "662a0e54",
   "metadata": {},
   "outputs": [],
   "source": [
    "c_cinq=TimeSeriesKMeans(n_clusters=5, metric=\"dtw\").fit_predict(X)"
   ]
  },
  {
   "cell_type": "code",
   "execution_count": null,
   "id": "8d3eba96",
   "metadata": {},
   "outputs": [],
   "source": [
    "argument5=c_cinq,TimeSeriesKMeans(n_clusters=5, metric=\"dtw\").fit_predict(X),TimeSeriesKMeans(n_clusters=5, metric=\"dtw\").fit_predict(X),TimeSeriesKMeans(n_clusters=5, metric=\"dtw\").fit_predict(X),TimeSeriesKMeans(n_clusters=5, metric=\"dtw\").fit_predict(X),TimeSeriesKMeans(n_clusters=5, metric=\"dtw\").fit_predict(X),TimeSeriesKMeans(n_clusters=5, metric=\"dtw\").fit_predict(X),TimeSeriesKMeans(n_clusters=5, metric=\"dtw\").fit_predict(X),TimeSeriesKMeans(n_clusters=5, metric=\"dtw\").fit_predict(X),TimeSeriesKMeans(n_clusters=5, metric=\"dtw\").fit_predict(X),AgglomerativeClustering(n_clusters=5,affinity='precomputed',linkage='complete').fit_predict(dtw_precomputed)"
   ]
  },
  {
   "cell_type": "code",
   "execution_count": null,
   "id": "077a7714",
   "metadata": {},
   "outputs": [],
   "source": [
    "c=indices_toujours_ensemble(*argument5)"
   ]
  },
  {
   "cell_type": "code",
   "execution_count": null,
   "id": "ac295137",
   "metadata": {},
   "outputs": [],
   "source": [
    "len(c)"
   ]
  },
  {
   "cell_type": "code",
   "execution_count": null,
   "id": "e5b329e0",
   "metadata": {},
   "outputs": [],
   "source": [
    "sum([len(k) for k in c])"
   ]
  },
  {
   "cell_type": "code",
   "execution_count": null,
   "id": "77bcc0d5",
   "metadata": {},
   "outputs": [],
   "source": [
    "[len(k) for k in c]"
   ]
  },
  {
   "cell_type": "code",
   "execution_count": null,
   "id": "01c99b8a",
   "metadata": {},
   "outputs": [],
   "source": [
    "c[0]"
   ]
  },
  {
   "cell_type": "markdown",
   "id": "92584aa1",
   "metadata": {},
   "source": [
    "### Toujours ensemble 6 clusters"
   ]
  },
  {
   "cell_type": "code",
   "execution_count": null,
   "id": "17644808",
   "metadata": {},
   "outputs": [],
   "source": [
    "c_six=TimeSeriesKMeans(n_clusters=6, metric=\"dtw\").fit_predict(X)"
   ]
  },
  {
   "cell_type": "code",
   "execution_count": null,
   "id": "0338bd0a",
   "metadata": {},
   "outputs": [],
   "source": [
    "argument6=c_six,TimeSeriesKMeans(n_clusters=6, metric=\"dtw\").fit_predict(X),TimeSeriesKMeans(n_clusters=6, metric=\"dtw\").fit_predict(X),TimeSeriesKMeans(n_clusters=6, metric=\"dtw\").fit_predict(X),TimeSeriesKMeans(n_clusters=6, metric=\"dtw\").fit_predict(X),TimeSeriesKMeans(n_clusters=6, metric=\"dtw\").fit_predict(X),TimeSeriesKMeans(n_clusters=6, metric=\"dtw\").fit_predict(X),TimeSeriesKMeans(n_clusters=6, metric=\"dtw\").fit_predict(X),TimeSeriesKMeans(n_clusters=6, metric=\"dtw\").fit_predict(X),TimeSeriesKMeans(n_clusters=6, metric=\"dtw\").fit_predict(X),AgglomerativeClustering(n_clusters=6,affinity='precomputed',linkage='complete').fit_predict(dtw_precomputed)"
   ]
  },
  {
   "cell_type": "code",
   "execution_count": null,
   "id": "d9d3815d",
   "metadata": {},
   "outputs": [],
   "source": [
    "d=indices_toujours_ensemble(*argument6)"
   ]
  },
  {
   "cell_type": "code",
   "execution_count": null,
   "id": "f2351f8c",
   "metadata": {},
   "outputs": [],
   "source": [
    "len(d)"
   ]
  },
  {
   "cell_type": "code",
   "execution_count": null,
   "id": "ac38a631",
   "metadata": {},
   "outputs": [],
   "source": [
    "sum([len(k) for k in d])"
   ]
  },
  {
   "cell_type": "code",
   "execution_count": null,
   "id": "b080142c",
   "metadata": {},
   "outputs": [],
   "source": [
    "[len(k) for k in d]"
   ]
  },
  {
   "cell_type": "code",
   "execution_count": null,
   "id": "7cf5ec38",
   "metadata": {},
   "outputs": [],
   "source": [
    "d[0]"
   ]
  },
  {
   "cell_type": "code",
   "execution_count": null,
   "id": "25ef705c",
   "metadata": {},
   "outputs": [],
   "source": [
    "d[1]"
   ]
  },
  {
   "cell_type": "code",
   "execution_count": null,
   "id": "8afd5059",
   "metadata": {},
   "outputs": [],
   "source": [
    "Liste_cluster=[70193,70196,63951,60743,70210,70203,69933,70113,69777,69917,69932,61521,62094,62095,62256,62539,62545,62546,62547,62562,62848,63412,63413,63485,63486,61395]"
   ]
  },
  {
   "cell_type": "code",
   "execution_count": null,
   "id": "d5350397",
   "metadata": {},
   "outputs": [],
   "source": [
    "len(Liste_cluster)"
   ]
  },
  {
   "cell_type": "code",
   "execution_count": null,
   "id": "0cfdcdca",
   "metadata": {},
   "outputs": [],
   "source": [
    "fig, axs = plt.subplots(7,4,figsize=(25,15))\n",
    "row_i=0\n",
    "column_j=0\n",
    "for indice in Liste_cluster:\n",
    "    a=np.where(indice_produit==indice)[0][0]\n",
    "    axs[row_i,column_j].plot(indice_temps[np.where(indice_produit==indice)[0][0]],myseries2[np.where(indice_produit==indice)[0][0]],c=\"blue\")\n",
    "    column_j+=1\n",
    "    if column_j%4==0:\n",
    "        row_i+=1\n",
    "        column_j=0\n",
    "        \n",
    "plt.show\n"
   ]
  },
  {
   "cell_type": "code",
   "execution_count": null,
   "id": "752cebbd",
   "metadata": {},
   "outputs": [],
   "source": [
    "plt.plot(indice_temps[np.where(indice_produit==Liste_cluster[9])[0][0]],myseries3[np.where(indice_produit==Liste_cluster[9])[0][0]])\n",
    "plt.ylim([0,20])"
   ]
  },
  {
   "cell_type": "code",
   "execution_count": null,
   "id": "1bb3ae0a",
   "metadata": {},
   "outputs": [],
   "source": [
    "indice_temps[np.where(indice_produit==Liste_cluster[9])[0][0]]"
   ]
  },
  {
   "cell_type": "code",
   "execution_count": null,
   "id": "021f36a8",
   "metadata": {},
   "outputs": [],
   "source": [
    "cluster_1=[70181, 70208, 60887, 70212, 70214, 70215, 70731, 60257, 69776,\n",
    "            60262, 66589, 67452, 62850, 67849, 69496, 65652, 63837, 60890,\n",
    "            66594, 60741, 63701, 62458, 70197, 69728, 63921, 65649, 70199,\n",
    "            62461, 63922]\n",
    "len(cluster_1)"
   ]
  },
  {
   "cell_type": "code",
   "execution_count": null,
   "id": "e59766e8",
   "metadata": {},
   "outputs": [],
   "source": [
    "fig, axs = plt.subplots(8,4,figsize=(25,15))\n",
    "row_i=0\n",
    "column_j=0\n",
    "for indice in cluster_1:\n",
    "    a=np.where(indice_produit==indice)[0][0]\n",
    "    axs[row_i,column_j].plot(indice_temps[np.where(indice_produit==indice)[0][0]],myseries3[np.where(indice_produit==indice)[0][0]],c=\"blue\")\n",
    "    column_j+=1\n",
    "    if column_j%4==0:\n",
    "        row_i+=1\n",
    "        column_j=0\n",
    "        \n",
    "plt.show"
   ]
  },
  {
   "cell_type": "code",
   "execution_count": null,
   "id": "2528561b",
   "metadata": {},
   "outputs": [],
   "source": [
    "cluster_2=[63485, 63486, 62546, 70185, 61522, 62547, 62562, 62589, 69933,\n",
    "            62848, 70113, 69734, 69771, 69770, 62094, 62539, 63413, 69777,\n",
    "            69787, 69790, 62450, 62256, 69932, 62095, 61521, 62545, 69917,\n",
    "            67827, 70205, 60198, 70193, 70196, 60204, 63846, 63951, 69731,\n",
    "            60412, 66855, 66598, 63833, 60743, 70210, 60555, 60354, 70203,\n",
    "            69196, 68829, 67826, 61395, 63412]\n",
    "len(cluster_2)"
   ]
  },
  {
   "cell_type": "code",
   "execution_count": null,
   "id": "70692174",
   "metadata": {},
   "outputs": [],
   "source": [
    "fig, axs = plt.subplots(13,4,figsize=(25,15))\n",
    "row_i=0\n",
    "column_j=0\n",
    "for indice in cluster_2:\n",
    "    a=np.where(indice_produit==indice)[0][0]\n",
    "    axs[row_i,column_j].plot(indice_temps[np.where(indice_produit==indice)[0][0]],myseries3[np.where(indice_produit==indice)[0][0]],c=\"blue\")\n",
    "    column_j+=1\n",
    "    if column_j%4==0:\n",
    "        row_i+=1\n",
    "        column_j=0\n",
    "        \n",
    "plt.show"
   ]
  },
  {
   "cell_type": "code",
   "execution_count": null,
   "id": "8bb367b8",
   "metadata": {},
   "outputs": [],
   "source": [
    "cluster_3=[69727, 65655, 69729, 65654, 60409, 61037, 70187, 60205, 60245,\n",
    "            60337, 60248, 70188, 61027, 70189, 69733, 70191, 70192, 70194,\n",
    "            70202, 63845, 64233, 65650, 60414, 60416, 60417, 60507, 60823,\n",
    "            70211, 60250, 60256, 60261, 60263, 60272, 60273, 67020, 67453,\n",
    "            69669, 69726, 70207, 60839, 60982, 70179, 60200, 70183, 62491,\n",
    "            60201]\n",
    "len(cluster_3)"
   ]
  },
  {
   "cell_type": "code",
   "execution_count": null,
   "id": "3691b1d0",
   "metadata": {},
   "outputs": [],
   "source": [
    "fig, axs = plt.subplots(12,4,figsize=(25,15))\n",
    "row_i=0\n",
    "column_j=0\n",
    "for indice in cluster_3:\n",
    "    a=np.where(indice_produit==indice)[0][0]\n",
    "    axs[row_i,column_j].plot(indice_temps[np.where(indice_produit==indice)[0][0]],myseries3[np.where(indice_produit==indice)[0][0]],c=\"blue\")\n",
    "    column_j+=1\n",
    "    if column_j%4==0:\n",
    "        row_i+=1\n",
    "        column_j=0\n",
    "        \n",
    "plt.show"
   ]
  },
  {
   "cell_type": "code",
   "execution_count": null,
   "id": "6002a0b4",
   "metadata": {},
   "outputs": [],
   "source": [
    "fig, axs = plt.subplots(8,4,figsize=(25,15))\n",
    "row_i=0\n",
    "column_j=0\n",
    "for indice in cluster_1:\n",
    "    a=len(myseries3[np.where(indice_produit==indice)[0][0]])\n",
    "    axs[row_i,column_j].plot(range(min(a,79)),acf(myseries3[np.where(indice_produit==indice)[0][0]],nlags=min(a,79)-1),c=\"blue\")\n",
    "    column_j+=1\n",
    "    if column_j%4==0:\n",
    "        row_i+=1\n",
    "        column_j=0\n",
    "        "
   ]
  },
  {
   "cell_type": "code",
   "execution_count": null,
   "id": "fb54aacf",
   "metadata": {},
   "outputs": [],
   "source": [
    "fig, axs = plt.subplots(13,4,figsize=(25,25))\n",
    "row_i=0\n",
    "column_j=0\n",
    "for indice in cluster_2:\n",
    "    a=len(myseries3[np.where(indice_produit==indice)[0][0]])\n",
    "    axs[row_i,column_j].plot(range(min(a,79)),acf(myseries3[np.where(indice_produit==indice)[0][0]],nlags=min(a,79)-1),c=\"blue\")\n",
    "    column_j+=1\n",
    "    if column_j%4==0:\n",
    "        row_i+=1\n",
    "        column_j=0"
   ]
  },
  {
   "cell_type": "code",
   "execution_count": null,
   "id": "f10d7ed3",
   "metadata": {},
   "outputs": [],
   "source": [
    "fig, axs = plt.subplots(12,4,figsize=(25,25))\n",
    "row_i=0\n",
    "column_j=0\n",
    "for indice in cluster_3:\n",
    "    a=len(myseries3[np.where(indice_produit==indice)[0][0]])\n",
    "    axs[row_i,column_j].plot(range(min(a,79)),acf(myseries3[np.where(indice_produit==indice)[0][0]],nlags=min(a,79)-1),c=\"blue\")\n",
    "    column_j+=1\n",
    "    if column_j%4==0:\n",
    "        row_i+=1\n",
    "        column_j=0"
   ]
  },
  {
   "cell_type": "code",
   "execution_count": null,
   "id": "9a2b7f41",
   "metadata": {},
   "outputs": [],
   "source": [
    "fig, axs = plt.subplots(8,4,figsize=(25,15))\n",
    "row_i=0\n",
    "column_j=0\n",
    "for indice in cluster_1:\n",
    "    a=len(myseries3[np.where(indice_produit==indice)[0][0]])\n",
    "    axs[row_i,column_j].plot(range(min(a//2,79)),pacf(myseries3[np.where(indice_produit==indice)[0][0]],nlags=min(a//2,79)-1),c=\"blue\")\n",
    "    column_j+=1\n",
    "    if column_j%4==0:\n",
    "        row_i+=1\n",
    "        column_j=0"
   ]
  },
  {
   "cell_type": "code",
   "execution_count": null,
   "id": "421aab11",
   "metadata": {},
   "outputs": [],
   "source": [
    "fig, axs = plt.subplots(13,4,figsize=(25,25))\n",
    "row_i=0\n",
    "column_j=0\n",
    "for indice in cluster_2:\n",
    "    a=len(myseries3[np.where(indice_produit==indice)[0][0]])\n",
    "    axs[row_i,column_j].plot(range(min(a//2,79)),pacf(myseries3[np.where(indice_produit==indice)[0][0]],nlags=min(a//2,79)-1),c=\"blue\")\n",
    "    column_j+=1\n",
    "    if column_j%4==0:\n",
    "        row_i+=1\n",
    "        column_j=0"
   ]
  },
  {
   "cell_type": "code",
   "execution_count": null,
   "id": "e4e38126",
   "metadata": {},
   "outputs": [],
   "source": [
    "fig, axs = plt.subplots(12,4,figsize=(25,25))\n",
    "row_i=0\n",
    "column_j=0\n",
    "for indice in cluster_3:\n",
    "    a=len(myseries3[np.where(indice_produit==indice)[0][0]])\n",
    "    axs[row_i,column_j].plot(range(min(a//2,79)),pacf(myseries3[np.where(indice_produit==indice)[0][0]],nlags=min(a//2,79)-1),c=\"blue\")\n",
    "    column_j+=1\n",
    "    if column_j%4==0:\n",
    "        row_i+=1\n",
    "        column_j=0"
   ]
  },
  {
   "cell_type": "code",
   "execution_count": null,
   "id": "8469ba73",
   "metadata": {},
   "outputs": [],
   "source": [
    "labels_signature=[1, 1, 0, 2, 2, 2, 0, 0, 1, 1, 2, 2, 1, 2, 2, 1, 2, 2, 0, 2, 1, 1, 1, 1,\n",
    "        1, 1, 0, 2, 0, 0, 1, 2, 2, 1, 1, 1, 1, 1, 1, 1, 1, 0, 1, 0, 2, 2, 2, 2,\n",
    "        0, 1, 1, 2, 2, 2, 0, 1, 1, 1, 1, 2, 2, 1, 2, 1, 1, 1, 0, 1, 1, 2, 1, 1,\n",
    "        2, 2, 2, 1, 2, 2, 2, 2, 2, 2, 1, 2, 2, 2, 2, 2, 2, 2, 2, 2, 2, 2, 2, 2,\n",
    "        1, 1, 2, 2, 1, 1, 1, 2, 1, 1, 1, 2, 1, 2, 1, 1, 2, 1, 1, 2, 2, 2, 1, 1,\n",
    "        1, 1, 2, 0, 1]"
   ]
  },
  {
   "cell_type": "code",
   "execution_count": null,
   "id": "e63b2961",
   "metadata": {},
   "outputs": [],
   "source": [
    "a=indices_toujours_ensemble(c_trois,labels_signature)"
   ]
  },
  {
   "cell_type": "code",
   "execution_count": null,
   "id": "077c8f59",
   "metadata": {},
   "outputs": [],
   "source": [
    "sum([len(k) for k in a])"
   ]
  },
  {
   "cell_type": "code",
   "execution_count": null,
   "id": "a263b45a",
   "metadata": {},
   "outputs": [],
   "source": [
    "[len(k) for k in a]"
   ]
  },
  {
   "cell_type": "code",
   "execution_count": null,
   "id": "e4c463a0",
   "metadata": {},
   "outputs": [],
   "source": []
  }
 ],
 "metadata": {
  "colab": {
   "name": "forecasting.ipynb",
   "provenance": []
  },
  "kernelspec": {
   "display_name": "Python 3 (ipykernel)",
   "language": "python",
   "name": "python3"
  },
  "language_info": {
   "codemirror_mode": {
    "name": "ipython",
    "version": 3
   },
   "file_extension": ".py",
   "mimetype": "text/x-python",
   "name": "python",
   "nbconvert_exporter": "python",
   "pygments_lexer": "ipython3",
   "version": "3.9.12"
  },
  "toc": {
   "base_numbering": 1,
   "nav_menu": {},
   "number_sections": true,
   "sideBar": true,
   "skip_h1_title": true,
   "title_cell": "Table of Contents",
   "title_sidebar": "Contents",
   "toc_cell": false,
   "toc_position": {},
   "toc_section_display": true,
   "toc_window_display": false
  }
 },
 "nbformat": 4,
 "nbformat_minor": 5
}
