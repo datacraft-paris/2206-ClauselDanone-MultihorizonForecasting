{
 "cells": [
  {
   "cell_type": "code",
   "execution_count": 1,
   "id": "d9e68a13",
   "metadata": {},
   "outputs": [
    {
     "name": "stdout",
     "output_type": "stream",
     "text": [
      "importing Jupyter notebook from datacraft_danone.ipynb\n"
     ]
    },
    {
     "name": "stderr",
     "output_type": "stream",
     "text": [
      "WARNING - (py.warnings._showwarnmsg) - <string>:29: UserWarning:\n",
      "\n",
      "\n",
      "The dash_html_components package is deprecated. Please replace\n",
      "`import dash_html_components as html` with `from dash import html`\n",
      "\n",
      "\n",
      "WARNING - (py.warnings._showwarnmsg) - C:\\Users\\amiar\\AppData\\Local\\Temp\\ipykernel_2092\\200530629.py:8: UserWarning:\n",
      "\n",
      "\n",
      "The dash_core_components package is deprecated. Please replace\n",
      "`import dash_core_components as dcc` with `from dash import dcc`\n",
      "\n",
      "\n"
     ]
    }
   ],
   "source": [
    "import nbformat\n",
    "import import_ipynb\n",
    "import datacraft_danone as dd\n",
    "import pandas as pd\n",
    "import numpy as np\n",
    "\n",
    "from jupyter_dash import JupyterDash\n",
    "import dash_core_components as dcc\n",
    "import dash_html_components as html\n",
    "from dash.dependencies import State,Output, Input\n",
    "\n",
    "from dash import html\n",
    "import dash_bootstrap_components as dbc\n",
    "from dash.exceptions import PreventUpdate"
   ]
  },
  {
   "cell_type": "code",
   "execution_count": 2,
   "id": "847c5b4f",
   "metadata": {},
   "outputs": [],
   "source": [
    "df = pd.read_parquet(\"./data/forecasting.parquet.gzip\")"
   ]
  },
  {
   "cell_type": "code",
   "execution_count": 3,
   "id": "5a6b91c3",
   "metadata": {},
   "outputs": [],
   "source": [
    "params = {\n",
    "    \"changepoints\" : None, #lorsqu'on donne ce paramètre, le model ne va detecter aucun changepoints (ce n'est pas le paramètre par défaut)\n",
    "    \"n_changepoints\" : 25, # nombre de changepoints # pas utile si on spécifie changepoints\n",
    "    \"changepoints_range\" : 0.8, # n_changepoints répartis sur 80% sur train set \n",
    "    \"trend_reg\" : 0,\n",
    "    \"trend_reg_threshold\" : False,\n",
    "    \"yearly_seasonality\" :\"auto\",\n",
    "    \"weekly_seasonality\" :\"auto\",\n",
    "    \"daily_seasonality\": \"auto\",\n",
    "    \"seasonality_mode\" : \"additive\",\n",
    "    \"seasonality_reg\" : 0,\n",
    "    \"n_forecasts\" : 1,\n",
    "    \"n_lags\" : 0,\n",
    "    \"num_hidden_layers\" : 0,\n",
    "    \"d_hidden\" : None,\n",
    "    \"ar_reg\" : None,\n",
    "    \"learning_rate\" : None,\n",
    "    \"epochs\" : None,\n",
    "    \"batch_size\" : None,\n",
    "    \"loss_func\" : \"Huber\",\n",
    "    \"optimizer\" : \"AdamW\",\n",
    "    \"newer_samples_weight\" : 2,\n",
    "    \"newer_samples_start\" : 0.0,\n",
    "    \"impute_missing\" : True,\n",
    "    \"collect_metrics\" :True,\n",
    "    \"normalize\" :\"auto\",\n",
    "    \"global_normalization\" :False,\n",
    "    \"global_time_normalization\" : True,\n",
    "    \"unknown_data_normalization\" : False,\n",
    "}"
   ]
  },
  {
   "cell_type": "code",
   "execution_count": 8,
   "id": "843f09e4",
   "metadata": {},
   "outputs": [],
   "source": [
    "def interactive_dashboard(danone, params):\n",
    "    \n",
    "    app = JupyterDash(__name__, external_stylesheets=[dbc.themes.COSMO])\n",
    "    app.layout = html.Div([\n",
    "        html.H1('Analyse TS Danone avec Prophet'),\n",
    "\n",
    "        dcc.Dropdown(id='dd_product', options=[{'value':k, 'label': k} for k in danone['product_index'].unique()], multi=True, value=[]),\n",
    "\n",
    "        dcc.Dropdown(id='dd_year', options=[{'value': k, 'label': k} for k in np.sort(danone['time_index'].apply(lambda date:date.year).unique())], multi=True, value=[]),\n",
    "\n",
    "        dcc.RadioItems(id='radio_holiday', options=[{'label': 'add holidays effect', 'value': True}, {'label': \"don't add holidays effect\", 'value': False}]),\n",
    "        \n",
    "        dcc.Dropdown(id=\"dd_periode\", options=[{'value' : k, 'label': str(k) + \"semaines\"} for k in range(1,53)], multi=True, value=[]),\n",
    "\n",
    "        dcc.Dropdown(id='dd_reg', options=[{'label': reg, 'value': reg} for reg in danone.columns], multi=True, value=[]),\n",
    "\n",
    "        dbc.Button(\"apply changements\", id='button'),\n",
    "\n",
    "        dcc.Graph(id='graph_1')\n",
    "    ])\n",
    "\n",
    "    @app.callback(Output('graph_1', 'figure'),\n",
    "                 Input('button', 'n_clicks'),\n",
    "                 State('dd_product', 'value'),\n",
    "                 State('dd_year', 'value'),\n",
    "                 State('radio_holiday', 'value'),\n",
    "                 State('dd_periode', 'value'),\n",
    "                 State('dd_reg', 'value')\n",
    "                 )\n",
    "\n",
    "    def plot_graph1(n_clicks, product, year, holiday_bool, periode, reg):\n",
    "        if not n_clicks:\n",
    "            raise PreventUpdate\n",
    "        else:\n",
    "            print(product)\n",
    "            m, df, future, forecast, residuals = dd.train_neural_prophet_model(\n",
    "                df= danone,params = params, periode = periode[0], date_sep = year[0])\n",
    "            m, df, future, forecast2, residuals = dd.train_neural_prophet_model(\n",
    "                df= danone,params = params, periode = periode[0],date_sep=year[0]+1)\n",
    "            \n",
    "            #product_id=product, add_holiday=holiday_bool, regressor=reg, interval=0.95)\n",
    "\n",
    "            return dd.plot_my_neural_graph(forecasts = [forecast, forecast2],\n",
    "                                           product_id=product, year=year)\n",
    "\n",
    "    app.run_server(mode='inline')"
   ]
  },
  {
   "cell_type": "code",
   "execution_count": 9,
   "id": "bd861891",
   "metadata": {
    "scrolled": false
   },
   "outputs": [
    {
     "data": {
      "text/html": [
       "\n",
       "        <iframe\n",
       "            width=\"100%\"\n",
       "            height=\"650\"\n",
       "            src=\"http://127.0.0.1:8050/\"\n",
       "            frameborder=\"0\"\n",
       "            allowfullscreen\n",
       "            \n",
       "        ></iframe>\n",
       "        "
      ],
      "text/plain": [
       "<IPython.lib.display.IFrame at 0x1d07beb7b80>"
      ]
     },
     "metadata": {},
     "output_type": "display_data"
    },
    {
     "name": "stderr",
     "output_type": "stream",
     "text": [
      "INFO - (NP.df_utils._infer_frequency) - Major frequency W-MON corresponds to 99.048% of the data.\n",
      "INFO - (NP.df_utils._infer_frequency) - Dataframe freq automatically defined as W-MON\n",
      "INFO - (NP.df_utils._infer_frequency) - Major frequency W-MON corresponds to 98.81% of the data.\n",
      "INFO - (NP.df_utils._infer_frequency) - Defined frequency is equal to major frequency - W-MON\n",
      "INFO - (NP.config.init_data_params) - Setting normalization to global as only one dataframe provided for training.\n",
      "INFO - (NP.utils.set_auto_seasonalities) - Disabling yearly seasonality. Run NeuralProphet with yearly_seasonality=True to override this.\n",
      "INFO - (NP.utils.set_auto_seasonalities) - Disabling weekly seasonality. Run NeuralProphet with weekly_seasonality=True to override this.\n",
      "INFO - (NP.utils.set_auto_seasonalities) - Disabling daily seasonality. Run NeuralProphet with daily_seasonality=True to override this.\n",
      "INFO - (NP.config.set_auto_batch_epoch) - Auto-set batch_size to 16\n",
      "INFO - (NP.config.set_auto_batch_epoch) - Auto-set epochs to 602\n"
     ]
    },
    {
     "name": "stdout",
     "output_type": "stream",
     "text": [
      "[70189, 70193]\n"
     ]
    },
    {
     "name": "stderr",
     "output_type": "stream",
     "text": [
      "WARNING - (py.warnings._showwarnmsg) - D:\\Users\\amiar\\anaconda3\\lib\\site-packages\\neuralprophet\\utils.py:205: FutureWarning:\n",
      "\n",
      "The frame.append method is deprecated and will be removed from pandas in a future version. Use pandas.concat instead.\n",
      "\n",
      "\n",
      "WARNING - (py.warnings._showwarnmsg) - D:\\Users\\amiar\\anaconda3\\lib\\site-packages\\neuralprophet\\utils.py:205: FutureWarning:\n",
      "\n",
      "The frame.append method is deprecated and will be removed from pandas in a future version. Use pandas.concat instead.\n",
      "\n",
      "\n",
      "WARNING - (py.warnings._showwarnmsg) - D:\\Users\\amiar\\anaconda3\\lib\\site-packages\\neuralprophet\\utils.py:205: FutureWarning:\n",
      "\n",
      "The frame.append method is deprecated and will be removed from pandas in a future version. Use pandas.concat instead.\n",
      "\n",
      "\n",
      "WARNING - (py.warnings._showwarnmsg) - D:\\Users\\amiar\\anaconda3\\lib\\site-packages\\neuralprophet\\utils.py:205: FutureWarning:\n",
      "\n",
      "The frame.append method is deprecated and will be removed from pandas in a future version. Use pandas.concat instead.\n",
      "\n",
      "\n",
      "WARNING - (py.warnings._showwarnmsg) - D:\\Users\\amiar\\anaconda3\\lib\\site-packages\\neuralprophet\\utils.py:205: FutureWarning:\n",
      "\n",
      "The frame.append method is deprecated and will be removed from pandas in a future version. Use pandas.concat instead.\n",
      "\n",
      "\n",
      "WARNING - (py.warnings._showwarnmsg) - D:\\Users\\amiar\\anaconda3\\lib\\site-packages\\neuralprophet\\utils.py:205: FutureWarning:\n",
      "\n",
      "The frame.append method is deprecated and will be removed from pandas in a future version. Use pandas.concat instead.\n",
      "\n",
      "\n",
      "WARNING - (py.warnings._showwarnmsg) - D:\\Users\\amiar\\anaconda3\\lib\\site-packages\\neuralprophet\\utils.py:205: FutureWarning:\n",
      "\n",
      "The frame.append method is deprecated and will be removed from pandas in a future version. Use pandas.concat instead.\n",
      "\n",
      "\n",
      "WARNING - (py.warnings._showwarnmsg) - D:\\Users\\amiar\\anaconda3\\lib\\site-packages\\neuralprophet\\utils.py:205: FutureWarning:\n",
      "\n",
      "The frame.append method is deprecated and will be removed from pandas in a future version. Use pandas.concat instead.\n",
      "\n",
      "\n",
      "WARNING - (py.warnings._showwarnmsg) - D:\\Users\\amiar\\anaconda3\\lib\\site-packages\\neuralprophet\\utils.py:205: FutureWarning:\n",
      "\n",
      "The frame.append method is deprecated and will be removed from pandas in a future version. Use pandas.concat instead.\n",
      "\n",
      "\n",
      "WARNING - (py.warnings._showwarnmsg) - D:\\Users\\amiar\\anaconda3\\lib\\site-packages\\neuralprophet\\utils.py:205: FutureWarning:\n",
      "\n",
      "The frame.append method is deprecated and will be removed from pandas in a future version. Use pandas.concat instead.\n",
      "\n",
      "\n",
      "WARNING - (py.warnings._showwarnmsg) - D:\\Users\\amiar\\anaconda3\\lib\\site-packages\\neuralprophet\\utils.py:205: FutureWarning:\n",
      "\n",
      "The frame.append method is deprecated and will be removed from pandas in a future version. Use pandas.concat instead.\n",
      "\n",
      "\n"
     ]
    },
    {
     "data": {
      "application/vnd.jupyter.widget-view+json": {
       "model_id": "84dbcb81e6884080ab133cb723680784",
       "version_major": 2,
       "version_minor": 0
      },
      "text/plain": [
       "  0%|          | 0/106 [00:00<?, ?it/s]"
      ]
     },
     "metadata": {},
     "output_type": "display_data"
    },
    {
     "name": "stderr",
     "output_type": "stream",
     "text": [
      "INFO - (NP.utils_torch.lr_range_test) - lr-range-test results: steep: 6.74E-02, min: 2.87E+00\n"
     ]
    },
    {
     "data": {
      "application/vnd.jupyter.widget-view+json": {
       "model_id": "9dbe479d310b4e7295681716ade2dd1c",
       "version_major": 2,
       "version_minor": 0
      },
      "text/plain": [
       "  0%|          | 0/106 [00:00<?, ?it/s]"
      ]
     },
     "metadata": {},
     "output_type": "display_data"
    },
    {
     "name": "stderr",
     "output_type": "stream",
     "text": [
      "INFO - (NP.utils_torch.lr_range_test) - lr-range-test results: steep: 6.74E-02, min: 6.31E+00\n",
      "INFO - (NP.forecaster._init_train_loader) - lr-range-test selected learning rate: 7.69E-02\n",
      "Epoch[602/602]: 100%|█| 602/602 [00:16<00:00, 35.59it/s, SmoothL1Loss=0.0121, MAE=43.8, RMSE=57.2, RegLoss=0, MAE_val=8\n",
      "INFO - (NP.df_utils._infer_frequency) - Major frequency W-MON corresponds to 75.0% of the data.\n",
      "INFO - (NP.df_utils._infer_frequency) - Defined frequency is equal to major frequency - W-MON\n",
      "INFO - (NP.df_utils._infer_frequency) - Major frequency W-MON corresponds to 75.0% of the data.\n",
      "INFO - (NP.df_utils._infer_frequency) - Defined frequency is equal to major frequency - W-MON\n",
      "INFO - (NP.df_utils._infer_frequency) - Major frequency W-MON corresponds to 75.0% of the data.\n",
      "INFO - (NP.df_utils._infer_frequency) - Defined frequency is equal to major frequency - W-MON\n",
      "INFO - (NP.forecaster._evaluate) - Validation metrics:    SmoothL1Loss    MAE   RMSE\n",
      "1         0.010 46.829 52.104\n",
      "INFO - (NP.df_utils._infer_frequency) - Major frequency W-MON corresponds to 99.363% of the data.\n",
      "INFO - (NP.df_utils._infer_frequency) - Dataframe freq automatically defined as W-MON\n",
      "INFO - (NP.df_utils._infer_frequency) - Major frequency W-MON corresponds to 99.206% of the data.\n",
      "INFO - (NP.df_utils._infer_frequency) - Defined frequency is equal to major frequency - W-MON\n",
      "INFO - (NP.config.init_data_params) - Setting normalization to global as only one dataframe provided for training.\n",
      "INFO - (NP.utils.set_auto_seasonalities) - Disabling weekly seasonality. Run NeuralProphet with weekly_seasonality=True to override this.\n",
      "INFO - (NP.utils.set_auto_seasonalities) - Disabling daily seasonality. Run NeuralProphet with daily_seasonality=True to override this.\n",
      "INFO - (NP.config.set_auto_batch_epoch) - Auto-set batch_size to 16\n",
      "INFO - (NP.config.set_auto_batch_epoch) - Auto-set epochs to 469\n",
      "WARNING - (py.warnings._showwarnmsg) - D:\\Users\\amiar\\anaconda3\\lib\\site-packages\\neuralprophet\\utils.py:205: FutureWarning:\n",
      "\n",
      "The frame.append method is deprecated and will be removed from pandas in a future version. Use pandas.concat instead.\n",
      "\n",
      "\n",
      "WARNING - (py.warnings._showwarnmsg) - D:\\Users\\amiar\\anaconda3\\lib\\site-packages\\neuralprophet\\utils.py:205: FutureWarning:\n",
      "\n",
      "The frame.append method is deprecated and will be removed from pandas in a future version. Use pandas.concat instead.\n",
      "\n",
      "\n",
      "WARNING - (py.warnings._showwarnmsg) - D:\\Users\\amiar\\anaconda3\\lib\\site-packages\\neuralprophet\\utils.py:205: FutureWarning:\n",
      "\n",
      "The frame.append method is deprecated and will be removed from pandas in a future version. Use pandas.concat instead.\n",
      "\n",
      "\n",
      "WARNING - (py.warnings._showwarnmsg) - D:\\Users\\amiar\\anaconda3\\lib\\site-packages\\neuralprophet\\utils.py:205: FutureWarning:\n",
      "\n",
      "The frame.append method is deprecated and will be removed from pandas in a future version. Use pandas.concat instead.\n",
      "\n",
      "\n",
      "WARNING - (py.warnings._showwarnmsg) - D:\\Users\\amiar\\anaconda3\\lib\\site-packages\\neuralprophet\\utils.py:205: FutureWarning:\n",
      "\n",
      "The frame.append method is deprecated and will be removed from pandas in a future version. Use pandas.concat instead.\n",
      "\n",
      "\n",
      "WARNING - (py.warnings._showwarnmsg) - D:\\Users\\amiar\\anaconda3\\lib\\site-packages\\neuralprophet\\utils.py:205: FutureWarning:\n",
      "\n",
      "The frame.append method is deprecated and will be removed from pandas in a future version. Use pandas.concat instead.\n",
      "\n",
      "\n",
      "WARNING - (py.warnings._showwarnmsg) - D:\\Users\\amiar\\anaconda3\\lib\\site-packages\\neuralprophet\\utils.py:205: FutureWarning:\n",
      "\n",
      "The frame.append method is deprecated and will be removed from pandas in a future version. Use pandas.concat instead.\n",
      "\n",
      "\n",
      "WARNING - (py.warnings._showwarnmsg) - D:\\Users\\amiar\\anaconda3\\lib\\site-packages\\neuralprophet\\utils.py:205: FutureWarning:\n",
      "\n",
      "The frame.append method is deprecated and will be removed from pandas in a future version. Use pandas.concat instead.\n",
      "\n",
      "\n",
      "WARNING - (py.warnings._showwarnmsg) - D:\\Users\\amiar\\anaconda3\\lib\\site-packages\\neuralprophet\\utils.py:205: FutureWarning:\n",
      "\n",
      "The frame.append method is deprecated and will be removed from pandas in a future version. Use pandas.concat instead.\n",
      "\n",
      "\n",
      "WARNING - (py.warnings._showwarnmsg) - D:\\Users\\amiar\\anaconda3\\lib\\site-packages\\neuralprophet\\utils.py:205: FutureWarning:\n",
      "\n",
      "The frame.append method is deprecated and will be removed from pandas in a future version. Use pandas.concat instead.\n",
      "\n",
      "\n",
      "WARNING - (py.warnings._showwarnmsg) - D:\\Users\\amiar\\anaconda3\\lib\\site-packages\\neuralprophet\\utils.py:205: FutureWarning:\n",
      "\n",
      "The frame.append method is deprecated and will be removed from pandas in a future version. Use pandas.concat instead.\n",
      "\n",
      "\n"
     ]
    },
    {
     "data": {
      "application/vnd.jupyter.widget-view+json": {
       "model_id": "0542110f05ac41588c826796a98709e5",
       "version_major": 2,
       "version_minor": 0
      },
      "text/plain": [
       "  0%|          | 0/108 [00:00<?, ?it/s]"
      ]
     },
     "metadata": {},
     "output_type": "display_data"
    },
    {
     "name": "stderr",
     "output_type": "stream",
     "text": [
      "INFO - (NP.utils_torch.lr_range_test) - lr-range-test results: steep: 5.24E-02, min: 1.14E-01\n"
     ]
    },
    {
     "data": {
      "application/vnd.jupyter.widget-view+json": {
       "model_id": "1f8ace7e77824f86a92734ff540bd668",
       "version_major": 2,
       "version_minor": 0
      },
      "text/plain": [
       "  0%|          | 0/108 [00:00<?, ?it/s]"
      ]
     },
     "metadata": {},
     "output_type": "display_data"
    },
    {
     "name": "stderr",
     "output_type": "stream",
     "text": [
      "INFO - (NP.utils_torch.lr_range_test) - lr-range-test results: steep: 7.72E-02, min: 9.58E-01\n",
      "INFO - (NP.forecaster._init_train_loader) - lr-range-test selected learning rate: 7.40E-02\n",
      "Epoch[469/469]: 100%|█| 469/469 [00:17<00:00, 26.87it/s, SmoothL1Loss=0.0117, MAE=42, RMSE=53.1, RegLoss=0, MAE_val=111\n",
      "INFO - (NP.df_utils._infer_frequency) - Major frequency W-MON corresponds to 75.0% of the data.\n",
      "INFO - (NP.df_utils._infer_frequency) - Defined frequency is equal to major frequency - W-MON\n",
      "INFO - (NP.df_utils._infer_frequency) - Major frequency W-MON corresponds to 75.0% of the data.\n",
      "INFO - (NP.df_utils._infer_frequency) - Defined frequency is equal to major frequency - W-MON\n",
      "INFO - (NP.df_utils._infer_frequency) - Major frequency W-MON corresponds to 75.0% of the data.\n",
      "INFO - (NP.df_utils._infer_frequency) - Defined frequency is equal to major frequency - W-MON\n",
      "INFO - (NP.forecaster._evaluate) - Validation metrics:    SmoothL1Loss     MAE    RMSE\n",
      "1         0.074 129.295 135.347\n"
     ]
    }
   ],
   "source": [
    "interactive_dashboard(df,params)"
   ]
  },
  {
   "cell_type": "code",
   "execution_count": null,
   "id": "2937f376",
   "metadata": {},
   "outputs": [],
   "source": []
  }
 ],
 "metadata": {
  "kernelspec": {
   "display_name": "Python 3 (ipykernel)",
   "language": "python",
   "name": "python3"
  },
  "language_info": {
   "codemirror_mode": {
    "name": "ipython",
    "version": 3
   },
   "file_extension": ".py",
   "mimetype": "text/x-python",
   "name": "python",
   "nbconvert_exporter": "python",
   "pygments_lexer": "ipython3",
   "version": "3.9.12"
  }
 },
 "nbformat": 4,
 "nbformat_minor": 5
}
