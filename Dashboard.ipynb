{
 "cells": [
  {
   "cell_type": "markdown",
   "id": "ca1d845a",
   "metadata": {},
   "source": [
    "<div class=\"alert alert-info\">\n",
    "   <center>\n",
    "       <h3>Time Series Multi-Horizon Forecasting (Dashboard) : comment prédire des phénomènes non stationnaires à des horizons de temps multiples ?</h3>\n",
    "       <br>\n",
    "      <p>Bonjour et bienvenue à cet atelier datacraft en collaboration avec Danone.</p>\n",
    "       <p>Vous avez ici un dashboard pour tester le forecasting avec un plot via dash et plotly</p>\n",
    "</center>"
   ]
  },
  {
   "cell_type": "code",
   "execution_count": null,
   "id": "87e3d53d",
   "metadata": {},
   "outputs": [],
   "source": [
    "import nbformat\n",
    "import import_ipynb\n",
    "import datacraft_danone as dd\n",
    "import pandas as pd\n",
    "import numpy as np\n",
    "\n",
    "from jupyter_dash import JupyterDash\n",
    "import dash\n",
    "from dash import dcc\n",
    "import dash_html_components as html\n",
    "from dash.dependencies import State,Output, Input\n",
    "\n",
    "from dash import html\n",
    "import dash_bootstrap_components as dbc\n",
    "from dash.exceptions import PreventUpdate"
   ]
  },
  {
   "cell_type": "code",
   "execution_count": null,
   "id": "847c5b4f",
   "metadata": {},
   "outputs": [],
   "source": [
    "df = pd.read_parquet(\"./data/forecasting.parquet.gzip\")"
   ]
  },
  {
   "cell_type": "code",
   "execution_count": null,
   "id": "5a6b91c3",
   "metadata": {},
   "outputs": [],
   "source": [
    "params = {\n",
    "    \"changepoints\" : None, #lorsqu'on donne ce paramètre, le model ne va detecter aucun changepoints (ce n'est pas le paramètre par défaut)\n",
    "    \"n_changepoints\" : 25, # nombre de changepoints # pas utile si on spécifie changepoints\n",
    "    \"changepoints_range\" : 0.8, # n_changepoints répartis sur 80% sur train set \n",
    "    \"trend_reg\" : 0,\n",
    "    \"trend_reg_threshold\" : False,\n",
    "    \"yearly_seasonality\" :\"auto\",\n",
    "    \"weekly_seasonality\" :\"auto\",\n",
    "    \"daily_seasonality\": \"auto\",\n",
    "    \"seasonality_mode\" : \"additive\",\n",
    "    \"seasonality_reg\" : 0,\n",
    "    \"n_forecasts\" : 1,\n",
    "    \"n_lags\" : 0,\n",
    "    \"num_hidden_layers\" : 0,\n",
    "    \"d_hidden\" : None,\n",
    "    \"ar_reg\" : None,\n",
    "    \"learning_rate\" : None,\n",
    "    \"epochs\" : None,\n",
    "    \"batch_size\" : None,\n",
    "    \"loss_func\" : \"Huber\",\n",
    "    \"optimizer\" : \"AdamW\",\n",
    "    \"newer_samples_weight\" : 2,\n",
    "    \"newer_samples_start\" : 0.0,\n",
    "    \"impute_missing\" : True,\n",
    "    \"collect_metrics\" :True,\n",
    "    \"normalize\" :\"auto\",\n",
    "    \"global_normalization\" :False,\n",
    "    \"global_time_normalization\" : True,\n",
    "    \"unknown_data_normalization\" : False,\n",
    "}\n",
    "\n",
    "selected_columns = {\"time_index\" : 1,\"apparenttemperaturemax\" :1,\"cos_iso_month\" : 0,\"cos_iso_week\" : 0,\"cos_iso_week_of_month\": 0,\"days_before_next_holiday\": 0,\"forecasted_volumes\": 0,\"fu_cod\": 0,\"future_ordered_volumes_until_saturday_of_current_week\": 0,\"future_ordered_volumes_until_saturday_of_previous_week\": 0,\"holiday_day_of_week\": 0,\"holidays_count_in_week\": 0,\"iso_month\": 0,\"iso_week\": 0,\"iso_week_of_month\": 0,\"mat_net_weight_value_kg\": 0,\"ordered_volumes\": 1,\"precipintensity\": 1,\"promo_uplift_coefficient\": 0}"
   ]
  },
  {
   "cell_type": "markdown",
   "id": "825e86c9",
   "metadata": {},
   "source": [
    "Ci-dessous, voici une fonction permettant la génération du dashboard via **dash et plotly**.\n",
    "\n",
    "Celui-ci utilise **neural prophet** mais vous êtes libres de le modifier et d'utiliser **prophet** normal (même si le mode neural est plus performant).\n",
    "\n",
    "Vous pourrez afficher les courbes des prédictions avec les observations réelles pour différents produits, à différentes dates avec des périodes de prédictions plus ou moins longues au choix.\n",
    "\n",
    "Néanmoins, il faut prendre en compte un petit détail, certains produits n'ont pas des données complètes (certains ne commencent pas en 2017, mais, parfois des années après).\n",
    "Il est donc possible de rencontrer des erreurs si l'année choisie est trop ancienne et donc qu'il n'y ait pas de données disponibles à cette date.\n"
   ]
  },
  {
   "cell_type": "code",
   "execution_count": null,
   "id": "843f09e4",
   "metadata": {},
   "outputs": [],
   "source": [
    "def interactive_dashboard(danone, params):\n",
    "    \n",
    "    app = JupyterDash(__name__, external_stylesheets=[dbc.themes.COSMO])\n",
    "    app.layout = html.Div([\n",
    "        html.H1('Analyse TS Danone avec Prophet'),\n",
    "\n",
    "        dcc.Dropdown(id='dd_products', options=[{'value':k, 'label': k} for k in danone['product_index'].unique()], multi=True, value=[]),\n",
    "\n",
    "        dcc.Dropdown(id='dd_year', options=[{'value': k, 'label': k} for k in np.sort(danone['time_index'].apply(lambda date:date.year).unique())]),\n",
    "\n",
    "        dcc.RadioItems(id='radio_holiday', options=[{'label': 'add holidays effect', 'value': True}, {'label': \"don't add holidays effect\", 'value': False}]),\n",
    "        \n",
    "        dcc.Dropdown(id=\"dd_periodes\", options=[{'value' : k, 'label': str(k) + \"semaines\"} for k in range(1,53)], multi=True, value=[]),\n",
    "\n",
    "        dcc.Dropdown(id='dd_reg', options=[{'label': reg, 'value': reg} for reg in danone.columns], multi=True, value=[]),\n",
    "\n",
    "        dbc.Button(\"apply changements\", id='button'),\n",
    "\n",
    "        dcc.Graph(id='graph_1')\n",
    "    ])\n",
    "\n",
    "    @app.callback(Output('graph_1', 'figure'),\n",
    "                  Input('button', 'n_clicks'),\n",
    "                  State('dd_products', 'value'),\n",
    "                  State('dd_year', 'value'),\n",
    "                  State('radio_holiday', 'value'),\n",
    "                  State('dd_periodes', 'value'),\n",
    "                  State('dd_reg', 'value')\n",
    "                 )\n",
    "\n",
    "    def plot_graph1(n_clicks, products, year, holiday_bool, periodes, reg):\n",
    "        if not n_clicks:\n",
    "            raise PreventUpdate\n",
    "        else:\n",
    "            forecasts = []\n",
    "            for i in range(len(products)):\n",
    "                for k in range(len(periodes)):\n",
    "                    if dd.split_df(dd.prepare_df(danone, products[i], selected_columns)[0],periodes[k],year)[0].empty: \n",
    "                        return dash.no_update,'Product {} for year {} is not available, please try another year'.format(products[i], year) \n",
    "                    res = dd.train_neural_prophet_model(df = danone,\n",
    "                                                        params = params,\n",
    "                                                        product_id = products[i],\n",
    "                                                        periode = periodes[k],\n",
    "                                                        date_sep = year)\n",
    "                    forecasts.append(res[3])\n",
    "            print(forecasts)\n",
    "\n",
    "            return dd.plot_my_neural_graph(forecasts = forecasts)\n",
    "\n",
    "    app.run_server(mode='inline')"
   ]
  },
  {
   "cell_type": "code",
   "execution_count": null,
   "id": "bd861891",
   "metadata": {
    "scrolled": true
   },
   "outputs": [],
   "source": [
    "interactive_dashboard(df,params)"
   ]
  },
  {
   "cell_type": "code",
   "execution_count": null,
   "id": "388f1990",
   "metadata": {
    "scrolled": true
   },
   "outputs": [],
   "source": [
    "dd.plot_residuals(dd.train_prophet_model(df)[4])"
   ]
  },
  {
   "cell_type": "code",
   "execution_count": null,
   "id": "bbbd47e7",
   "metadata": {},
   "outputs": [],
   "source": [
    "res = dd.train_prophet_model(df)\n",
    "dd.plot_prophet_made_graph(res[3],res[0])"
   ]
  },
  {
   "cell_type": "code",
   "execution_count": null,
   "id": "02d4e083",
   "metadata": {},
   "outputs": [],
   "source": [
    "m, danone, future, forecast, residuals = dd.train_prophet_model(df)"
   ]
  }
 ],
 "metadata": {
  "kernelspec": {
   "display_name": "Python 3 (ipykernel)",
   "language": "python",
   "name": "python3"
  },
  "language_info": {
   "codemirror_mode": {
    "name": "ipython",
    "version": 3
   },
   "file_extension": ".py",
   "mimetype": "text/x-python",
   "name": "python",
   "nbconvert_exporter": "python",
   "pygments_lexer": "ipython3",
   "version": "3.9.12"
  }
 },
 "nbformat": 4,
 "nbformat_minor": 5
}
