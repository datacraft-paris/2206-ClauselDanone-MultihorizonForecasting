{
 "cells": [
  {
   "cell_type": "code",
   "execution_count": null,
   "id": "144020a9",
   "metadata": {},
   "outputs": [],
   "source": [
    "import pandas as pd"
   ]
  },
  {
   "cell_type": "code",
   "execution_count": null,
   "id": "dae83a77",
   "metadata": {},
   "outputs": [],
   "source": [
    "# !conda install -c conda-forge pyarrow"
   ]
  },
  {
   "cell_type": "code",
   "execution_count": null,
   "id": "f8eddd9e",
   "metadata": {},
   "outputs": [],
   "source": [
    "df = pd.read_parquet(\"../data/forecasting.parquet.gzip\")"
   ]
  },
  {
   "cell_type": "code",
   "execution_count": null,
   "id": "e8cf79be",
   "metadata": {},
   "outputs": [],
   "source": [
    "list(df.columns)"
   ]
  }
 ],
 "metadata": {
  "kernelspec": {
   "display_name": "Python 3 (ipykernel)",
   "language": "python",
   "name": "python3"
  },
  "language_info": {
   "codemirror_mode": {
    "name": "ipython",
    "version": 3
   },
   "file_extension": ".py",
   "mimetype": "text/x-python",
   "name": "python",
   "nbconvert_exporter": "python",
   "pygments_lexer": "ipython3",
   "version": "3.9.12"
  },
  "toc": {
   "base_numbering": 1,
   "nav_menu": {},
   "number_sections": true,
   "sideBar": true,
   "skip_h1_title": true,
   "title_cell": "Table of Contents",
   "title_sidebar": "Contents",
   "toc_cell": false,
   "toc_position": {},
   "toc_section_display": true,
   "toc_window_display": false
  }
 },
 "nbformat": 4,
 "nbformat_minor": 5
}
