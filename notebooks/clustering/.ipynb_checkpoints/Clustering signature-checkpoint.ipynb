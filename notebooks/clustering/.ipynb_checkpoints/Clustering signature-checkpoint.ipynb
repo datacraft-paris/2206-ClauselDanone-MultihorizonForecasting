{
 "cells": [
  {
   "cell_type": "markdown",
   "id": "b3c10808",
   "metadata": {},
   "source": [
    "# Installation du package et essais\n",
    "\n",
    "Toutes les commandes ne sont pas forcément nécéssaires, je ne me rapelle plus l'ordre exact de ce que j'avais testé pour installer le package de Raphaël. Une fois installé, il n'y a plus besoin de run ces commandes"
   ]
  },
  {
   "cell_type": "code",
   "execution_count": null,
   "id": "f213f10e",
   "metadata": {},
   "outputs": [],
   "source": [
    "#pip install torch==1.7.1+cu101 torchvision==0.8.2+cu101 torchaudio==0.7.2 -f https://download.pytorch.org/whl/torch_stable.html"
   ]
  },
  {
   "cell_type": "code",
   "execution_count": null,
   "id": "957b25f6",
   "metadata": {},
   "outputs": [],
   "source": [
    "#pip install iisignature"
   ]
  },
  {
   "cell_type": "code",
   "execution_count": null,
   "id": "481cd5d2",
   "metadata": {},
   "outputs": [],
   "source": [
    "#pip install --upgrade pip"
   ]
  },
  {
   "cell_type": "code",
   "execution_count": null,
   "id": "7554e205",
   "metadata": {},
   "outputs": [],
   "source": [
    "#pip install git+https://github.com/pymanopt/pymanopt.git@master"
   ]
  },
  {
   "cell_type": "code",
   "execution_count": null,
   "id": "e815fd92",
   "metadata": {},
   "outputs": [],
   "source": [
    "#pip install pymanopt"
   ]
  },
  {
   "cell_type": "code",
   "execution_count": null,
   "id": "b2389362",
   "metadata": {},
   "outputs": [],
   "source": [
    "#pip install -U requirements.txt"
   ]
  },
  {
   "cell_type": "code",
   "execution_count": null,
   "id": "3f1504ab",
   "metadata": {},
   "outputs": [],
   "source": [
    "#pip install signatory==1.2.6.1.7.1 --no-cache-dir --force-reinstall"
   ]
  },
  {
   "cell_type": "code",
   "execution_count": null,
   "id": "2a1acdb6",
   "metadata": {},
   "outputs": [],
   "source": [
    "#pip install --user numpy"
   ]
  },
  {
   "cell_type": "code",
   "execution_count": null,
   "id": "a3a0e476",
   "metadata": {},
   "outputs": [],
   "source": [
    "#pip list"
   ]
  },
  {
   "cell_type": "code",
   "execution_count": null,
   "id": "9a72d7ee",
   "metadata": {},
   "outputs": [],
   "source": [
    "#pip install -U pymanopt==0.2.6rc1"
   ]
  },
  {
   "cell_type": "code",
   "execution_count": null,
   "id": "50fda116",
   "metadata": {},
   "outputs": [],
   "source": [
    "#pip install cython"
   ]
  },
  {
   "cell_type": "code",
   "execution_count": null,
   "id": "318a9050",
   "metadata": {},
   "outputs": [],
   "source": [
    "#conda info --envs"
   ]
  },
  {
   "cell_type": "code",
   "execution_count": null,
   "id": "e33568ca",
   "metadata": {},
   "outputs": [],
   "source": [
    "#import sys\n",
    "#print(sys.path)"
   ]
  },
  {
   "cell_type": "code",
   "execution_count": null,
   "id": "b5502581",
   "metadata": {},
   "outputs": [],
   "source": [
    "#conda install pyproject.toml-based projects"
   ]
  },
  {
   "cell_type": "code",
   "execution_count": null,
   "id": "c42cc73a",
   "metadata": {},
   "outputs": [],
   "source": [
    "#pip install -U setuptools"
   ]
  },
  {
   "cell_type": "code",
   "execution_count": null,
   "id": "425f477b",
   "metadata": {},
   "outputs": [],
   "source": [
    "#pip install C:/Users/gabri/OneDrive/Bureau/signaturemean-0.0.1.tar.gz"
   ]
  },
  {
   "cell_type": "markdown",
   "id": "4d462952",
   "metadata": {},
   "source": [
    "C'est pour vérifier que le package s'est bien installé, la sortie doit afficher trois tenseurs"
   ]
  },
  {
   "cell_type": "code",
   "execution_count": null,
   "id": "978b16ab",
   "metadata": {},
   "outputs": [],
   "source": [
    "import torch\n",
    "import numpy as np\n",
    "import signatory\n",
    "import matplotlib.pyplot as plt\n",
    "\n",
    "\n",
    "from signaturemean.barycenters import mean_le\n",
    "from signaturemean.barycenters import mean_pennec\n",
    "from signaturemean.barycenters import mean_tsoptim\n",
    "from signaturemean import utils\n",
    "\n",
    "batch = 5     # number of time series\n",
    "stream = 30   # number of timestamps for each time series\n",
    "channels = 3  # number of dimensions\n",
    "depth = 4     # depth (order) of truncation of the signature\n",
    "\n",
    "# Simulate random data\n",
    "paths = torch.rand(batch, stream, channels)   # simulate random numbers\n",
    "paths = utils.datashift(paths)    # paths start at zero\n",
    "X = utils.datascaling(paths)  # paths have total variation = 1\n",
    "SX = signatory.signature(X, depth=depth)\n",
    "\n",
    "## Compute barycenter with each approach\n",
    "# Approach 1: log euclidean mean\n",
    "print(mean_le.mean(SX, depth, channels))  # returns a signature\n",
    "# Approach 2: group exponential method\n",
    "print(mean_pennec.mean(SX, depth, channels))  # returns a signature\n",
    "# Approach 3: optimization on path space\n",
    "tso = mean_tsoptim.TSoptim(depth, channels, 1641)\n",
    "tso.fit(X)\n",
    "print(tso.barycenter_ts)  # returns a path\n"
   ]
  },
  {
   "cell_type": "markdown",
   "id": "9806b683",
   "metadata": {},
   "source": [
    "On effectue un premier test de l'algorithme Kmeans avec des données aléatoires pour vérifier son bon fonctionnement. Il y a trois types de averaging : LE, pennec et tsoptim. Les deux premiers prennent en entrée les coefficients de la signature (SX) et le troisième prend en entrée les chemins (X)"
   ]
  },
  {
   "cell_type": "code",
   "execution_count": null,
   "id": "34fedab3",
   "metadata": {},
   "outputs": [],
   "source": [
    "from signaturemean.clustering import kmeans"
   ]
  },
  {
   "cell_type": "code",
   "execution_count": null,
   "id": "0f6868d6",
   "metadata": {},
   "outputs": [],
   "source": [
    "batch = 125     # number of time series\n",
    "stream = 283   # number of timestamps for each time series\n",
    "channels = 3  # number of dimensions\n",
    "depth = 4     # depth (order) of truncation of the signature\n",
    "X = torch.rand(batch, stream, channels)   # simulate random numbers\n",
    "SX = signatory.signature(X, depth=depth)"
   ]
  },
  {
   "cell_type": "code",
   "execution_count": null,
   "id": "6a84c500",
   "metadata": {},
   "outputs": [],
   "source": [
    "X.size()"
   ]
  },
  {
   "cell_type": "code",
   "execution_count": null,
   "id": "252945bb",
   "metadata": {},
   "outputs": [],
   "source": [
    "SX.size()"
   ]
  },
  {
   "cell_type": "code",
   "execution_count": null,
   "id": "f58484ac",
   "metadata": {},
   "outputs": [],
   "source": [
    "km1 = kmeans.KMeansSignature(n_clusters=2, depth=depth, channels=channels, random_state=1708, metric='euclidean', averaging='LE')"
   ]
  },
  {
   "cell_type": "code",
   "execution_count": null,
   "id": "f5d24fdd",
   "metadata": {},
   "outputs": [],
   "source": [
    "km1.fit(SX)"
   ]
  },
  {
   "cell_type": "code",
   "execution_count": null,
   "id": "68b416ea",
   "metadata": {},
   "outputs": [],
   "source": [
    "km1.labels_"
   ]
  },
  {
   "cell_type": "markdown",
   "id": "2e706862",
   "metadata": {},
   "source": [
    "### Données Danone"
   ]
  },
  {
   "cell_type": "code",
   "execution_count": null,
   "id": "56e26514",
   "metadata": {},
   "outputs": [],
   "source": [
    "depth=4 #profondeur\n",
    "n_clusters=3 #nombre de clusters pour tout ce qui va suivre"
   ]
  },
  {
   "cell_type": "markdown",
   "id": "25af26ac",
   "metadata": {},
   "source": [
    "/!\\ Si on modifie la profondeur il faut aussi changer ensuite la longueur de SX puiqu'on aura un nombre de coefficents différents. Le nombre de coefficient vaut $\\sum_{i=1}^{depth} channels^{i}$ où channels est le nombre de dimensions et depth la profondeur. Par exemple pour deux dimensions, le nombre de coefficents sera successivement: 2,6,14,30,62,126,254 ...  "
   ]
  },
  {
   "cell_type": "code",
   "execution_count": null,
   "id": "e080dad2",
   "metadata": {},
   "outputs": [],
   "source": [
    "import pandas as pd\n",
    "from sklearn.preprocessing import MinMaxScaler\n",
    "from tslearn.utils import to_time_series_dataset"
   ]
  },
  {
   "cell_type": "markdown",
   "id": "3cbf1fb1",
   "metadata": {},
   "source": [
    "On importe les données de Danone. Pour les chemins, on prend ici des chemins en deux dimensions avec dans la première dimension ordered_volumes et dans la deuxième dimension ordered_volumes différenciée une fois."
   ]
  },
  {
   "cell_type": "code",
   "execution_count": null,
   "id": "af592ad4",
   "metadata": {
    "scrolled": true
   },
   "outputs": [],
   "source": [
    "df = pd.read_parquet(\"C:/Users/gabri/OneDrive/Bureau/Cours ENSAE/2ème année/Stage/Données/forecasting.parquet.gzip\")\n",
    "df['time_index']=pd.to_datetime(df['time_index'])\n",
    "df['ordered_volumes_différenciée']=df['ordered_volumes']-df['ordered_volumes_minus_1']\n",
    "indice_produit=df['product_index'].unique()\n",
    "myseries=[df[['time_index','ordered_volumes']][df['product_index']==k] for k in indice_produit]\n",
    "myseries_différenciée=[df[['time_index','ordered_volumes_différenciée']][df['product_index']==k] for k in indice_produit]\n",
    "for k in range(len(myseries)):\n",
    "    myseries[k].set_index('time_index',inplace=True)\n",
    "    myseries[k].sort_index(inplace=True)\n",
    "    myseries_différenciée[k].set_index('time_index',inplace=True)\n",
    "    myseries_différenciée[k].sort_index(inplace=True)\n",
    "indice_temps=[series.index for series in myseries ]\n",
    "for i in range(len(myseries)):\n",
    "    scaler = MinMaxScaler()\n",
    "    myseries[i] = MinMaxScaler().fit_transform(myseries[i])\n",
    "    myseries_différenciée[i] = MinMaxScaler().fit_transform(myseries_différenciée[i][1:])\n",
    "SX=torch.zeros(125,30, dtype=torch.float64)\n",
    "X=[]\n",
    "for i in range(125):\n",
    "    serie=np.zeros((1,len(myseries_différenciée[i]),2))\n",
    "    for k in range(len(myseries_différenciée[i])):\n",
    "        serie[0][k]=np.array([myseries[i][1+k][0],myseries_différenciée[i][k][0]],dtype='float32')\n",
    "    X.append(torch.from_numpy(serie[0]).double())\n",
    "    SX[i]=signatory.signature(torch.from_numpy(serie),depth=depth)[0]"
   ]
  },
  {
   "cell_type": "markdown",
   "id": "de34168b",
   "metadata": {},
   "source": [
    "### Clustering avec averaging LE"
   ]
  },
  {
   "cell_type": "code",
   "execution_count": null,
   "id": "8390fd4d",
   "metadata": {},
   "outputs": [],
   "source": [
    "km1 = kmeans.KMeansSignature(n_clusters=n_clusters, depth=depth, channels=2, random_state=0, metric='euclidean', averaging='LE')"
   ]
  },
  {
   "cell_type": "code",
   "execution_count": null,
   "id": "77c99139",
   "metadata": {},
   "outputs": [],
   "source": [
    "km1.fit(SX)"
   ]
  },
  {
   "cell_type": "code",
   "execution_count": null,
   "id": "acaa73ac",
   "metadata": {},
   "outputs": [],
   "source": [
    "labels1=km1.labels_"
   ]
  },
  {
   "cell_type": "code",
   "execution_count": null,
   "id": "7e857fec",
   "metadata": {},
   "outputs": [],
   "source": [
    "clusters1=[]\n",
    "for i in range(3):\n",
    "    cluster =[]\n",
    "    for k in range(125):\n",
    "        if labels1[k]==i:\n",
    "            cluster.append(indice_produit[k])\n",
    "    clusters1.append(cluster)\n",
    "clusters1"
   ]
  },
  {
   "cell_type": "markdown",
   "id": "d5b47ffb",
   "metadata": {},
   "source": [
    "### Clustering avec tsoptim\n",
    "\n",
    "Il est nécéssaire ici de mettre stram_fixed=False puisqu'on a des chemins de longueurs différentes et qu'on met en entrée une liste de chemins et non un tenseur."
   ]
  },
  {
   "cell_type": "code",
   "execution_count": null,
   "id": "ac8928d0",
   "metadata": {},
   "outputs": [],
   "source": [
    "km2 = kmeans.KMeansSignature(n_clusters=n_clusters, depth=depth, channels=2,random_state=np.random.randint(100000), stream_fixed=False, metric='euclidean', averaging='tsoptim',verbose=True)"
   ]
  },
  {
   "cell_type": "code",
   "execution_count": null,
   "id": "86a783ef",
   "metadata": {},
   "outputs": [],
   "source": [
    "km2.fit(X)"
   ]
  },
  {
   "cell_type": "code",
   "execution_count": null,
   "id": "12cc73e1",
   "metadata": {},
   "outputs": [],
   "source": [
    "km2.labels_"
   ]
  },
  {
   "cell_type": "markdown",
   "id": "76a9701c",
   "metadata": {},
   "source": [
    "### Clustering avec pennec"
   ]
  },
  {
   "cell_type": "code",
   "execution_count": null,
   "id": "0ca4fae9",
   "metadata": {},
   "outputs": [],
   "source": [
    "km3 = kmeans.KMeansSignature(n_clusters=n_clusters, depth=depth, channels=2,random_state=np.random.randint(100000), metric='euclidean', averaging='pennec',verbose=False)"
   ]
  },
  {
   "cell_type": "code",
   "execution_count": null,
   "id": "2ff3dee1",
   "metadata": {},
   "outputs": [],
   "source": [
    "km3.fit(SX)"
   ]
  },
  {
   "cell_type": "code",
   "execution_count": null,
   "id": "a58be976",
   "metadata": {},
   "outputs": [],
   "source": [
    "km3.labels_"
   ]
  },
  {
   "cell_type": "markdown",
   "id": "bb749e04",
   "metadata": {},
   "source": [
    "### Comparaison des méthodes de clustering \n",
    "\n",
    "On essaye de regarder les indices qui à chaque algorithme de Kmeans vont se retrouver ensemble, on crée ainsi ces fonctions"
   ]
  },
  {
   "cell_type": "code",
   "execution_count": null,
   "id": "e3f1b636",
   "metadata": {},
   "outputs": [],
   "source": [
    "def toujours_ensemble(i,j,*args):\n",
    "    for k in args:\n",
    "        if k[i]!=k[j]:\n",
    "            return False\n",
    "    return True"
   ]
  },
  {
   "cell_type": "code",
   "execution_count": null,
   "id": "37902d02",
   "metadata": {},
   "outputs": [],
   "source": [
    "def dans_liste_de_liste(l,i):\n",
    "    for k in l:\n",
    "        if i in k:\n",
    "            return True\n",
    "    return False"
   ]
  },
  {
   "cell_type": "code",
   "execution_count": null,
   "id": "acefabf0",
   "metadata": {},
   "outputs": [],
   "source": [
    "def indices_toujours_ensemble(*args):\n",
    "    l=[]\n",
    "    for i in range(125):\n",
    "        li=[]\n",
    "        if not dans_liste_de_liste(l,indice_produit[i]):\n",
    "            for j in range(125):\n",
    "                if toujours_ensemble(i,j,*args):\n",
    "                    li.append(indice_produit[j])\n",
    "            if len(li)>1:\n",
    "                l.append(li)\n",
    "    return l"
   ]
  },
  {
   "cell_type": "markdown",
   "id": "9178523f",
   "metadata": {},
   "source": [
    "Les différents argument sont des tuples des labels de 5 algorithmes du même averaging (arguments:LE, arguments2:tsoptim, arguments3:pennec"
   ]
  },
  {
   "cell_type": "code",
   "execution_count": null,
   "id": "9eaaddfb",
   "metadata": {},
   "outputs": [],
   "source": [
    "arguments=kmeans.KMeansSignature(n_clusters=n_clusters, depth=depth,random_state=np.random.randint(1000), channels=2, metric='euclidean', averaging='LE').fit(SX).__getattribute__(\"labels_\"),kmeans.KMeansSignature(n_clusters=n_clusters, depth=depth, channels=2,random_state=np.random.randint(1000), metric='euclidean', averaging='LE').fit(SX).__getattribute__(\"labels_\"),kmeans.KMeansSignature(n_clusters=n_clusters, depth=depth, channels=2,random_state=np.random.randint(1000), metric='euclidean', averaging='LE').fit(SX).__getattribute__(\"labels_\"),kmeans.KMeansSignature(n_clusters=n_clusters, depth=depth, channels=2,random_state=np.random.randint(1000), metric='euclidean', averaging='LE').fit(SX).__getattribute__(\"labels_\"),kmeans.KMeansSignature(n_clusters=n_clusters, depth=depth, channels=2,random_state=np.random.randint(1000), metric='euclidean', averaging='LE').fit(SX).__getattribute__(\"labels_\")"
   ]
  },
  {
   "cell_type": "code",
   "execution_count": null,
   "id": "12026e8f",
   "metadata": {},
   "outputs": [],
   "source": [
    "a=indices_toujours_ensemble(*arguments)"
   ]
  },
  {
   "cell_type": "code",
   "execution_count": null,
   "id": "cac280a3",
   "metadata": {},
   "outputs": [],
   "source": [
    "[len(k) for k in a]"
   ]
  },
  {
   "cell_type": "code",
   "execution_count": null,
   "id": "89df5c0f",
   "metadata": {},
   "outputs": [],
   "source": [
    "sum([len(k) for k in a])"
   ]
  },
  {
   "cell_type": "markdown",
   "id": "6415e886",
   "metadata": {},
   "source": [
    "Il est intéréssant de regarder la longueur des groupes d'indices, un nombre de groupe ayant une taille conséquente égal au nombre de clusters dans l'algorithme indique un clustering assez stable puisqu'on retrouvera souvent chacun des groupes dans un cluster. La somme est aussi importante pour savoir si certaines données sont un peu isolées et clusterisées complètement différement des autres."
   ]
  },
  {
   "cell_type": "code",
   "execution_count": null,
   "id": "eca453ba",
   "metadata": {},
   "outputs": [],
   "source": [
    "arguments2=kmeans.KMeansSignature(n_clusters=n_clusters, depth=depth, channels=2,random_state=np.random.randint(100000), stream_fixed=False, metric='euclidean', averaging='tsoptim').fit(X).labels_,kmeans.KMeansSignature(n_clusters=n_clusters, depth=depth, channels=2,random_state=np.random.randint(100000), stream_fixed=False, metric='euclidean', averaging='tsoptim').fit(X).labels_,kmeans.KMeansSignature(n_clusters=n_clusters, depth=depth, channels=2,random_state=np.random.randint(100000), stream_fixed=False, metric='euclidean', averaging='tsoptim').fit(X).labels_,kmeans.KMeansSignature(n_clusters=n_clusters, depth=depth, channels=2,random_state=np.random.randint(100000), stream_fixed=False, metric='euclidean', averaging='tsoptim').fit(X).labels_,kmeans.KMeansSignature(n_clusters=n_clusters, depth=depth, channels=2,random_state=np.random.randint(100000), stream_fixed=False, metric='euclidean', averaging='tsoptim').fit(X).labels_"
   ]
  },
  {
   "cell_type": "code",
   "execution_count": null,
   "id": "48162f15",
   "metadata": {},
   "outputs": [],
   "source": [
    "b=indices_toujours_ensemble(*arguments2)"
   ]
  },
  {
   "cell_type": "code",
   "execution_count": null,
   "id": "29a437a5",
   "metadata": {},
   "outputs": [],
   "source": [
    "[len(k) for k in b]"
   ]
  },
  {
   "cell_type": "code",
   "execution_count": null,
   "id": "ce5fa84d",
   "metadata": {},
   "outputs": [],
   "source": [
    "sum([len(k) for k in b])"
   ]
  },
  {
   "cell_type": "code",
   "execution_count": null,
   "id": "63c21d0a",
   "metadata": {},
   "outputs": [],
   "source": [
    "arguments3=kmeans.KMeansSignature(n_clusters=n_clusters, depth=depth, channels=2,random_state=np.random.randint(100000), metric='euclidean', averaging='pennec',verbose=False).fit(SX).labels_,kmeans.KMeansSignature(n_clusters=n_clusters, depth=depth, channels=2,random_state=np.random.randint(100000), metric='euclidean', averaging='pennec',verbose=False).fit(SX).labels_,kmeans.KMeansSignature(n_clusters=n_clusters, depth=depth, channels=2,random_state=np.random.randint(100000), metric='euclidean', averaging='pennec',verbose=False).fit(SX).labels_,kmeans.KMeansSignature(n_clusters=n_clusters, depth=depth, channels=2,random_state=np.random.randint(100000), metric='euclidean', averaging='pennec',verbose=False).fit(SX).labels_,kmeans.KMeansSignature(n_clusters=n_clusters, depth=depth, channels=2,random_state=np.random.randint(100000), metric='euclidean', averaging='pennec',verbose=False).fit(SX).labels_"
   ]
  },
  {
   "cell_type": "code",
   "execution_count": null,
   "id": "6cd205f6",
   "metadata": {},
   "outputs": [],
   "source": [
    "c=indices_toujours_ensemble(*arguments3)"
   ]
  },
  {
   "cell_type": "code",
   "execution_count": null,
   "id": "d6faceec",
   "metadata": {},
   "outputs": [],
   "source": [
    "[len(k) for k in c]"
   ]
  },
  {
   "cell_type": "code",
   "execution_count": null,
   "id": "7e560a0e",
   "metadata": {},
   "outputs": [],
   "source": [
    "sum([len(k) for k in c])"
   ]
  },
  {
   "cell_type": "markdown",
   "id": "0c7822f5",
   "metadata": {},
   "source": [
    "On peut aussi essayer de regarder si les résultats des différents averaging se ressemblent"
   ]
  },
  {
   "cell_type": "code",
   "execution_count": null,
   "id": "2fea7028",
   "metadata": {},
   "outputs": [],
   "source": [
    "d=indices_toujours_ensemble(*arguments,*arguments2,*arguments3)"
   ]
  },
  {
   "cell_type": "code",
   "execution_count": null,
   "id": "2ef24058",
   "metadata": {},
   "outputs": [],
   "source": [
    "[len(k) for k in d]"
   ]
  },
  {
   "cell_type": "code",
   "execution_count": null,
   "id": "e77606c3",
   "metadata": {},
   "outputs": [],
   "source": [
    "sum([len(k) for k in d])"
   ]
  },
  {
   "cell_type": "code",
   "execution_count": null,
   "id": "88aaa119",
   "metadata": {},
   "outputs": [],
   "source": [
    "e=indices_toujours_ensemble(*arguments,*arguments2)"
   ]
  },
  {
   "cell_type": "code",
   "execution_count": null,
   "id": "a89e2116",
   "metadata": {},
   "outputs": [],
   "source": [
    "[len(k) for k in e]"
   ]
  },
  {
   "cell_type": "code",
   "execution_count": null,
   "id": "df059816",
   "metadata": {},
   "outputs": [],
   "source": [
    "sum([len(k) for k in e])"
   ]
  },
  {
   "cell_type": "code",
   "execution_count": null,
   "id": "2ddc33f6",
   "metadata": {},
   "outputs": [],
   "source": [
    "f=indices_toujours_ensemble(*arguments3,*arguments2)"
   ]
  },
  {
   "cell_type": "code",
   "execution_count": null,
   "id": "357be7bc",
   "metadata": {},
   "outputs": [],
   "source": [
    "[len(k) for k in f]"
   ]
  },
  {
   "cell_type": "code",
   "execution_count": null,
   "id": "32be5028",
   "metadata": {},
   "outputs": [],
   "source": [
    "sum([len(k) for k in f])"
   ]
  },
  {
   "cell_type": "code",
   "execution_count": null,
   "id": "0c80a1e2",
   "metadata": {},
   "outputs": [],
   "source": [
    "g=indices_toujours_ensemble(*arguments,*arguments3)"
   ]
  },
  {
   "cell_type": "code",
   "execution_count": null,
   "id": "46afcc05",
   "metadata": {},
   "outputs": [],
   "source": [
    "[len(k) for k in g]"
   ]
  },
  {
   "cell_type": "code",
   "execution_count": null,
   "id": "519205e9",
   "metadata": {},
   "outputs": [],
   "source": [
    "sum([len(k) for k in g])"
   ]
  },
  {
   "cell_type": "markdown",
   "id": "6672b8e0",
   "metadata": {},
   "source": [
    "On remarque que les résultats de pennec et de LE semblent proches. On vérifie ce sont bien les mêmes clusters. Cette commande renvoie souvent au moins trois True mais certaines fois il peut y avoir un décalage donc avoir que des False"
   ]
  },
  {
   "cell_type": "code",
   "execution_count": null,
   "id": "6d24931d",
   "metadata": {},
   "outputs": [],
   "source": [
    "for k in range(min(len(g),len(c))):\n",
    "    print(g[k]==c[k])"
   ]
  },
  {
   "cell_type": "markdown",
   "id": "9787e90b",
   "metadata": {},
   "source": [
    "Si on veut visualiser les séries temporelles que l'on a clusterisés ensemble on peut utiliser cette commande (ici pour a[1])\n",
    "\n",
    "/!\\ Si la longueur du cluster est inférieure à 4 il faut enlever le row_i dans axs"
   ]
  },
  {
   "cell_type": "code",
   "execution_count": null,
   "id": "478dca35",
   "metadata": {},
   "outputs": [],
   "source": [
    "#fig, axs = plt.subplots(len(a[1])//4+1,4,figsize=(25,15))\n",
    "#row_i=0\n",
    "#column_j=0\n",
    "#for indice in a[1]:\n",
    "#    axs[row_i,column_j].plot(indice_temps[np.where(indice_produit==indice)[0][0]],myseries[np.where(indice_produit==indice)[0][0]],c=\"blue\")\n",
    "#    column_j+=1\n",
    "#    if column_j%4==0:\n",
    "#        row_i+=1\n",
    "#        column_j=0\n",
    "        \n",
    "#plt.show"
   ]
  },
  {
   "cell_type": "code",
   "execution_count": null,
   "id": "9addaf2f",
   "metadata": {},
   "outputs": [],
   "source": []
  }
 ],
 "metadata": {
  "kernelspec": {
   "display_name": "Python 3 (ipykernel)",
   "language": "python",
   "name": "python3"
  },
  "language_info": {
   "codemirror_mode": {
    "name": "ipython",
    "version": 3
   },
   "file_extension": ".py",
   "mimetype": "text/x-python",
   "name": "python",
   "nbconvert_exporter": "python",
   "pygments_lexer": "ipython3",
   "version": "3.9.12"
  }
 },
 "nbformat": 4,
 "nbformat_minor": 5
}
