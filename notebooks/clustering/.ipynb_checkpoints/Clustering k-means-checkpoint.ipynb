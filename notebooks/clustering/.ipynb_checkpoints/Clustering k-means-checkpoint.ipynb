{
 "cells": [
  {
   "cell_type": "markdown",
   "id": "5c22ab2e",
   "metadata": {},
   "source": [
    "# Clustering série temporelles\n",
    "\n",
    "## Exploration des données"
   ]
  },
  {
   "cell_type": "code",
   "execution_count": null,
   "id": "8c09923f",
   "metadata": {},
   "outputs": [],
   "source": [
    "#conda install -c conda-forge tslearn"
   ]
  },
  {
   "cell_type": "code",
   "execution_count": null,
   "id": "144020a9",
   "metadata": {
    "id": "144020a9"
   },
   "outputs": [],
   "source": [
    "# packages nécessaires\n",
    "import os\n",
    "import math\n",
    "\n",
    "import pandas as pd\n",
    "import matplotlib.pyplot as plt\n",
    "import numpy as np\n",
    "import sklearn\n",
    "from scipy.cluster.hierarchy import dendrogram\n",
    "\n",
    "from sklearn.preprocessing import MinMaxScaler\n",
    "from sklearn.cluster import KMeans\n",
    "from sklearn.cluster import AgglomerativeClustering\n",
    "from sklearn.cluster import DBSCAN\n",
    "from sklearn.decomposition import PCA\n",
    "from sklearn.metrics import silhouette_score\n",
    "from sklearn.metrics import rand_score\n",
    "from sklearn.metrics import adjusted_rand_score\n",
    "\n",
    "\n",
    "from tslearn.barycenters import dtw_barycenter_averaging\n",
    "from tslearn.clustering import TimeSeriesKMeans\n",
    "from tslearn.clustering import silhouette_score as silhouette_score2\n",
    "from tslearn.utils import to_time_series_dataset\n",
    "from tslearn.utils import to_sklearn_dataset\n",
    "from tslearn.metrics import dtw\n",
    "\n",
    "from statsmodels.tsa.stattools import acf, pacf"
   ]
  },
  {
   "cell_type": "code",
   "execution_count": null,
   "id": "473b42de",
   "metadata": {},
   "outputs": [],
   "source": [
    "pip install pyarrow"
   ]
  },
  {
   "cell_type": "code",
   "execution_count": null,
   "id": "f8eddd9e",
   "metadata": {
    "colab": {
     "base_uri": "https://localhost:8080/",
     "height": 345
    },
    "id": "f8eddd9e",
    "outputId": "10393356-aa52-405a-a24c-358bce6e9eef"
   },
   "outputs": [],
   "source": [
    "#base de données\n",
    "df = pd.read_parquet(\"C:/Users/gabri/OneDrive/Bureau/Cours ENSAE/2ème année/Stage/Données/forecasting.parquet.gzip\")\n",
    "df"
   ]
  },
  {
   "cell_type": "code",
   "execution_count": null,
   "id": "5f10c743",
   "metadata": {},
   "outputs": [],
   "source": [
    "df['time_index']=pd.to_datetime(df['time_index'])"
   ]
  },
  {
   "cell_type": "markdown",
   "id": "e9bb18b4",
   "metadata": {},
   "source": [
    "On liste les séries temporelles selon les indices des produits. On effectue 3 copies : la première servira pour la distance euclidienne et les séries seront complétées par des valeurs nulles et redimensionnées, la deuxième sera redimensionnée et sera utilisé pour le clustering avec la DTW, la troisième servira seulement à effectuer des graphiques"
   ]
  },
  {
   "cell_type": "code",
   "execution_count": null,
   "id": "0370f150",
   "metadata": {},
   "outputs": [],
   "source": [
    "indice_produit=df['product_index'].unique()\n",
    "myseries=[df[['time_index','ordered_volumes']][df['product_index']==k] for k in indice_produit]\n"
   ]
  },
  {
   "cell_type": "code",
   "execution_count": null,
   "id": "79bd23dc",
   "metadata": {},
   "outputs": [],
   "source": [
    "for k in range(len(myseries)):\n",
    "    myseries[k].set_index('time_index',inplace=True)\n",
    "    myseries[k].sort_index(inplace=True)\n",
    "myseries2=myseries.copy()\n",
    "myseries3=myseries.copy()\n",
    "indice_temps=[series.index for series in myseries2 ]\n"
   ]
  },
  {
   "cell_type": "code",
   "execution_count": null,
   "id": "f4c70574",
   "metadata": {},
   "outputs": [],
   "source": [
    "series_length=[len(series) for series in myseries]"
   ]
  },
  {
   "cell_type": "code",
   "execution_count": null,
   "id": "4c9db55f",
   "metadata": {},
   "outputs": [],
   "source": [
    "# Complétion des séries\n",
    "max_len = max(series_length)\n",
    "longest_series = None\n",
    "for series in myseries:\n",
    "    if len(series) == max_len:\n",
    "        longest_series = series\n",
    "for i in range(len(myseries)):\n",
    "    if len(myseries[i])!= max_len:\n",
    "        myseries[i] = myseries[i].reindex(longest_series.index,fill_value=0)"
   ]
  },
  {
   "cell_type": "markdown",
   "id": "78d84c0a",
   "metadata": {},
   "source": [
    "On redimensionne les séries temporelles"
   ]
  },
  {
   "cell_type": "code",
   "execution_count": null,
   "id": "573c9827",
   "metadata": {},
   "outputs": [],
   "source": [
    "for i in range(len(myseries)):\n",
    "    scaler = MinMaxScaler()\n",
    "    myseries[i] = MinMaxScaler().fit_transform(myseries[i])\n",
    "    myseries[i]= myseries[i].reshape(len(myseries[i]))\n",
    "    myseries2[i] = MinMaxScaler().fit_transform(myseries2[i])\n",
    "    myseries2[i]= myseries2[i].reshape(len(myseries2[i]))"
   ]
  },
  {
   "cell_type": "code",
   "execution_count": null,
   "id": "1d3dadfe",
   "metadata": {},
   "outputs": [],
   "source": [
    "X=to_time_series_dataset(myseries2)"
   ]
  },
  {
   "cell_type": "markdown",
   "id": "42463a3c",
   "metadata": {},
   "source": [
    "### Clustering Kmean PCA\n",
    "\n",
    "On effectue une PCA et on utilise la règle du coude pour savoir le nombre de composantes que l'on va choisir"
   ]
  },
  {
   "cell_type": "code",
   "execution_count": null,
   "id": "31817c42",
   "metadata": {},
   "outputs": [],
   "source": [
    "pca = PCA(n_components=20)\n",
    "pca.fit(myseries)\n",
    "plt.hist(range(1,21),weights=pca.explained_variance_ratio_,bins=20)\n",
    "plt.axhline(y=0.05,color='orange')"
   ]
  },
  {
   "cell_type": "code",
   "execution_count": null,
   "id": "cbff7719",
   "metadata": {},
   "outputs": [],
   "source": [
    "plt.plot(range(1,21),pca.explained_variance_ratio_)"
   ]
  },
  {
   "cell_type": "code",
   "execution_count": null,
   "id": "2095ef40",
   "metadata": {},
   "outputs": [],
   "source": [
    "pca.explained_variance_ratio_"
   ]
  },
  {
   "cell_type": "markdown",
   "id": "01c7449a",
   "metadata": {},
   "source": [
    "On va essayer des pca à 2 et 3 composantes"
   ]
  },
  {
   "cell_type": "code",
   "execution_count": null,
   "id": "24a4ad24",
   "metadata": {},
   "outputs": [],
   "source": [
    "pca = PCA(n_components=2)\n",
    "\n",
    "myseries_transformed = pca.fit_transform(myseries)"
   ]
  },
  {
   "cell_type": "code",
   "execution_count": null,
   "id": "051a2a5e",
   "metadata": {},
   "outputs": [],
   "source": [
    "pca = PCA(n_components=3)\n",
    "\n",
    "myseries_transformed3 = pca.fit_transform(myseries)"
   ]
  },
  {
   "cell_type": "code",
   "execution_count": null,
   "id": "cc81d0db",
   "metadata": {},
   "outputs": [],
   "source": [
    "myseries_transformed3"
   ]
  },
  {
   "cell_type": "markdown",
   "id": "d99ef8f0",
   "metadata": {},
   "source": [
    "On peut traçer l'inertie pour déterminer le nombre de clusters à choisir"
   ]
  },
  {
   "cell_type": "code",
   "execution_count": null,
   "id": "b1989824",
   "metadata": {
    "scrolled": true
   },
   "outputs": [],
   "source": [
    "inertie=np.empty(25,dtype='float')\n",
    "\n",
    "for i in range(2,27):\n",
    "    km = KMeans(n_clusters=i,max_iter=5000).fit(myseries_transformed3)\n",
    "    inertie[i-2] = km.inertia_\n",
    "plt.plot(range(2,27),inertie)"
   ]
  },
  {
   "cell_type": "markdown",
   "id": "6fbde9d9",
   "metadata": {},
   "source": [
    "On essaye avec 3 clusters"
   ]
  },
  {
   "cell_type": "code",
   "execution_count": null,
   "id": "7c8dd0de",
   "metadata": {},
   "outputs": [],
   "source": [
    "kmeans_pca = KMeans(n_clusters=3,max_iter=5000)\n",
    "\n",
    "labels_pca = kmeans_pca.fit_predict(myseries_transformed3)"
   ]
  },
  {
   "cell_type": "markdown",
   "id": "d9c932d1",
   "metadata": {},
   "source": [
    "On peut traçer les clusters formés avec un kmeans sur une pca à 3 composantes: la ligne rouge représente le barycentre"
   ]
  },
  {
   "cell_type": "code",
   "execution_count": null,
   "id": "2a4be5d7",
   "metadata": {},
   "outputs": [],
   "source": [
    "fig, axs = plt.subplots(1,3,figsize=(25,5))\n",
    "fig.suptitle('Clusters')\n",
    "row_i=0\n",
    "column_j=0\n",
    "for label in set(labels_pca):\n",
    "    cluster = []\n",
    "    for i in range(len(labels_pca)):\n",
    "            if(labels_pca[i]==label):\n",
    "                axs[ column_j].plot(longest_series.index,myseries[i],c=\"gray\",alpha=0.4)\n",
    "                cluster.append(myseries[i])\n",
    "    if len(cluster) > 0:\n",
    "        axs[ column_j].plot(longest_series.index,np.average(np.vstack(cluster),axis=0),c=\"red\")\n",
    "    axs[column_j].set_title(\"Cluster \"+str(row_i*4+column_j))\n",
    "    column_j+=1\n",
    "    if column_j%4 == 0:\n",
    "        row_i+=1\n",
    "        column_j=0\n",
    "        \n",
    "\n",
    "plt.savefig('C:/Users/gabri/OneDrive/Bureau/Cours ENSAE/2ème année/Stage/Résultats PCA.jpeg')\n",
    "plt.show()"
   ]
  },
  {
   "cell_type": "markdown",
   "id": "d5fa0735",
   "metadata": {},
   "source": [
    "On peut visualiser avec la PCA 2 composantes les clusters créés"
   ]
  },
  {
   "cell_type": "code",
   "execution_count": null,
   "id": "e561bee0",
   "metadata": {},
   "outputs": [],
   "source": [
    "cmap = plt.cm.get_cmap(\"tab20\", kmeans_pca.cluster_centers_.shape[0])\n",
    "plt.figure(figsize=(25,10))\n",
    "colors_pca=[cmap(i) for i in labels_pca]\n",
    "plt.scatter(myseries_transformed[:, 0], myseries_transformed[:, 1], c=colors_pca, s=300)\n",
    "plt.show()"
   ]
  },
  {
   "cell_type": "code",
   "execution_count": null,
   "id": "993807fa",
   "metadata": {
    "scrolled": true
   },
   "outputs": [],
   "source": [
    "fancy_names_for_labels_pca = [f\"Cluster {label}\" for label in labels_pca]\n",
    "prédiction_pca=pd.DataFrame(zip(indice_produit,fancy_names_for_labels_pca),columns=[\"Series\",\"Cluster\"]).sort_values(by=\"Cluster\").set_index(\"Series\")"
   ]
  },
  {
   "cell_type": "code",
   "execution_count": null,
   "id": "d59b8111",
   "metadata": {},
   "outputs": [],
   "source": [
    "prédiction_pca"
   ]
  },
  {
   "cell_type": "code",
   "execution_count": null,
   "id": "96340f9b",
   "metadata": {
    "scrolled": true
   },
   "outputs": [],
   "source": [
    "for k in range(3):\n",
    "    print(prédiction_pca[prédiction_pca['Cluster']==f'Cluster {k}'].index)"
   ]
  },
  {
   "cell_type": "markdown",
   "id": "44347137",
   "metadata": {},
   "source": [
    "### Kmeans\n",
    "\n",
    "On effectue le même protocole pour les séries complètes"
   ]
  },
  {
   "cell_type": "code",
   "execution_count": null,
   "id": "8fc2459e",
   "metadata": {},
   "outputs": [],
   "source": [
    "inertie=np.empty(25,dtype='float')\n",
    "\n",
    "for i in range(2,27):\n",
    "    kmeans = KMeans(n_clusters=i,max_iter=5000)\n",
    "    inertie[i-2] = kmeans.fit(myseries).inertia_\n",
    "plt.plot(range(2,27),inertie)"
   ]
  },
  {
   "cell_type": "code",
   "execution_count": null,
   "id": "300a24ab",
   "metadata": {},
   "outputs": [],
   "source": [
    "kmeans = KMeans(n_clusters=3,max_iter=5000)\n",
    "\n",
    "labels_kmeans = kmeans.fit_predict(myseries)"
   ]
  },
  {
   "cell_type": "code",
   "execution_count": null,
   "id": "0dbf759c",
   "metadata": {},
   "outputs": [],
   "source": [
    "\n",
    "fig, axs = plt.subplots(1,3,figsize=(25,5))\n",
    "fig.suptitle('Clusters')\n",
    "row_i=0\n",
    "column_j=0\n",
    "for label in set(labels_kmeans):\n",
    "    cluster = []\n",
    "    for i in range(len(labels_kmeans)):\n",
    "            if(labels_kmeans[i]==label):\n",
    "                axs[ column_j].plot(longest_series.index,myseries[i],c=\"gray\",alpha=0.4)\n",
    "                cluster.append(myseries[i])\n",
    "    if len(cluster) > 0:\n",
    "        axs[ column_j].plot(longest_series.index,np.average(np.vstack(cluster),axis=0),c=\"red\")\n",
    "    axs[ column_j].set_title(\"Cluster \"+str(row_i*4+column_j))\n",
    "    column_j+=1\n",
    "    if column_j%4 == 0:\n",
    "        row_i+=1\n",
    "        column_j=0\n",
    "        \n",
    "\n",
    "plt.savefig('C:/Users/gabri/OneDrive/Bureau/Cours ENSAE/2ème année/Stage/Résultat kmeans.jpeg')\n",
    "plt.show()"
   ]
  },
  {
   "cell_type": "code",
   "execution_count": null,
   "id": "adc6030d",
   "metadata": {},
   "outputs": [],
   "source": [
    "plt.figure(figsize=(25,10))\n",
    "cmap = plt.cm.get_cmap(\"tab20\", kmeans.cluster_centers_.shape[0])\n",
    "colors_kmeans=[cmap(i) for i in labels_kmeans]\n",
    "plt.scatter(myseries_transformed[:, 0], myseries_transformed[:, 1], c=colors_kmeans, s=300)\n",
    "plt.show()"
   ]
  },
  {
   "cell_type": "code",
   "execution_count": null,
   "id": "b95d7891",
   "metadata": {},
   "outputs": [],
   "source": [
    "fancy_names_for_labels_kmeans = [f\"Cluster {label}\" for label in labels_kmeans]\n",
    "prédiction_kmeans=pd.DataFrame(zip(indice_produit,fancy_names_for_labels_kmeans),columns=[\"Series\",\"Cluster\"]).sort_values(by=\"Cluster\").set_index(\"Series\")"
   ]
  },
  {
   "cell_type": "code",
   "execution_count": null,
   "id": "f44c1a19",
   "metadata": {},
   "outputs": [],
   "source": [
    "prédiction_kmeans"
   ]
  },
  {
   "cell_type": "code",
   "execution_count": null,
   "id": "7fb4fc98",
   "metadata": {},
   "outputs": [],
   "source": [
    "for k in range(3):\n",
    "    print(prédiction_kmeans[prédiction_kmeans['Cluster']==f'Cluster {k}'].index)"
   ]
  },
  {
   "cell_type": "markdown",
   "id": "7237846c",
   "metadata": {},
   "source": [
    "### DTW\n",
    "\n",
    "On effectue la même chose en changeant de métrique.\n",
    "/!\\ Le tracé de l'inertie peut prendre 4 minutes"
   ]
  },
  {
   "cell_type": "code",
   "execution_count": null,
   "id": "b6cf2573",
   "metadata": {},
   "outputs": [],
   "source": [
    "%%time\n",
    "inertie=np.empty((1,10),dtype='float')\n",
    "\n",
    "for j in range(1):\n",
    "    for i in range(1,11):\n",
    "        km = TimeSeriesKMeans(n_clusters=i, metric=\"dtw\")\n",
    "        inertie[j,i-1] = km.fit(X).inertia_\n",
    "    print(j)\n",
    "plt.plot(range(1,11),np.mean(inertie,axis=0))"
   ]
  },
  {
   "cell_type": "code",
   "execution_count": null,
   "id": "71370570",
   "metadata": {},
   "outputs": [],
   "source": [
    "%%time\n",
    "dtw_km = TimeSeriesKMeans(n_clusters=3, metric=\"dtw\")\n",
    "\n",
    "labels_dtw = dtw_km.fit_predict(X)"
   ]
  },
  {
   "cell_type": "code",
   "execution_count": null,
   "id": "629d1fab",
   "metadata": {},
   "outputs": [],
   "source": [
    "fancy_names_for_labels_dtw = [f\"Cluster {label}\" for label in labels_dtw]\n",
    "prediction_dtw=pd.DataFrame(zip(indice_produit,fancy_names_for_labels_dtw),columns=[\"Series\",\"Cluster\"]).sort_values(by=\"Cluster\").set_index(\"Series\")"
   ]
  },
  {
   "cell_type": "markdown",
   "id": "3651dc42",
   "metadata": {},
   "source": [
    "Le barycentre est moins cohérent à tracer ici donc on trace chaque séries de chaque cluster.\n",
    "\n",
    "/!\\ Si un cluster est trop petit ($\\leq$4) il faut enlever le row_i dans axs[]"
   ]
  },
  {
   "cell_type": "code",
   "execution_count": null,
   "id": "01369418",
   "metadata": {
    "scrolled": true
   },
   "outputs": [],
   "source": [
    "fig, axs = plt.subplots(len(prediction_dtw[prediction_dtw['Cluster']==f'Cluster {0}'].index)//4+1,4,figsize=(25,25))\n",
    "row_i=0\n",
    "column_j=0\n",
    "for i in prediction_dtw[prediction_dtw['Cluster']==f'Cluster {0}'].index:\n",
    "    axs[row_i,column_j].plot(indice_temps[np.where(indice_produit==i)[0][0]],myseries2[np.where(indice_produit==i)[0][0]],c=\"blue\")\n",
    "    column_j+=1\n",
    "    if column_j%4==0:\n",
    "        row_i+=1\n",
    "        column_j=0\n",
    "        \n",
    "plt.show\n"
   ]
  },
  {
   "cell_type": "code",
   "execution_count": null,
   "id": "05fe47e4",
   "metadata": {},
   "outputs": [],
   "source": [
    "fig, axs = plt.subplots(len(prediction_dtw[prediction_dtw['Cluster']==f'Cluster {1}'].index)//4+1,4,figsize=(25,25))\n",
    "row_i=0\n",
    "column_j=0\n",
    "for i in prediction_dtw[prediction_dtw['Cluster']==f'Cluster {1}'].index:\n",
    "    axs[row_i,column_j].plot(indice_temps[np.where(indice_produit==i)[0][0]],myseries2[np.where(indice_produit==i)[0][0]],c=\"blue\")\n",
    "    column_j+=1\n",
    "    if column_j%4==0:\n",
    "        row_i+=1\n",
    "        column_j=0\n",
    "        \n",
    "plt.show()"
   ]
  },
  {
   "cell_type": "code",
   "execution_count": null,
   "id": "f4e5407b",
   "metadata": {},
   "outputs": [],
   "source": [
    "fig, axs = plt.subplots(len(prediction_dtw[prediction_dtw['Cluster']==f'Cluster {2}'].index)//4+1,4,figsize=(25,25))\n",
    "row_i=0\n",
    "column_j=0\n",
    "for i in prediction_dtw[prediction_dtw['Cluster']==f'Cluster {2}'].index:\n",
    "    axs[row_i,column_j].plot(indice_temps[np.where(indice_produit==i)[0][0]],myseries2[np.where(indice_produit==i)[0][0]],c=\"blue\")\n",
    "    column_j+=1\n",
    "    if column_j%4==0:\n",
    "        row_i+=1\n",
    "        column_j=0\n",
    "      \n",
    "plt.show()"
   ]
  },
  {
   "cell_type": "code",
   "execution_count": null,
   "id": "05fc59a9",
   "metadata": {
    "scrolled": true
   },
   "outputs": [],
   "source": [
    "for k in range(3):\n",
    "    print(prediction_dtw[prediction_dtw['Cluster']==f'Cluster {k}'].index)"
   ]
  },
  {
   "cell_type": "markdown",
   "id": "aedfad24",
   "metadata": {},
   "source": [
    "### Hierarchical Clustering"
   ]
  },
  {
   "cell_type": "markdown",
   "id": "fdc1753b",
   "metadata": {},
   "source": [
    "On utilise un autre algorithme qui est le Hierarchical clustering avec toujours la DTW comme métrique. On va essayer les 3 types de linkage"
   ]
  },
  {
   "cell_type": "code",
   "execution_count": null,
   "id": "d617b4fb",
   "metadata": {},
   "outputs": [],
   "source": [
    "dtw_precomputed=np.zeros((125,125))\n",
    "for i in range(125):\n",
    "    for j in range(125):\n",
    "        dtw_precomputed[i,j]=dtw(myseries2[i], myseries2[j])"
   ]
  },
  {
   "cell_type": "code",
   "execution_count": null,
   "id": "93f30190",
   "metadata": {},
   "outputs": [],
   "source": [
    "hac_average=AgglomerativeClustering(n_clusters=5,affinity='precomputed',linkage='average',compute_distances=True)\n",
    "hac_single=AgglomerativeClustering(n_clusters=5,affinity='precomputed',linkage='single',compute_distances=True)\n",
    "hac_complete=AgglomerativeClustering(n_clusters=5,affinity='precomputed',linkage='complete',compute_distances=True)\n",
    "modele_average = hac_average.fit(dtw_precomputed)\n",
    "modele_single = hac_single.fit(dtw_precomputed)\n",
    "modele_complete = hac_complete.fit(dtw_precomputed)"
   ]
  },
  {
   "cell_type": "markdown",
   "id": "2686c344",
   "metadata": {},
   "source": [
    "On affiche les dendrogrammes des 3 types de linkage"
   ]
  },
  {
   "cell_type": "code",
   "execution_count": null,
   "id": "3b2aa726",
   "metadata": {},
   "outputs": [],
   "source": [
    "def plot_dendrogram(model, **kwargs):\n",
    "    # Create linkage matrix and then plot the dendrogram\n",
    "\n",
    "    # create the counts of samples under each node\n",
    "    counts = np.zeros(model.children_.shape[0])\n",
    "    n_samples = len(model.labels_)\n",
    "    for i, merge in enumerate(model.children_):\n",
    "        current_count = 0\n",
    "        for child_idx in merge:\n",
    "            if child_idx < n_samples:\n",
    "                current_count += 1  # leaf node\n",
    "            else:\n",
    "                current_count += counts[child_idx - n_samples]\n",
    "        counts[i] = current_count\n",
    "\n",
    "    linkage_matrix = np.column_stack(\n",
    "        [model.children_, model.distances_, counts]\n",
    "    ).astype(float)\n",
    "\n",
    "    # Plot the corresponding dendrogram\n",
    "    dendrogram(linkage_matrix, **kwargs)"
   ]
  },
  {
   "cell_type": "code",
   "execution_count": null,
   "id": "b8e944d1",
   "metadata": {},
   "outputs": [],
   "source": [
    "plot_dendrogram(modele_average, truncate_mode=\"level\", p=5)"
   ]
  },
  {
   "cell_type": "code",
   "execution_count": null,
   "id": "4f5d81c8",
   "metadata": {},
   "outputs": [],
   "source": [
    "plot_dendrogram(modele_single, truncate_mode=\"level\", p=10)"
   ]
  },
  {
   "cell_type": "code",
   "execution_count": null,
   "id": "cb467adf",
   "metadata": {},
   "outputs": [],
   "source": [
    "plot_dendrogram(modele_complete, truncate_mode=\"level\", p=4)"
   ]
  },
  {
   "cell_type": "markdown",
   "id": "7d4bdc92",
   "metadata": {},
   "source": [
    "Le linkage single est pas très intéréssant mais les deux autres le sont et surtout le complete qui sépare bien les clusters que l'on va utiliser pour afficher les clusters."
   ]
  },
  {
   "cell_type": "code",
   "execution_count": null,
   "id": "7c735211",
   "metadata": {},
   "outputs": [],
   "source": [
    "hac=AgglomerativeClustering(n_clusters=3,affinity='precomputed',linkage='complete')\n",
    "\n",
    "labels_hac = hac.fit_predict(dtw_precomputed)"
   ]
  },
  {
   "cell_type": "code",
   "execution_count": null,
   "id": "102e9083",
   "metadata": {},
   "outputs": [],
   "source": [
    "fancy_names_for_labels_hac = [f\"Cluster {label}\" for label in labels_hac]\n",
    "prediction_hac=pd.DataFrame(zip(indice_produit,fancy_names_for_labels_hac),columns=[\"Series\",\"Cluster\"]).sort_values(by=\"Cluster\").set_index(\"Series\")"
   ]
  },
  {
   "cell_type": "code",
   "execution_count": null,
   "id": "ab58053c",
   "metadata": {},
   "outputs": [],
   "source": [
    "fig, axs = plt.subplots(len(prediction_hac[prediction_hac['Cluster']==f'Cluster {0}'].index)//4+1,4,figsize=(25,35))\n",
    "row_i=0\n",
    "column_j=0\n",
    "for i in prediction_hac[prediction_hac['Cluster']==f'Cluster {0}'].index:\n",
    "    axs[row_i,column_j].plot(indice_temps[np.where(indice_produit==i)[0][0]],myseries2[np.where(indice_produit==i)[0][0]],c=\"blue\")\n",
    "    column_j+=1\n",
    "    if column_j%4==0:\n",
    "        row_i+=1\n",
    "        column_j=0\n",
    "     \n",
    "plt.savefig('C:/Users/gabri/OneDrive/Bureau/Cours ENSAE/2ème année/Stage/Cluster 1 hierarchical clustering.jpeg')\n",
    "plt.show()"
   ]
  },
  {
   "cell_type": "code",
   "execution_count": null,
   "id": "492227bb",
   "metadata": {},
   "outputs": [],
   "source": [
    "fig, axs = plt.subplots(len(prediction_hac[prediction_hac['Cluster']==f'Cluster {1}'].index)//4+1,4,figsize=(25,10))\n",
    "row_i=0\n",
    "column_j=0\n",
    "for i in prediction_hac[prediction_hac['Cluster']==f'Cluster {1}'].index:\n",
    "    axs[row_i,column_j].plot(indice_temps[np.where(indice_produit==i)[0][0]],myseries2[np.where(indice_produit==i)[0][0]],c=\"blue\")\n",
    "    column_j+=1\n",
    "    if column_j%4==0:\n",
    "        row_i+=1\n",
    "        column_j=0\n",
    "\n",
    "plt.savefig('C:/Users/gabri/OneDrive/Bureau/Cours ENSAE/2ème année/Stage/Cluster 2 hierarchical clustering.jpeg')\n",
    "plt.show()"
   ]
  },
  {
   "cell_type": "code",
   "execution_count": null,
   "id": "7a3f7746",
   "metadata": {},
   "outputs": [],
   "source": [
    "fig, axs = plt.subplots(len(prediction_hac[prediction_hac['Cluster']==f'Cluster {2}'].index)//4+1,4,figsize=(25,25))\n",
    "row_i=0\n",
    "column_j=0\n",
    "for i in prediction_hac[prediction_hac['Cluster']==f'Cluster {2}'].index:\n",
    "    axs[row_i,column_j].plot(indice_temps[np.where(indice_produit==i)[0][0]],myseries2[np.where(indice_produit==i)[0][0]],c=\"blue\")\n",
    "    column_j+=1\n",
    "    if column_j%4==0:\n",
    "        row_i+=1\n",
    "        column_j=0\n",
    "        \n",
    "        \n",
    "plt.savefig('C:/Users/gabri/OneDrive/Bureau/Cours ENSAE/2ème année/Stage/Cluster 3 hierarchical clustering.jpeg')    \n",
    "plt.show()"
   ]
  },
  {
   "cell_type": "code",
   "execution_count": null,
   "id": "54727d1d",
   "metadata": {},
   "outputs": [],
   "source": [
    "for k in range(3):\n",
    "    print(prediction_hac[prediction_hac['Cluster']==f'Cluster {k}'].index)"
   ]
  },
  {
   "cell_type": "markdown",
   "id": "4bb70fee",
   "metadata": {},
   "source": [
    "### DBSCAN\n",
    "\n",
    "On va utiliser l'algorithme de DBSCAN. On prend e tel qu'une part « suffisamment grande » des points aient une distance à son plus proche voisin inférieure à e et n tel qu'une part « suffisamment grande » des points aient plus de n points dans leur e-voisinage."
   ]
  },
  {
   "cell_type": "code",
   "execution_count": null,
   "id": "5b60984d",
   "metadata": {},
   "outputs": [],
   "source": [
    "# Recherche des paramètres\n",
    "a=np.copy(dtw_precomputed)\n",
    "e1=np.quantile(np.sort(a,axis=0)[1],0.95)\n",
    "n1=np.quantile(np.count_nonzero(a<=e1,axis=0),0.05)\n",
    "e2=np.quantile(np.sort(a,axis=0)[1],0.99)\n",
    "n2=np.quantile(np.count_nonzero(a<=e2,axis=0),0.01)"
   ]
  },
  {
   "cell_type": "code",
   "execution_count": null,
   "id": "da3e7e04",
   "metadata": {},
   "outputs": [],
   "source": [
    "%%time\n",
    "dbscan=DBSCAN(eps=e1,min_samples=n1,metric='precomputed')\n",
    "\n",
    "labels_dbscan = dbscan.fit_predict(dtw_precomputed)"
   ]
  },
  {
   "cell_type": "code",
   "execution_count": null,
   "id": "cccd95ce",
   "metadata": {},
   "outputs": [],
   "source": [
    "fancy_names_for_labels_dbscan= [f\"Cluster {label}\" for label in labels_dbscan]\n",
    "prediction_dbscan=pd.DataFrame(zip(indice_produit,fancy_names_for_labels_dbscan),columns=[\"Series\",\"Cluster\"]).sort_values(by=\"Cluster\").set_index(\"Series\")"
   ]
  },
  {
   "cell_type": "code",
   "execution_count": null,
   "id": "9fc390f4",
   "metadata": {},
   "outputs": [],
   "source": [
    "prediction_dbscan['Cluster'].unique().shape"
   ]
  },
  {
   "cell_type": "code",
   "execution_count": null,
   "id": "f4897453",
   "metadata": {},
   "outputs": [],
   "source": [
    "prediction_dbscan"
   ]
  },
  {
   "cell_type": "code",
   "execution_count": null,
   "id": "0a85f483",
   "metadata": {},
   "outputs": [],
   "source": [
    "for k in range(-1,2):\n",
    "    print(prediction_dbscan[prediction_dbscan['Cluster']==f'Cluster {k}'].index)"
   ]
  },
  {
   "cell_type": "code",
   "execution_count": null,
   "id": "aa970f29",
   "metadata": {},
   "outputs": [],
   "source": [
    "fig, axs = plt.subplots(len(prediction_dbscan[prediction_dbscan['Cluster']==f'Cluster {-1}'].index)//4+1,4,figsize=(25,50))\n",
    "row_i=0\n",
    "column_j=0\n",
    "for i in prediction_dbscan[prediction_dbscan['Cluster']==f'Cluster {-1}'].index:\n",
    "    axs[row_i,column_j].plot(indice_temps[np.where(indice_produit==i)[0][0]],myseries2[np.where(indice_produit==i)[0][0]],c=\"blue\")\n",
    "    column_j+=1\n",
    "    if column_j%4==0:\n",
    "        row_i+=1\n",
    "        column_j=0\n",
    "        \n",
    "plt.show\n",
    "plt.savefig('C:/Users/gabri/OneDrive/Bureau/Cours ENSAE/2ème année/Stage/Cluster autres DBSCAN.jpeg')"
   ]
  },
  {
   "cell_type": "code",
   "execution_count": null,
   "id": "d8b00ff9",
   "metadata": {},
   "outputs": [],
   "source": [
    "fig, axs = plt.subplots(len(prediction_dbscan[prediction_dbscan['Cluster']==f'Cluster {0}'].index)//4+1,4,figsize=(25,50))\n",
    "row_i=0\n",
    "column_j=0\n",
    "for i in prediction_dbscan[prediction_dbscan['Cluster']==f'Cluster {0}'].index:\n",
    "    axs[row_i,column_j].plot(indice_temps[np.where(indice_produit==i)[0][0]],myseries2[np.where(indice_produit==i)[0][0]],c=\"blue\")\n",
    "    column_j+=1\n",
    "    if column_j%4==0:\n",
    "        row_i+=1\n",
    "        column_j=0\n",
    "        \n",
    "plt.show\n",
    "plt.savefig('C:/Users/gabri/OneDrive/Bureau/Cours ENSAE/2ème année/Stage/Cluster 1 DBSCAN.jpeg')"
   ]
  },
  {
   "cell_type": "code",
   "execution_count": null,
   "id": "c94f8b33",
   "metadata": {},
   "outputs": [],
   "source": [
    "fig, axs = plt.subplots(len(prediction_dbscan[prediction_dbscan['Cluster']==f'Cluster {1}'].index)//4+1,4,figsize=(25,5))\n",
    "row_i=0\n",
    "column_j=0\n",
    "for i in prediction_dbscan[prediction_dbscan['Cluster']==f'Cluster {1}'].index:\n",
    "    axs[column_j].plot(indice_temps[np.where(indice_produit==i)[0][0]],myseries2[np.where(indice_produit==i)[0][0]],c=\"blue\")\n",
    "    column_j+=1\n",
    "    if column_j%4==0:\n",
    "        row_i+=1\n",
    "        column_j=0\n",
    "        \n",
    "plt.show\n",
    "plt.savefig('C:/Users/gabri/OneDrive/Bureau/Cours ENSAE/2ème année/Stage/Cluster 2 DBSCAN.jpeg')"
   ]
  },
  {
   "cell_type": "markdown",
   "id": "228bcc87",
   "metadata": {},
   "source": [
    "### Comparaison Kmeans, PCA et DTW"
   ]
  },
  {
   "cell_type": "markdown",
   "id": "f5fff485",
   "metadata": {},
   "source": [
    "On va comparer l'algorithme de kmeans avec l'inertie. Le premier tableau est la moyenne et le deuxième la variance\n",
    "\n",
    "Ca peut être un peu long selon le nombre d'itération à faire (environ 1 minute 20 par itération)"
   ]
  },
  {
   "cell_type": "code",
   "execution_count": null,
   "id": "e3eae130",
   "metadata": {},
   "outputs": [],
   "source": [
    "%%time\n",
    "modeles_inertie=np.zeros((1,3,4))\n",
    "for k in range(1):\n",
    "    modeles_inertie[k]=np.array([[KMeans(n_clusters=3,max_iter=5000).fit(myseries_transformed).inertia_,KMeans(n_clusters=4,max_iter=5000).fit(myseries_transformed3).inertia_,KMeans(n_clusters=5,max_iter=5000).fit(myseries_transformed).inertia_,KMeans(n_clusters=6,max_iter=5000).fit(myseries_transformed).inertia_],\n",
    "                         [KMeans(n_clusters=3,max_iter=5000).fit(myseries).inertia_,KMeans(n_clusters=4,max_iter=5000).fit(myseries).inertia_,KMeans(n_clusters=5,max_iter=5000).fit(myseries).inertia_,KMeans(n_clusters=6,max_iter=5000).fit(myseries).inertia_],\n",
    "                          [TimeSeriesKMeans(n_clusters=3, metric=\"dtw\").fit(X).inertia_,TimeSeriesKMeans(n_clusters=4, metric=\"dtw\").fit(X).inertia_,TimeSeriesKMeans(n_clusters=5, metric=\"dtw\").fit(X).inertia_,TimeSeriesKMeans(n_clusters=6, metric=\"dtw\").fit(X).inertia_]])\n",
    "    print(k)\n"
   ]
  },
  {
   "cell_type": "code",
   "execution_count": null,
   "id": "40ff0312",
   "metadata": {},
   "outputs": [],
   "source": [
    "fig, ax =plt.subplots(1,1,figsize=(10,10))\n",
    "\n",
    "column_labels=[\"n=3\", \"n=4\", \"n=5\",\"n=6\"]\n",
    "row_labels=[\"PCA 3 Composantes\",\"Kmeans\",\"DTW\"]\n",
    "ax.axis('tight')\n",
    "ax.axis('off')\n",
    "ax.table(cellText=np.mean(modeles_inertie, axis=0),colLabels=column_labels,rowLabels=row_labels,loc=\"center\")\n",
    "\n",
    "plt.show()"
   ]
  },
  {
   "cell_type": "code",
   "execution_count": null,
   "id": "ea2cf665",
   "metadata": {},
   "outputs": [],
   "source": [
    "fig, ax =plt.subplots(1,1,figsize=(10,10))\n",
    "\n",
    "column_labels=[\"n=3\", \"n=4\", \"n=5\",\"n=6\"]\n",
    "row_labels=[\"PCA 3 Composantes\",\"Kmeans\",\"DTW\"]\n",
    "ax.axis('tight')\n",
    "ax.axis('off')\n",
    "ax.table(cellText=np.var(modeles_inertie, axis=0),colLabels=column_labels,rowLabels=row_labels,loc=\"center\")\n",
    "\n",
    "plt.show()"
   ]
  },
  {
   "cell_type": "markdown",
   "id": "328a306f",
   "metadata": {},
   "source": [
    "La DTW est beaucoup plus performante, on va donc la comparer aux autres algorithmes avec différentes mesures"
   ]
  },
  {
   "cell_type": "markdown",
   "id": "e2af3c0e",
   "metadata": {},
   "source": [
    "### Comparaison avec d'autres mesures de score"
   ]
  },
  {
   "cell_type": "markdown",
   "id": "73cd6f89",
   "metadata": {},
   "source": [
    "#### Silhouette score"
   ]
  },
  {
   "cell_type": "markdown",
   "id": "e48f14f0",
   "metadata": {},
   "source": [
    "On peut d'abord regarder le score silhouette \n",
    "\n",
    "Ca prend environ 3 minutes par itération"
   ]
  },
  {
   "cell_type": "code",
   "execution_count": null,
   "id": "654ff8b3",
   "metadata": {},
   "outputs": [],
   "source": [
    "%%time\n",
    "#modeles_silhouette=np.zeros((1,5,4))\n",
    "#a=silhouette_score2(X,DBSCAN(eps=e1,min_samples=n1,metric='precomputed').fit_predict(dtw_precomputed))\n",
    "#b=silhouette_score2(X,DBSCAN(eps=e2,min_samples=n2,metric='precomputed').fit_predict(dtw_precomputed))\n",
    "#c=np.array([silhouette_score2(X,AgglomerativeClustering(n_clusters=3,affinity='precomputed',linkage='complete').fit_predict(dtw_precomputed)),silhouette_score2(X,AgglomerativeClustering(n_clusters=4,affinity='precomputed',linkage='complete').fit_predict(dtw_precomputed)),silhouette_score2(X,AgglomerativeClustering(n_clusters=5,affinity='precomputed',linkage='complete').fit_predict(dtw_precomputed)),silhouette_score2(X,AgglomerativeClustering(n_clusters=6,affinity='precomputed',linkage='complete').fit_predict(dtw_precomputed))])\n",
    "#d= np.array([silhouette_score2(X,AgglomerativeClustering(n_clusters=3,affinity='precomputed',linkage='average').fit_predict(dtw_precomputed)),silhouette_score2(X,AgglomerativeClustering(n_clusters=4,affinity='precomputed',linkage='average').fit_predict(dtw_precomputed)),silhouette_score2(X,AgglomerativeClustering(n_clusters=5,affinity='precomputed',linkage='average').fit_predict(dtw_precomputed)),silhouette_score2(X,AgglomerativeClustering(n_clusters=6,affinity='precomputed',linkage='average').fit_predict(dtw_precomputed))])\n",
    "#for k in range(1):\n",
    "#    modeles_silhouette[k,0]=np.array([silhouette_score2(X,TimeSeriesKMeans(n_clusters=3, metric=\"dtw\").fit_predict(X)),silhouette_score2(X,TimeSeriesKMeans(n_clusters=4, metric=\"dtw\").fit_predict(X)),silhouette_score2(X,TimeSeriesKMeans(n_clusters=5, metric=\"dtw\").fit_predict(X)),silhouette_score2(X,TimeSeriesKMeans(n_clusters=6, metric=\"dtw\").fit_predict(X))])\n",
    "#    modeles_silhouette[k,1]=c\n",
    "#    modeles_silhouette[k,2]=d                                \n",
    "#    modeles_silhouette[k,3]=np.full(4,a)\n",
    "#    modeles_silhouette[k,4]=np.full(4,b)\n",
    "#    print(k)\n"
   ]
  },
  {
   "cell_type": "code",
   "execution_count": null,
   "id": "438d811d",
   "metadata": {},
   "outputs": [],
   "source": [
    "#fig, ax =plt.subplots(1,1,figsize=(10,10))\n",
    "\n",
    "#column_labels=[\"n=3\", \"n=4\", \"n=5\",\"n=6\"]\n",
    "#row_labels=[\"DTW\",\"HAC Complete\",\"HAC average\",\"DBSCAN eps=1,82 min_samples=2\",\"DBSCAN eps=1,72 min_samples=2\"]\n",
    "#ax.axis('tight')\n",
    "#ax.axis('off')\n",
    "#ax.table(cellText=np.mean(modeles_silhouette, axis=0),colLabels=column_labels,rowLabels=row_labels,loc=\"center\")\n",
    "\n",
    "#plt.show()"
   ]
  },
  {
   "cell_type": "code",
   "execution_count": null,
   "id": "124efc60",
   "metadata": {},
   "outputs": [],
   "source": [
    "#fig, ax =plt.subplots(1,1,figsize=(10,10))\n",
    "\n",
    "#column_labels=[\"n=3\", \"n=4\", \"n=5\",\"n=6\"]\n",
    "#row_labels=[\"DTW\",\"HAC Complete\",\"HAC average\",\"DBSCAN eps=1,82 min_samples=2\",\"DBSCAN eps=1,72 min_samples=2\"]\n",
    "#ax.axis('tight')\n",
    "#ax.axis('off')\n",
    "#ax.table(cellText=np.var(modeles_silhouette, axis=0),colLabels=column_labels,rowLabels=row_labels,loc=\"center\")\n",
    "\n",
    "#plt.show()"
   ]
  },
  {
   "cell_type": "markdown",
   "id": "06e5cfd2",
   "metadata": {},
   "source": [
    "#### Score de Calinski-Harabasz "
   ]
  },
  {
   "cell_type": "markdown",
   "id": "5c979c73",
   "metadata": {},
   "source": [
    "On regarde ensuite le score de Calinski-Harabasz.\n",
    "\n",
    "Ca prend 6 minutes par itération"
   ]
  },
  {
   "cell_type": "code",
   "execution_count": null,
   "id": "cbad2aa3",
   "metadata": {},
   "outputs": [],
   "source": [
    "def BGSS(X,labels):\n",
    "    bgss=0\n",
    "    C=dtw_barycenter_averaging(X)\n",
    "    for k in np.unique(labels):\n",
    "        n_k=len(np.where(labels==k)[0])\n",
    "        C_k=dtw_barycenter_averaging(X[np.where(labels==k)])\n",
    "        bgss+=n_k*dtw(C_k,C)**2\n",
    "    return bgss"
   ]
  },
  {
   "cell_type": "code",
   "execution_count": null,
   "id": "ee9d958d",
   "metadata": {},
   "outputs": [],
   "source": [
    "def WGSS(X,labels):\n",
    "    WGSS=0\n",
    "    for k in np.unique(labels):\n",
    "        WGSSk=0\n",
    "        C_k=dtw_barycenter_averaging(X[np.where(labels==k)])\n",
    "        for x in np.where(labels==k)[0]:\n",
    "            WGSSk+=dtw(C_k,X[x])**2\n",
    "        WGSS+=WGSSk\n",
    "    return WGSS"
   ]
  },
  {
   "cell_type": "code",
   "execution_count": null,
   "id": "e136bc84",
   "metadata": {},
   "outputs": [],
   "source": [
    "def Calinski_Harabasz_score(X,labels):\n",
    "    N=len(X)\n",
    "    K=len(np.unique(labels))\n",
    "    return BGSS(X,labels)*(N-K)/(WGSS(X,labels)*(K-1))"
   ]
  },
  {
   "cell_type": "code",
   "execution_count": null,
   "id": "d2e22ca1",
   "metadata": {},
   "outputs": [],
   "source": [
    "#%%time\n",
    "#modeles_calinski_harabasz=np.zeros((1,5,4))\n",
    "#a=Calinski_Harabasz_score(X,DBSCAN(eps=e1,min_samples=n1,metric='precomputed').fit_predict(dtw_precomputed))\n",
    "#b=Calinski_Harabasz_score(X,DBSCAN(eps=e2,min_samples=n2,metric='precomputed').fit_predict(dtw_precomputed))\n",
    "#c=np.array([Calinski_Harabasz_score(X,AgglomerativeClustering(n_clusters=3,affinity='precomputed',linkage='complete').fit_predict(dtw_precomputed)),Calinski_Harabasz_score(X,AgglomerativeClustering(n_clusters=4,affinity='precomputed',linkage='complete').fit_predict(dtw_precomputed)),Calinski_Harabasz_score(X,AgglomerativeClustering(n_clusters=5,affinity='precomputed',linkage='complete').fit_predict(dtw_precomputed)),Calinski_Harabasz_score(X,AgglomerativeClustering(n_clusters=6,affinity='precomputed',linkage='complete').fit_predict(dtw_precomputed))])\n",
    "#d=np.array([Calinski_Harabasz_score(X,AgglomerativeClustering(n_clusters=3,affinity='precomputed',linkage='average').fit_predict(dtw_precomputed)),Calinski_Harabasz_score(X,AgglomerativeClustering(n_clusters=4,affinity='precomputed',linkage='average').fit_predict(dtw_precomputed)),Calinski_Harabasz_score(X,AgglomerativeClustering(n_clusters=5,affinity='precomputed',linkage='average').fit_predict(dtw_precomputed)),Calinski_Harabasz_score(X,AgglomerativeClustering(n_clusters=6,affinity='precomputed',linkage='average').fit_predict(dtw_precomputed))])\n",
    "#for k in range(1):\n",
    "#    modeles_calinski_harabasz[k,0]=np.array([Calinski_Harabasz_score(X,TimeSeriesKMeans(n_clusters=3, metric=\"dtw\").fit_predict(X)),Calinski_Harabasz_score(X,TimeSeriesKMeans(n_clusters=4, metric=\"dtw\").fit_predict(X)),Calinski_Harabasz_score(X,TimeSeriesKMeans(n_clusters=5, metric=\"dtw\").fit_predict(X)),Calinski_Harabasz_score(X,TimeSeriesKMeans(n_clusters=6, metric=\"dtw\").fit_predict(X))])\n",
    "#    modeles_calinski_harabasz[k,1]=c\n",
    "#    modeles_calinski_harabasz[k,2]=d                                  \n",
    "#    modeles_calinski_harabasz[k,3]=np.full(4,a)\n",
    "#    modeles_calinski_harabasz[k,4]=np.full(4,b)\n",
    "#    print(k)\n"
   ]
  },
  {
   "cell_type": "code",
   "execution_count": null,
   "id": "4ec4d6ec",
   "metadata": {},
   "outputs": [],
   "source": [
    "#fig, ax =plt.subplots(1,1,figsize=(10,10))\n",
    "\n",
    "#column_labels=[\"n=3\", \"n=4\", \"n=5\",\"n=6\"]\n",
    "#row_labels=[\"DTW\",\"HAC Complete\",\"HAC average\",\"DBSCAN eps=1,82 min_samples=2\",\"DBSCAN eps=1,72 min_samples=2\"]\n",
    "#ax.axis('tight')\n",
    "#ax.axis('off')\n",
    "#ax.table(cellText=np.mean(modeles_calinski_harabasz, axis=0),colLabels=column_labels,rowLabels=row_labels,loc=\"center\")\n",
    "\n",
    "#plt.show()"
   ]
  },
  {
   "cell_type": "code",
   "execution_count": null,
   "id": "bc71b2b1",
   "metadata": {},
   "outputs": [],
   "source": [
    "#fig, ax =plt.subplots(1,1,figsize=(10,10))\n",
    "\n",
    "#column_labels=[\"n=3\", \"n=4\", \"n=5\",\"n=6\"]\n",
    "#row_labels=[\"DTW\",\"HAC Complete\",\"HAC average\",\"DBSCAN eps=1,82 min_samples=2\",\"DBSCAN eps=1,72 min_samples=2\"]\n",
    "#ax.axis('tight')\n",
    "#ax.axis('off')\n",
    "#ax.table(cellText=np.var(modeles_calinski_harabasz, axis=0),colLabels=column_labels,rowLabels=row_labels,loc=\"center\")\n",
    "\n",
    "#plt.show()"
   ]
  },
  {
   "cell_type": "markdown",
   "id": "049d9bbe",
   "metadata": {},
   "source": [
    "#### Davies-Bouldin score\n",
    "\n",
    "On fait de même avec le score de Davies-Bouldin.\n",
    "\n",
    "Une itération dure environ 32 minutes "
   ]
  },
  {
   "cell_type": "code",
   "execution_count": null,
   "id": "1dcb20e3",
   "metadata": {},
   "outputs": [],
   "source": [
    "def distance_intra_cluster(X,labels,k):\n",
    "    d=0\n",
    "    C_k=dtw_barycenter_averaging(X[np.where(labels==k)])\n",
    "    for x in np.where(labels==k)[0]:\n",
    "            d+=dtw(C_k,X[x])\n",
    "    return d"
   ]
  },
  {
   "cell_type": "code",
   "execution_count": null,
   "id": "75f7d382",
   "metadata": {},
   "outputs": [],
   "source": [
    "def Davies_Bouldin_score(X,labels):\n",
    "    K=len(np.unique(labels))\n",
    "    score=0\n",
    "    for k in np.unique(labels):\n",
    "        maxi=0\n",
    "        for k2 in np.unique(labels):\n",
    "            if k2!=k:\n",
    "                if (distance_intra_cluster(X,labels,k)+distance_intra_cluster(X,labels,k2))/dtw(dtw_barycenter_averaging(X[np.where(labels==k)]),dtw_barycenter_averaging(X[np.where(labels==k2)]))>maxi:\n",
    "                    maxi=(distance_intra_cluster(X,labels,k)+distance_intra_cluster(X,labels,k2))/dtw(dtw_barycenter_averaging(X[np.where(labels==k)]),dtw_barycenter_averaging(X[np.where(labels==k2)]))\n",
    "        score+=maxi\n",
    "    return score"
   ]
  },
  {
   "cell_type": "code",
   "execution_count": null,
   "id": "991d0171",
   "metadata": {},
   "outputs": [],
   "source": [
    "#%%time\n",
    "#modeles_davies_bouldin=np.zeros((1,5,4))\n",
    "#a=Davies_Bouldin_score(X,DBSCAN(eps=e1,min_samples=n1,metric='precomputed').fit_predict(dtw_precomputed))\n",
    "#b=Davies_Bouldin_score(X,DBSCAN(eps=e2,min_samples=n2,metric='precomputed').fit_predict(dtw_precomputed))\n",
    "#c=np.array([Davies_Bouldin_score(X,AgglomerativeClustering(n_clusters=3,affinity='precomputed',linkage='complete').fit_predict(dtw_precomputed)),Davies_Bouldin_score(X,AgglomerativeClustering(n_clusters=4,affinity='precomputed',linkage='complete').fit_predict(dtw_precomputed)),Davies_Bouldin_score(X,AgglomerativeClustering(n_clusters=5,affinity='precomputed',linkage='complete').fit_predict(dtw_precomputed)),Davies_Bouldin_score(X,AgglomerativeClustering(n_clusters=6,affinity='precomputed',linkage='complete').fit_predict(dtw_precomputed))])\n",
    "#d=np.array([Davies_Bouldin_score(X,AgglomerativeClustering(n_clusters=3,affinity='precomputed',linkage='average').fit_predict(dtw_precomputed)),Davies_Bouldin_score(X,AgglomerativeClustering(n_clusters=4,affinity='precomputed',linkage='average').fit_predict(dtw_precomputed)),Davies_Bouldin_score(X,AgglomerativeClustering(n_clusters=5,affinity='precomputed',linkage='average').fit_predict(dtw_precomputed)),Davies_Bouldin_score(X,AgglomerativeClustering(n_clusters=6,affinity='precomputed',linkage='average').fit_predict(dtw_precomputed))])\n",
    "#for k in range(1):\n",
    "#    modeles_davies_bouldin[k,0]=np.array([Davies_Bouldin_score(X,TimeSeriesKMeans(n_clusters=3, metric=\"dtw\").fit_predict(X)),Davies_Bouldin_score(X,TimeSeriesKMeans(n_clusters=4, metric=\"dtw\").fit_predict(X)),Davies_Bouldin_score(X,TimeSeriesKMeans(n_clusters=5, metric=\"dtw\").fit_predict(X)),Davies_Bouldin_score(X,TimeSeriesKMeans(n_clusters=6, metric=\"dtw\").fit_predict(X))])\n",
    "#    modeles_davies_bouldin[k,1]=c\n",
    "#    modeles_davies_bouldin[k,2]=d                                  \n",
    "#    modeles_davies_bouldin[k,3]=np.full(4,a)\n",
    "#    modeles_davies_bouldin[k,4]=np.full(4,b)\n",
    "#    print(k)\n"
   ]
  },
  {
   "cell_type": "code",
   "execution_count": null,
   "id": "5b947fcc",
   "metadata": {},
   "outputs": [],
   "source": [
    "#fig, ax =plt.subplots(1,1,figsize=(10,10))\n",
    "\n",
    "#column_labels=[\"n=3\", \"n=4\", \"n=5\",\"n=6\"]\n",
    "#row_labels=[\"DTW\",\"HAC Complete\",\"HAC average\",\"DBSCAN eps=1,82 min_samples=2\",\"DBSCAN eps=1,72 min_samples=2\"]\n",
    "#ax.axis('tight')\n",
    "#ax.axis('off')\n",
    "#ax.table(cellText=np.mean(modeles_davies_bouldin, axis=0),colLabels=column_labels,rowLabels=row_labels,loc=\"center\")\n",
    "\n",
    "#plt.show()\n"
   ]
  },
  {
   "cell_type": "code",
   "execution_count": null,
   "id": "3c4de992",
   "metadata": {},
   "outputs": [],
   "source": [
    "#fig, ax =plt.subplots(1,1,figsize=(10,10))\n",
    "\n",
    "#column_labels=[\"n=3\", \"n=4\", \"n=5\",\"n=6\"]\n",
    "#row_labels=[\"DTW\",\"HAC Complete\",\"HAC average\",\"DBSCAN eps=1,82 min_samples=2\",\"DBSCAN eps=1,72 min_samples=2\"]\n",
    "#ax.axis('tight')\n",
    "#ax.axis('off')\n",
    "#ax.table(cellText=np.var(modeles_davies_bouldin, axis=0),colLabels=column_labels,rowLabels=row_labels,loc=\"center\")\n",
    "\n",
    "#plt.show()"
   ]
  },
  {
   "cell_type": "markdown",
   "id": "35a2219e",
   "metadata": {},
   "source": [
    "### Toujours ensemble 3 clusters"
   ]
  },
  {
   "cell_type": "markdown",
   "id": "388761c1",
   "metadata": {},
   "source": [
    "On regarde ensuite les indices qui sont toujours regroupés ensemble. On va le faire quand on prend 3 clusters puis 4 puis 5 et enfin 6"
   ]
  },
  {
   "cell_type": "code",
   "execution_count": null,
   "id": "fbcd75de",
   "metadata": {},
   "outputs": [],
   "source": [
    "def toujours_ensemble(i,j,*args):\n",
    "    for k in args:\n",
    "        if k[i]!=k[j]:\n",
    "            return False\n",
    "    return True"
   ]
  },
  {
   "cell_type": "code",
   "execution_count": null,
   "id": "005cff07",
   "metadata": {},
   "outputs": [],
   "source": [
    "def dans_liste_de_liste(l,i):\n",
    "    for k in l:\n",
    "        if i in k:\n",
    "            return True\n",
    "    return False"
   ]
  },
  {
   "cell_type": "code",
   "execution_count": null,
   "id": "6cca080c",
   "metadata": {},
   "outputs": [],
   "source": [
    "def indices_toujours_ensemble(*args):\n",
    "    l=[]\n",
    "    for i in range(125):\n",
    "        li=[]\n",
    "        if not dans_liste_de_liste(l,indice_produit[i]):\n",
    "            for j in range(125):\n",
    "                if toujours_ensemble(i,j,*args):\n",
    "                    li.append(indice_produit[j])\n",
    "            if len(li)>1:\n",
    "                l.append(li)\n",
    "    return l"
   ]
  },
  {
   "cell_type": "code",
   "execution_count": null,
   "id": "b11d2286",
   "metadata": {},
   "outputs": [],
   "source": [
    "c_trois=TimeSeriesKMeans(n_clusters=3, metric=\"dtw\").fit_predict(X)"
   ]
  },
  {
   "cell_type": "code",
   "execution_count": null,
   "id": "476a0bbf",
   "metadata": {},
   "outputs": [],
   "source": [
    "argument3=c_trois,TimeSeriesKMeans(n_clusters=3, metric=\"dtw\").fit_predict(X),TimeSeriesKMeans(n_clusters=3, metric=\"dtw\").fit_predict(X),TimeSeriesKMeans(n_clusters=3, metric=\"dtw\").fit_predict(X),TimeSeriesKMeans(n_clusters=3, metric=\"dtw\").fit_predict(X),TimeSeriesKMeans(n_clusters=3, metric=\"dtw\").fit_predict(X),TimeSeriesKMeans(n_clusters=3, metric=\"dtw\").fit_predict(X),TimeSeriesKMeans(n_clusters=3, metric=\"dtw\").fit_predict(X),TimeSeriesKMeans(n_clusters=3, metric=\"dtw\").fit_predict(X),TimeSeriesKMeans(n_clusters=3, metric=\"dtw\").fit_predict(X),AgglomerativeClustering(n_clusters=3,affinity='precomputed',linkage='complete').fit_predict(dtw_precomputed)"
   ]
  },
  {
   "cell_type": "code",
   "execution_count": null,
   "id": "0e85cd0d",
   "metadata": {},
   "outputs": [],
   "source": [
    "%%time\n",
    "\n",
    "a=indices_toujours_ensemble(*argument3)"
   ]
  },
  {
   "cell_type": "code",
   "execution_count": null,
   "id": "4c82e7b2",
   "metadata": {},
   "outputs": [],
   "source": [
    "len(a)"
   ]
  },
  {
   "cell_type": "code",
   "execution_count": null,
   "id": "549cc423",
   "metadata": {},
   "outputs": [],
   "source": [
    "sum([len(k) for k in a])"
   ]
  },
  {
   "cell_type": "code",
   "execution_count": null,
   "id": "cd794131",
   "metadata": {},
   "outputs": [],
   "source": [
    "[len(k) for k in a]"
   ]
  },
  {
   "cell_type": "markdown",
   "id": "6244fcc7",
   "metadata": {},
   "source": [
    "### Toujours ensemble 4 clusters "
   ]
  },
  {
   "cell_type": "code",
   "execution_count": null,
   "id": "afb17ff8",
   "metadata": {},
   "outputs": [],
   "source": [
    "c_quatre=TimeSeriesKMeans(n_clusters=4, metric=\"dtw\").fit_predict(X)"
   ]
  },
  {
   "cell_type": "code",
   "execution_count": null,
   "id": "1cbfa246",
   "metadata": {},
   "outputs": [],
   "source": [
    "argument4=c_quatre,TimeSeriesKMeans(n_clusters=4, metric=\"dtw\").fit_predict(X),TimeSeriesKMeans(n_clusters=4, metric=\"dtw\").fit_predict(X),TimeSeriesKMeans(n_clusters=4, metric=\"dtw\").fit_predict(X),TimeSeriesKMeans(n_clusters=4, metric=\"dtw\").fit_predict(X),TimeSeriesKMeans(n_clusters=4, metric=\"dtw\").fit_predict(X),TimeSeriesKMeans(n_clusters=4, metric=\"dtw\").fit_predict(X),TimeSeriesKMeans(n_clusters=4, metric=\"dtw\").fit_predict(X),TimeSeriesKMeans(n_clusters=4, metric=\"dtw\").fit_predict(X),TimeSeriesKMeans(n_clusters=4, metric=\"dtw\").fit_predict(X),AgglomerativeClustering(n_clusters=4,affinity='precomputed',linkage='complete').fit_predict(dtw_precomputed)"
   ]
  },
  {
   "cell_type": "code",
   "execution_count": null,
   "id": "24ed5ae5",
   "metadata": {},
   "outputs": [],
   "source": [
    "b=indices_toujours_ensemble(*argument4)"
   ]
  },
  {
   "cell_type": "code",
   "execution_count": null,
   "id": "d0a42669",
   "metadata": {},
   "outputs": [],
   "source": [
    "len(b)"
   ]
  },
  {
   "cell_type": "code",
   "execution_count": null,
   "id": "1540faec",
   "metadata": {},
   "outputs": [],
   "source": [
    "sum([len(k) for k in b])"
   ]
  },
  {
   "cell_type": "code",
   "execution_count": null,
   "id": "7e3c4f51",
   "metadata": {},
   "outputs": [],
   "source": [
    "[len(k) for k in b]"
   ]
  },
  {
   "cell_type": "code",
   "execution_count": null,
   "id": "b2e83e93",
   "metadata": {},
   "outputs": [],
   "source": [
    "b[1]"
   ]
  },
  {
   "cell_type": "markdown",
   "id": "0eef189f",
   "metadata": {},
   "source": [
    "### Toujours ensemble 5 clusters"
   ]
  },
  {
   "cell_type": "code",
   "execution_count": null,
   "id": "662a0e54",
   "metadata": {},
   "outputs": [],
   "source": [
    "c_cinq=TimeSeriesKMeans(n_clusters=5, metric=\"dtw\").fit_predict(X)"
   ]
  },
  {
   "cell_type": "code",
   "execution_count": null,
   "id": "8d3eba96",
   "metadata": {},
   "outputs": [],
   "source": [
    "argument5=c_cinq,TimeSeriesKMeans(n_clusters=5, metric=\"dtw\").fit_predict(X),TimeSeriesKMeans(n_clusters=5, metric=\"dtw\").fit_predict(X),TimeSeriesKMeans(n_clusters=5, metric=\"dtw\").fit_predict(X),TimeSeriesKMeans(n_clusters=5, metric=\"dtw\").fit_predict(X),TimeSeriesKMeans(n_clusters=5, metric=\"dtw\").fit_predict(X),TimeSeriesKMeans(n_clusters=5, metric=\"dtw\").fit_predict(X),TimeSeriesKMeans(n_clusters=5, metric=\"dtw\").fit_predict(X),TimeSeriesKMeans(n_clusters=5, metric=\"dtw\").fit_predict(X),TimeSeriesKMeans(n_clusters=5, metric=\"dtw\").fit_predict(X),AgglomerativeClustering(n_clusters=5,affinity='precomputed',linkage='complete').fit_predict(dtw_precomputed)"
   ]
  },
  {
   "cell_type": "code",
   "execution_count": null,
   "id": "077a7714",
   "metadata": {},
   "outputs": [],
   "source": [
    "c=indices_toujours_ensemble(*argument5)"
   ]
  },
  {
   "cell_type": "code",
   "execution_count": null,
   "id": "ac295137",
   "metadata": {},
   "outputs": [],
   "source": [
    "len(c)"
   ]
  },
  {
   "cell_type": "code",
   "execution_count": null,
   "id": "e5b329e0",
   "metadata": {},
   "outputs": [],
   "source": [
    "sum([len(k) for k in c])"
   ]
  },
  {
   "cell_type": "code",
   "execution_count": null,
   "id": "77bcc0d5",
   "metadata": {},
   "outputs": [],
   "source": [
    "[len(k) for k in c]"
   ]
  },
  {
   "cell_type": "code",
   "execution_count": null,
   "id": "01c99b8a",
   "metadata": {},
   "outputs": [],
   "source": [
    "c[0]"
   ]
  },
  {
   "cell_type": "markdown",
   "id": "92584aa1",
   "metadata": {},
   "source": [
    "### Toujours ensemble 6 clusters"
   ]
  },
  {
   "cell_type": "code",
   "execution_count": null,
   "id": "17644808",
   "metadata": {},
   "outputs": [],
   "source": [
    "c_six=TimeSeriesKMeans(n_clusters=6, metric=\"dtw\").fit_predict(X)"
   ]
  },
  {
   "cell_type": "code",
   "execution_count": null,
   "id": "0338bd0a",
   "metadata": {},
   "outputs": [],
   "source": [
    "argument6=c_six,TimeSeriesKMeans(n_clusters=6, metric=\"dtw\").fit_predict(X),TimeSeriesKMeans(n_clusters=6, metric=\"dtw\").fit_predict(X),TimeSeriesKMeans(n_clusters=6, metric=\"dtw\").fit_predict(X),TimeSeriesKMeans(n_clusters=6, metric=\"dtw\").fit_predict(X),TimeSeriesKMeans(n_clusters=6, metric=\"dtw\").fit_predict(X),TimeSeriesKMeans(n_clusters=6, metric=\"dtw\").fit_predict(X),TimeSeriesKMeans(n_clusters=6, metric=\"dtw\").fit_predict(X),TimeSeriesKMeans(n_clusters=6, metric=\"dtw\").fit_predict(X),TimeSeriesKMeans(n_clusters=6, metric=\"dtw\").fit_predict(X),AgglomerativeClustering(n_clusters=6,affinity='precomputed',linkage='complete').fit_predict(dtw_precomputed)"
   ]
  },
  {
   "cell_type": "code",
   "execution_count": null,
   "id": "d9d3815d",
   "metadata": {},
   "outputs": [],
   "source": [
    "d=indices_toujours_ensemble(*argument6)"
   ]
  },
  {
   "cell_type": "code",
   "execution_count": null,
   "id": "f2351f8c",
   "metadata": {},
   "outputs": [],
   "source": [
    "len(d)"
   ]
  },
  {
   "cell_type": "code",
   "execution_count": null,
   "id": "ac38a631",
   "metadata": {},
   "outputs": [],
   "source": [
    "sum([len(k) for k in d])"
   ]
  },
  {
   "cell_type": "code",
   "execution_count": null,
   "id": "b080142c",
   "metadata": {},
   "outputs": [],
   "source": [
    "[len(k) for k in d]"
   ]
  },
  {
   "cell_type": "markdown",
   "id": "f8bd26c2",
   "metadata": {},
   "source": [
    "Cette dernière ligne permet de traçer les séries des indices d'une certaine liste. Il faut remplacer a[1] par la liste d'indice que vous voulez.\n",
    "\n",
    "/!\\ Si liste de longueur plus petite que 4 enlever le row_i dans axs"
   ]
  },
  {
   "cell_type": "code",
   "execution_count": null,
   "id": "94517605",
   "metadata": {},
   "outputs": [],
   "source": [
    "#fig, axs = plt.subplots(len(a[1])//4+1,4,figsize=(25,35))\n",
    "#row_i=0\n",
    "#column_j=0\n",
    "#for i in a[1]:\n",
    "#    axs[row_i,column_j].plot(indice_temps[np.where(indice_produit==i)[0][0]],myseries2[np.where(indice_produit==i)[0][0]],c=\"blue\")\n",
    "#    column_j+=1\n",
    "#    if column_j%4==0:\n",
    "#        row_i+=1\n",
    "#        column_j=0\n",
    "     \n",
    "#plt.show()"
   ]
  },
  {
   "cell_type": "code",
   "execution_count": null,
   "id": "e4c463a0",
   "metadata": {},
   "outputs": [],
   "source": []
  }
 ],
 "metadata": {
  "colab": {
   "name": "forecasting.ipynb",
   "provenance": []
  },
  "kernelspec": {
   "display_name": "Python 3 (ipykernel)",
   "language": "python",
   "name": "python3"
  },
  "language_info": {
   "codemirror_mode": {
    "name": "ipython",
    "version": 3
   },
   "file_extension": ".py",
   "mimetype": "text/x-python",
   "name": "python",
   "nbconvert_exporter": "python",
   "pygments_lexer": "ipython3",
   "version": "3.9.12"
  },
  "toc": {
   "base_numbering": 1,
   "nav_menu": {},
   "number_sections": true,
   "sideBar": true,
   "skip_h1_title": true,
   "title_cell": "Table of Contents",
   "title_sidebar": "Contents",
   "toc_cell": false,
   "toc_position": {},
   "toc_section_display": true,
   "toc_window_display": false
  }
 },
 "nbformat": 4,
 "nbformat_minor": 5
}
